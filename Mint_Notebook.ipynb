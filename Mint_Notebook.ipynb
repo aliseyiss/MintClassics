{
    "metadata": {
        "kernelspec": {
            "name": "SQL",
            "display_name": "SQL",
            "language": "sql"
        },
        "language_info": {
            "name": "sql",
            "version": ""
        }
    },
    "nbformat_minor": 2,
    "nbformat": 4,
    "cells": [
        {
            "cell_type": "markdown",
            "source": [
                "<span style=\"color: rgb(0, 128, 0);\"><b>List the items to explore the stored and ordered products.</b></span>"
            ],
            "metadata": {
                "azdata_cell_guid": "7d83aef8-0833-4e07-8acc-7e5421be08ff"
            },
            "attachments": {}
        },
        {
            "cell_type": "code",
            "source": [
                "--CREATE VIEW itemsStored AS\n",
                "SELECT  p.productCode\n",
                "        ,p.productName\n",
                "        ,p.quantityInStock\n",
                "        ,SUM(od.quantityOrdered) AS totalItemsOrdered\n",
                "FROM project.products p  \n",
                "    LEFT JOIN project.orderdetails od\n",
                "        ON p.productCode = od.productCode\n",
                "GROUP BY    p.productCode\n",
                "            ,p.productName\n",
                "            ,p.quantityInStock;"
            ],
            "metadata": {
                "azdata_cell_guid": "9b79b78e-565e-4777-bdc5-f11ec5a1c082",
                "language": "sql"
            },
            "outputs": [
                {
                    "output_type": "display_data",
                    "data": {
                        "text/html": "(110 row(s) affected)"
                    },
                    "metadata": {}
                },
                {
                    "output_type": "display_data",
                    "data": {
                        "text/html": "Total execution time: 00:00:01.080"
                    },
                    "metadata": {}
                },
                {
                    "output_type": "execute_result",
                    "execution_count": 2,
                    "data": {
                        "application/vnd.dataresource+json": {
                            "schema": {
                                "fields": [
                                    {
                                        "name": "productCode"
                                    },
                                    {
                                        "name": "productName"
                                    },
                                    {
                                        "name": "quantityInStock"
                                    },
                                    {
                                        "name": "totalItemsOrdered"
                                    }
                                ]
                            },
                            "data": [
                                {
                                    "productCode": "S10_1678",
                                    "productName": "1969 Harley Davidson Ultimate Chopper",
                                    "quantityInStock": "7933",
                                    "totalItemsOrdered": "1057"
                                },
                                {
                                    "productCode": "S10_1949",
                                    "productName": "1952 Alpine Renault 1300",
                                    "quantityInStock": "7305",
                                    "totalItemsOrdered": "961"
                                },
                                {
                                    "productCode": "S10_2016",
                                    "productName": "1996 Moto Guzzi 1100i",
                                    "quantityInStock": "6625",
                                    "totalItemsOrdered": "999"
                                },
                                {
                                    "productCode": "S10_4698",
                                    "productName": "2003 Harley-Davidson Eagle Drag Bike",
                                    "quantityInStock": "5582",
                                    "totalItemsOrdered": "985"
                                },
                                {
                                    "productCode": "S10_4757",
                                    "productName": "1972 Alfa Romeo GTA",
                                    "quantityInStock": "3252",
                                    "totalItemsOrdered": "1030"
                                },
                                {
                                    "productCode": "S10_4962",
                                    "productName": "1962 LanciaA Delta 16V",
                                    "quantityInStock": "6791",
                                    "totalItemsOrdered": "932"
                                },
                                {
                                    "productCode": "S12_1099",
                                    "productName": "1968 Ford Mustang",
                                    "quantityInStock": "68",
                                    "totalItemsOrdered": "933"
                                },
                                {
                                    "productCode": "S12_1108",
                                    "productName": "2001 Ferrari Enzo",
                                    "quantityInStock": "3619",
                                    "totalItemsOrdered": "1019"
                                },
                                {
                                    "productCode": "S12_1666",
                                    "productName": "1958 Setra Bus",
                                    "quantityInStock": "1579",
                                    "totalItemsOrdered": "972"
                                },
                                {
                                    "productCode": "S12_2823",
                                    "productName": "2002 Suzuki XREO",
                                    "quantityInStock": "9997",
                                    "totalItemsOrdered": "1028"
                                },
                                {
                                    "productCode": "S12_3148",
                                    "productName": "1969 Corvair Monza",
                                    "quantityInStock": "6906",
                                    "totalItemsOrdered": "963"
                                },
                                {
                                    "productCode": "S12_3380",
                                    "productName": "1968 Dodge Charger",
                                    "quantityInStock": "9123",
                                    "totalItemsOrdered": "925"
                                },
                                {
                                    "productCode": "S12_3891",
                                    "productName": "1969 Ford Falcon",
                                    "quantityInStock": "1049",
                                    "totalItemsOrdered": "965"
                                },
                                {
                                    "productCode": "S12_3990",
                                    "productName": "1970 Plymouth Hemi Cuda",
                                    "quantityInStock": "5663",
                                    "totalItemsOrdered": "900"
                                },
                                {
                                    "productCode": "S12_4473",
                                    "productName": "1957 Chevy Pickup",
                                    "quantityInStock": "6125",
                                    "totalItemsOrdered": "1056"
                                },
                                {
                                    "productCode": "S12_4675",
                                    "productName": "1969 Dodge Charger",
                                    "quantityInStock": "7323",
                                    "totalItemsOrdered": "992"
                                },
                                {
                                    "productCode": "S18_1097",
                                    "productName": "1940 Ford Pickup Truck",
                                    "quantityInStock": "2613",
                                    "totalItemsOrdered": "999"
                                },
                                {
                                    "productCode": "S18_1129",
                                    "productName": "1993 Mazda RX-7",
                                    "quantityInStock": "3975",
                                    "totalItemsOrdered": "947"
                                },
                                {
                                    "productCode": "S18_1342",
                                    "productName": "1937 Lincoln Berline",
                                    "quantityInStock": "8693",
                                    "totalItemsOrdered": "1111"
                                },
                                {
                                    "productCode": "S18_1367",
                                    "productName": "1936 Mercedes-Benz 500K Special Roadster",
                                    "quantityInStock": "8635",
                                    "totalItemsOrdered": "960"
                                },
                                {
                                    "productCode": "S18_1589",
                                    "productName": "1965 Aston Martin DB5",
                                    "quantityInStock": "9042",
                                    "totalItemsOrdered": "914"
                                },
                                {
                                    "productCode": "S18_1662",
                                    "productName": "1980s Black Hawk Helicopter",
                                    "quantityInStock": "5330",
                                    "totalItemsOrdered": "1040"
                                },
                                {
                                    "productCode": "S18_1749",
                                    "productName": "1917 Grand Touring Sedan",
                                    "quantityInStock": "2724",
                                    "totalItemsOrdered": "918"
                                },
                                {
                                    "productCode": "S18_1889",
                                    "productName": "1948 Porsche 356-A Roadster",
                                    "quantityInStock": "8826",
                                    "totalItemsOrdered": "972"
                                },
                                {
                                    "productCode": "S18_1984",
                                    "productName": "1995 Honda Civic",
                                    "quantityInStock": "9772",
                                    "totalItemsOrdered": "917"
                                },
                                {
                                    "productCode": "S18_2238",
                                    "productName": "1998 Chrysler Plymouth Prowler",
                                    "quantityInStock": "4724",
                                    "totalItemsOrdered": "986"
                                },
                                {
                                    "productCode": "S18_2248",
                                    "productName": "1911 Ford Town Car",
                                    "quantityInStock": "540",
                                    "totalItemsOrdered": "832"
                                },
                                {
                                    "productCode": "S18_2319",
                                    "productName": "1964 Mercedes Tour Bus",
                                    "quantityInStock": "8258",
                                    "totalItemsOrdered": "1053"
                                },
                                {
                                    "productCode": "S18_2325",
                                    "productName": "1932 Model A Ford J-Coupe",
                                    "quantityInStock": "9354",
                                    "totalItemsOrdered": "957"
                                },
                                {
                                    "productCode": "S18_2432",
                                    "productName": "1926 Ford Fire Engine",
                                    "quantityInStock": "2018",
                                    "totalItemsOrdered": "998"
                                },
                                {
                                    "productCode": "S18_2581",
                                    "productName": "P-51-D Mustang",
                                    "quantityInStock": "992",
                                    "totalItemsOrdered": "917"
                                },
                                {
                                    "productCode": "S18_2625",
                                    "productName": "1936 Harley Davidson El Knucklehead",
                                    "quantityInStock": "4357",
                                    "totalItemsOrdered": "945"
                                },
                                {
                                    "productCode": "S18_2795",
                                    "productName": "1928 Mercedes-Benz SSK",
                                    "quantityInStock": "548",
                                    "totalItemsOrdered": "880"
                                },
                                {
                                    "productCode": "S18_2870",
                                    "productName": "1999 Indy 500 Monte Carlo SS",
                                    "quantityInStock": "8164",
                                    "totalItemsOrdered": "855"
                                },
                                {
                                    "productCode": "S18_2949",
                                    "productName": "1913 Ford Model T Speedster",
                                    "quantityInStock": "4189",
                                    "totalItemsOrdered": "1038"
                                },
                                {
                                    "productCode": "S18_2957",
                                    "productName": "1934 Ford V8 Coupe",
                                    "quantityInStock": "5649",
                                    "totalItemsOrdered": "985"
                                },
                                {
                                    "productCode": "S18_3029",
                                    "productName": "1999 Yamaha Speed Boat",
                                    "quantityInStock": "4259",
                                    "totalItemsOrdered": "966"
                                },
                                {
                                    "productCode": "S18_3136",
                                    "productName": "18th Century Vintage Horse Carriage",
                                    "quantityInStock": "5992",
                                    "totalItemsOrdered": "907"
                                },
                                {
                                    "productCode": "S18_3140",
                                    "productName": "1903 Ford Model A",
                                    "quantityInStock": "3913",
                                    "totalItemsOrdered": "883"
                                },
                                {
                                    "productCode": "S18_3232",
                                    "productName": "1992 Ferrari 360 Spider red",
                                    "quantityInStock": "8347",
                                    "totalItemsOrdered": "1808"
                                },
                                {
                                    "productCode": "S18_3233",
                                    "productName": "1985 Toyota Supra",
                                    "quantityInStock": "7733",
                                    "totalItemsOrdered": "NULL"
                                },
                                {
                                    "productCode": "S18_3259",
                                    "productName": "Collectable Wooden Train",
                                    "quantityInStock": "6450",
                                    "totalItemsOrdered": "918"
                                },
                                {
                                    "productCode": "S18_3278",
                                    "productName": "1969 Dodge Super Bee",
                                    "quantityInStock": "1917",
                                    "totalItemsOrdered": "974"
                                },
                                {
                                    "productCode": "S18_3320",
                                    "productName": "1917 Maxwell Touring Car",
                                    "quantityInStock": "7913",
                                    "totalItemsOrdered": "992"
                                },
                                {
                                    "productCode": "S18_3482",
                                    "productName": "1976 Ford Gran Torino",
                                    "quantityInStock": "9127",
                                    "totalItemsOrdered": "915"
                                },
                                {
                                    "productCode": "S18_3685",
                                    "productName": "1948 Porsche Type 356 Roadster",
                                    "quantityInStock": "8990",
                                    "totalItemsOrdered": "948"
                                },
                                {
                                    "productCode": "S18_3782",
                                    "productName": "1957 Vespa GS150",
                                    "quantityInStock": "7689",
                                    "totalItemsOrdered": "959"
                                },
                                {
                                    "productCode": "S18_3856",
                                    "productName": "1941 Chevrolet Special Deluxe Cabriolet",
                                    "quantityInStock": "2378",
                                    "totalItemsOrdered": "1076"
                                },
                                {
                                    "productCode": "S18_4027",
                                    "productName": "1970 Triumph Spitfire",
                                    "quantityInStock": "5545",
                                    "totalItemsOrdered": "945"
                                },
                                {
                                    "productCode": "S18_4409",
                                    "productName": "1932 Alfa Romeo 8C2300 Spider Sport",
                                    "quantityInStock": "6553",
                                    "totalItemsOrdered": "866"
                                },
                                {
                                    "productCode": "S18_4522",
                                    "productName": "1904 Buick Runabout",
                                    "quantityInStock": "8290",
                                    "totalItemsOrdered": "990"
                                },
                                {
                                    "productCode": "S18_4600",
                                    "productName": "1940s Ford truck",
                                    "quantityInStock": "3128",
                                    "totalItemsOrdered": "1061"
                                },
                                {
                                    "productCode": "S18_4668",
                                    "productName": "1939 Cadillac Limousine",
                                    "quantityInStock": "6645",
                                    "totalItemsOrdered": "995"
                                },
                                {
                                    "productCode": "S18_4721",
                                    "productName": "1957 Corvette Convertible",
                                    "quantityInStock": "1249",
                                    "totalItemsOrdered": "1013"
                                },
                                {
                                    "productCode": "S18_4933",
                                    "productName": "1957 Ford Thunderbird",
                                    "quantityInStock": "3209",
                                    "totalItemsOrdered": "767"
                                },
                                {
                                    "productCode": "S24_1046",
                                    "productName": "1970 Chevy Chevelle SS 454",
                                    "quantityInStock": "1005",
                                    "totalItemsOrdered": "803"
                                },
                                {
                                    "productCode": "S24_1444",
                                    "productName": "1970 Dodge Coronet",
                                    "quantityInStock": "4074",
                                    "totalItemsOrdered": "976"
                                },
                                {
                                    "productCode": "S24_1578",
                                    "productName": "1997 BMW R 1100 S",
                                    "quantityInStock": "7003",
                                    "totalItemsOrdered": "1033"
                                },
                                {
                                    "productCode": "S24_1628",
                                    "productName": "1966 Shelby Cobra 427 S/C",
                                    "quantityInStock": "8197",
                                    "totalItemsOrdered": "915"
                                },
                                {
                                    "productCode": "S24_1785",
                                    "productName": "1928 British Royal Navy Airplane",
                                    "quantityInStock": "3627",
                                    "totalItemsOrdered": "972"
                                },
                                {
                                    "productCode": "S24_1937",
                                    "productName": "1939 Chevrolet Deluxe Coupe",
                                    "quantityInStock": "7332",
                                    "totalItemsOrdered": "937"
                                },
                                {
                                    "productCode": "S24_2000",
                                    "productName": "1960 BSA Gold Star DBD34",
                                    "quantityInStock": "15",
                                    "totalItemsOrdered": "1015"
                                },
                                {
                                    "productCode": "S24_2011",
                                    "productName": "18th century schooner",
                                    "quantityInStock": "1898",
                                    "totalItemsOrdered": "1011"
                                },
                                {
                                    "productCode": "S24_2022",
                                    "productName": "1938 Cadillac V-16 Presidential Limousine",
                                    "quantityInStock": "2847",
                                    "totalItemsOrdered": "955"
                                },
                                {
                                    "productCode": "S24_2300",
                                    "productName": "1962 Volkswagen Microbus",
                                    "quantityInStock": "2327",
                                    "totalItemsOrdered": "1029"
                                },
                                {
                                    "productCode": "S24_2360",
                                    "productName": "1982 Ducati 900 Monster",
                                    "quantityInStock": "6840",
                                    "totalItemsOrdered": "947"
                                },
                                {
                                    "productCode": "S24_2766",
                                    "productName": "1949 Jaguar XK 120",
                                    "quantityInStock": "2350",
                                    "totalItemsOrdered": "949"
                                },
                                {
                                    "productCode": "S24_2840",
                                    "productName": "1958 Chevy Corvette Limited Edition",
                                    "quantityInStock": "2542",
                                    "totalItemsOrdered": "983"
                                },
                                {
                                    "productCode": "S24_2841",
                                    "productName": "1900s Vintage Bi-Plane",
                                    "quantityInStock": "5942",
                                    "totalItemsOrdered": "940"
                                },
                                {
                                    "productCode": "S24_2887",
                                    "productName": "1952 Citroen-15CV",
                                    "quantityInStock": "1452",
                                    "totalItemsOrdered": "873"
                                },
                                {
                                    "productCode": "S24_2972",
                                    "productName": "1982 Lamborghini Diablo",
                                    "quantityInStock": "7723",
                                    "totalItemsOrdered": "912"
                                },
                                {
                                    "productCode": "S24_3151",
                                    "productName": "1912 Ford Model T Delivery Wagon",
                                    "quantityInStock": "9173",
                                    "totalItemsOrdered": "991"
                                },
                                {
                                    "productCode": "S24_3191",
                                    "productName": "1969 Chevrolet Camaro Z28",
                                    "quantityInStock": "4695",
                                    "totalItemsOrdered": "870"
                                },
                                {
                                    "productCode": "S24_3371",
                                    "productName": "1971 Alpine Renault 1600s",
                                    "quantityInStock": "7995",
                                    "totalItemsOrdered": "969"
                                },
                                {
                                    "productCode": "S24_3420",
                                    "productName": "1937 Horch 930V Limousine",
                                    "quantityInStock": "2902",
                                    "totalItemsOrdered": "884"
                                },
                                {
                                    "productCode": "S24_3432",
                                    "productName": "2002 Chevy Corvette",
                                    "quantityInStock": "9446",
                                    "totalItemsOrdered": "894"
                                },
                                {
                                    "productCode": "S24_3816",
                                    "productName": "1940 Ford Delivery Sedan",
                                    "quantityInStock": "6621",
                                    "totalItemsOrdered": "923"
                                },
                                {
                                    "productCode": "S24_3856",
                                    "productName": "1956 Porsche 356A Coupe",
                                    "quantityInStock": "6600",
                                    "totalItemsOrdered": "1052"
                                },
                                {
                                    "productCode": "S24_3949",
                                    "productName": "Corsair F4U ( Bird Cage)",
                                    "quantityInStock": "6812",
                                    "totalItemsOrdered": "1051"
                                },
                                {
                                    "productCode": "S24_3969",
                                    "productName": "1936 Mercedes Benz 500k Roadster",
                                    "quantityInStock": "2081",
                                    "totalItemsOrdered": "824"
                                },
                                {
                                    "productCode": "S24_4048",
                                    "productName": "1992 Porsche Cayenne Turbo Silver",
                                    "quantityInStock": "6582",
                                    "totalItemsOrdered": "867"
                                },
                                {
                                    "productCode": "S24_4258",
                                    "productName": "1936 Chrysler Airflow",
                                    "quantityInStock": "4710",
                                    "totalItemsOrdered": "983"
                                },
                                {
                                    "productCode": "S24_4278",
                                    "productName": "1900s Vintage Tri-Plane",
                                    "quantityInStock": "2756",
                                    "totalItemsOrdered": "1009"
                                },
                                {
                                    "productCode": "S24_4620",
                                    "productName": "1961 Chevrolet Impala",
                                    "quantityInStock": "7869",
                                    "totalItemsOrdered": "941"
                                },
                                {
                                    "productCode": "S32_1268",
                                    "productName": "1980’s GM Manhattan Express",
                                    "quantityInStock": "5099",
                                    "totalItemsOrdered": "911"
                                },
                                {
                                    "productCode": "S32_1374",
                                    "productName": "1997 BMW F650 ST",
                                    "quantityInStock": "178",
                                    "totalItemsOrdered": "1014"
                                },
                                {
                                    "productCode": "S32_2206",
                                    "productName": "1982 Ducati 996 R",
                                    "quantityInStock": "9241",
                                    "totalItemsOrdered": "906"
                                },
                                {
                                    "productCode": "S32_2509",
                                    "productName": "1954 Greyhound Scenicruiser",
                                    "quantityInStock": "2874",
                                    "totalItemsOrdered": "955"
                                },
                                {
                                    "productCode": "S32_3207",
                                    "productName": "1950's Chicago Surface Lines Streetcar",
                                    "quantityInStock": "8601",
                                    "totalItemsOrdered": "934"
                                },
                                {
                                    "productCode": "S32_3522",
                                    "productName": "1996 Peterbilt 379 Stake Bed with Outrigger",
                                    "quantityInStock": "814",
                                    "totalItemsOrdered": "988"
                                },
                                {
                                    "productCode": "S32_4289",
                                    "productName": "1928 Ford Phaeton Deluxe",
                                    "quantityInStock": "136",
                                    "totalItemsOrdered": "972"
                                },
                                {
                                    "productCode": "S32_4485",
                                    "productName": "1974 Ducati 350 Mk3 Desmo",
                                    "quantityInStock": "3341",
                                    "totalItemsOrdered": "898"
                                },
                                {
                                    "productCode": "S50_1341",
                                    "productName": "1930 Buick Marquette Phaeton",
                                    "quantityInStock": "7062",
                                    "totalItemsOrdered": "1074"
                                },
                                {
                                    "productCode": "S50_1392",
                                    "productName": "Diamond T620 Semi-Skirted Tanker",
                                    "quantityInStock": "1016",
                                    "totalItemsOrdered": "979"
                                },
                                {
                                    "productCode": "S50_1514",
                                    "productName": "1962 City of Detroit Streetcar",
                                    "quantityInStock": "1645",
                                    "totalItemsOrdered": "966"
                                },
                                {
                                    "productCode": "S50_4713",
                                    "productName": "2002 Yamaha YZR M1",
                                    "quantityInStock": "600",
                                    "totalItemsOrdered": "992"
                                },
                                {
                                    "productCode": "S700_1138",
                                    "productName": "The Schooner Bluenose",
                                    "quantityInStock": "1897",
                                    "totalItemsOrdered": "934"
                                },
                                {
                                    "productCode": "S700_1691",
                                    "productName": "American Airlines: B767-300",
                                    "quantityInStock": "5841",
                                    "totalItemsOrdered": "894"
                                },
                                {
                                    "productCode": "S700_1938",
                                    "productName": "The Mayflower",
                                    "quantityInStock": "737",
                                    "totalItemsOrdered": "898"
                                },
                                {
                                    "productCode": "S700_2047",
                                    "productName": "HMS Bounty",
                                    "quantityInStock": "3501",
                                    "totalItemsOrdered": "897"
                                },
                                {
                                    "productCode": "S700_2466",
                                    "productName": "America West Airlines B757-200",
                                    "quantityInStock": "9653",
                                    "totalItemsOrdered": "984"
                                },
                                {
                                    "productCode": "S700_2610",
                                    "productName": "The USS Constitution Ship",
                                    "quantityInStock": "7083",
                                    "totalItemsOrdered": "1020"
                                },
                                {
                                    "productCode": "S700_2824",
                                    "productName": "1982 Camaro Z28",
                                    "quantityInStock": "6934",
                                    "totalItemsOrdered": "997"
                                },
                                {
                                    "productCode": "S700_2834",
                                    "productName": "ATA: B757-300",
                                    "quantityInStock": "7106",
                                    "totalItemsOrdered": "973"
                                },
                                {
                                    "productCode": "S700_3167",
                                    "productName": "F/A 18 Hornet 1/72",
                                    "quantityInStock": "551",
                                    "totalItemsOrdered": "1047"
                                },
                                {
                                    "productCode": "S700_3505",
                                    "productName": "The Titanic",
                                    "quantityInStock": "1956",
                                    "totalItemsOrdered": "952"
                                },
                                {
                                    "productCode": "S700_3962",
                                    "productName": "The Queen Mary",
                                    "quantityInStock": "5088",
                                    "totalItemsOrdered": "896"
                                },
                                {
                                    "productCode": "S700_4002",
                                    "productName": "American Airlines: MD-11S",
                                    "quantityInStock": "8820",
                                    "totalItemsOrdered": "1085"
                                },
                                {
                                    "productCode": "S72_1253",
                                    "productName": "Boeing X-32A JSF",
                                    "quantityInStock": "4857",
                                    "totalItemsOrdered": "960"
                                },
                                {
                                    "productCode": "S72_3212",
                                    "productName": "Pont Yacht",
                                    "quantityInStock": "414",
                                    "totalItemsOrdered": "958"
                                }
                            ]
                        },
                        "text/html": "<table><tr><th>productCode</th><th>productName</th><th>quantityInStock</th><th>totalItemsOrdered</th></tr><tr><td>S10_1678</td><td>1969 Harley Davidson Ultimate Chopper</td><td>7933</td><td>1057</td></tr><tr><td>S10_1949</td><td>1952 Alpine Renault 1300</td><td>7305</td><td>961</td></tr><tr><td>S10_2016</td><td>1996 Moto Guzzi 1100i</td><td>6625</td><td>999</td></tr><tr><td>S10_4698</td><td>2003 Harley-Davidson Eagle Drag Bike</td><td>5582</td><td>985</td></tr><tr><td>S10_4757</td><td>1972 Alfa Romeo GTA</td><td>3252</td><td>1030</td></tr><tr><td>S10_4962</td><td>1962 LanciaA Delta 16V</td><td>6791</td><td>932</td></tr><tr><td>S12_1099</td><td>1968 Ford Mustang</td><td>68</td><td>933</td></tr><tr><td>S12_1108</td><td>2001 Ferrari Enzo</td><td>3619</td><td>1019</td></tr><tr><td>S12_1666</td><td>1958 Setra Bus</td><td>1579</td><td>972</td></tr><tr><td>S12_2823</td><td>2002 Suzuki XREO</td><td>9997</td><td>1028</td></tr><tr><td>S12_3148</td><td>1969 Corvair Monza</td><td>6906</td><td>963</td></tr><tr><td>S12_3380</td><td>1968 Dodge Charger</td><td>9123</td><td>925</td></tr><tr><td>S12_3891</td><td>1969 Ford Falcon</td><td>1049</td><td>965</td></tr><tr><td>S12_3990</td><td>1970 Plymouth Hemi Cuda</td><td>5663</td><td>900</td></tr><tr><td>S12_4473</td><td>1957 Chevy Pickup</td><td>6125</td><td>1056</td></tr><tr><td>S12_4675</td><td>1969 Dodge Charger</td><td>7323</td><td>992</td></tr><tr><td>S18_1097</td><td>1940 Ford Pickup Truck</td><td>2613</td><td>999</td></tr><tr><td>S18_1129</td><td>1993 Mazda RX-7</td><td>3975</td><td>947</td></tr><tr><td>S18_1342</td><td>1937 Lincoln Berline</td><td>8693</td><td>1111</td></tr><tr><td>S18_1367</td><td>1936 Mercedes-Benz 500K Special Roadster</td><td>8635</td><td>960</td></tr><tr><td>S18_1589</td><td>1965 Aston Martin DB5</td><td>9042</td><td>914</td></tr><tr><td>S18_1662</td><td>1980s Black Hawk Helicopter</td><td>5330</td><td>1040</td></tr><tr><td>S18_1749</td><td>1917 Grand Touring Sedan</td><td>2724</td><td>918</td></tr><tr><td>S18_1889</td><td>1948 Porsche 356-A Roadster</td><td>8826</td><td>972</td></tr><tr><td>S18_1984</td><td>1995 Honda Civic</td><td>9772</td><td>917</td></tr><tr><td>S18_2238</td><td>1998 Chrysler Plymouth Prowler</td><td>4724</td><td>986</td></tr><tr><td>S18_2248</td><td>1911 Ford Town Car</td><td>540</td><td>832</td></tr><tr><td>S18_2319</td><td>1964 Mercedes Tour Bus</td><td>8258</td><td>1053</td></tr><tr><td>S18_2325</td><td>1932 Model A Ford J-Coupe</td><td>9354</td><td>957</td></tr><tr><td>S18_2432</td><td>1926 Ford Fire Engine</td><td>2018</td><td>998</td></tr><tr><td>S18_2581</td><td>P-51-D Mustang</td><td>992</td><td>917</td></tr><tr><td>S18_2625</td><td>1936 Harley Davidson El Knucklehead</td><td>4357</td><td>945</td></tr><tr><td>S18_2795</td><td>1928 Mercedes-Benz SSK</td><td>548</td><td>880</td></tr><tr><td>S18_2870</td><td>1999 Indy 500 Monte Carlo SS</td><td>8164</td><td>855</td></tr><tr><td>S18_2949</td><td>1913 Ford Model T Speedster</td><td>4189</td><td>1038</td></tr><tr><td>S18_2957</td><td>1934 Ford V8 Coupe</td><td>5649</td><td>985</td></tr><tr><td>S18_3029</td><td>1999 Yamaha Speed Boat</td><td>4259</td><td>966</td></tr><tr><td>S18_3136</td><td>18th Century Vintage Horse Carriage</td><td>5992</td><td>907</td></tr><tr><td>S18_3140</td><td>1903 Ford Model A</td><td>3913</td><td>883</td></tr><tr><td>S18_3232</td><td>1992 Ferrari 360 Spider red</td><td>8347</td><td>1808</td></tr><tr><td>S18_3233</td><td>1985 Toyota Supra</td><td>7733</td><td>NULL</td></tr><tr><td>S18_3259</td><td>Collectable Wooden Train</td><td>6450</td><td>918</td></tr><tr><td>S18_3278</td><td>1969 Dodge Super Bee</td><td>1917</td><td>974</td></tr><tr><td>S18_3320</td><td>1917 Maxwell Touring Car</td><td>7913</td><td>992</td></tr><tr><td>S18_3482</td><td>1976 Ford Gran Torino</td><td>9127</td><td>915</td></tr><tr><td>S18_3685</td><td>1948 Porsche Type 356 Roadster</td><td>8990</td><td>948</td></tr><tr><td>S18_3782</td><td>1957 Vespa GS150</td><td>7689</td><td>959</td></tr><tr><td>S18_3856</td><td>1941 Chevrolet Special Deluxe Cabriolet</td><td>2378</td><td>1076</td></tr><tr><td>S18_4027</td><td>1970 Triumph Spitfire</td><td>5545</td><td>945</td></tr><tr><td>S18_4409</td><td>1932 Alfa Romeo 8C2300 Spider Sport</td><td>6553</td><td>866</td></tr><tr><td>S18_4522</td><td>1904 Buick Runabout</td><td>8290</td><td>990</td></tr><tr><td>S18_4600</td><td>1940s Ford truck</td><td>3128</td><td>1061</td></tr><tr><td>S18_4668</td><td>1939 Cadillac Limousine</td><td>6645</td><td>995</td></tr><tr><td>S18_4721</td><td>1957 Corvette Convertible</td><td>1249</td><td>1013</td></tr><tr><td>S18_4933</td><td>1957 Ford Thunderbird</td><td>3209</td><td>767</td></tr><tr><td>S24_1046</td><td>1970 Chevy Chevelle SS 454</td><td>1005</td><td>803</td></tr><tr><td>S24_1444</td><td>1970 Dodge Coronet</td><td>4074</td><td>976</td></tr><tr><td>S24_1578</td><td>1997 BMW R 1100 S</td><td>7003</td><td>1033</td></tr><tr><td>S24_1628</td><td>1966 Shelby Cobra 427 S/C</td><td>8197</td><td>915</td></tr><tr><td>S24_1785</td><td>1928 British Royal Navy Airplane</td><td>3627</td><td>972</td></tr><tr><td>S24_1937</td><td>1939 Chevrolet Deluxe Coupe</td><td>7332</td><td>937</td></tr><tr><td>S24_2000</td><td>1960 BSA Gold Star DBD34</td><td>15</td><td>1015</td></tr><tr><td>S24_2011</td><td>18th century schooner</td><td>1898</td><td>1011</td></tr><tr><td>S24_2022</td><td>1938 Cadillac V-16 Presidential Limousine</td><td>2847</td><td>955</td></tr><tr><td>S24_2300</td><td>1962 Volkswagen Microbus</td><td>2327</td><td>1029</td></tr><tr><td>S24_2360</td><td>1982 Ducati 900 Monster</td><td>6840</td><td>947</td></tr><tr><td>S24_2766</td><td>1949 Jaguar XK 120</td><td>2350</td><td>949</td></tr><tr><td>S24_2840</td><td>1958 Chevy Corvette Limited Edition</td><td>2542</td><td>983</td></tr><tr><td>S24_2841</td><td>1900s Vintage Bi-Plane</td><td>5942</td><td>940</td></tr><tr><td>S24_2887</td><td>1952 Citroen-15CV</td><td>1452</td><td>873</td></tr><tr><td>S24_2972</td><td>1982 Lamborghini Diablo</td><td>7723</td><td>912</td></tr><tr><td>S24_3151</td><td>1912 Ford Model T Delivery Wagon</td><td>9173</td><td>991</td></tr><tr><td>S24_3191</td><td>1969 Chevrolet Camaro Z28</td><td>4695</td><td>870</td></tr><tr><td>S24_3371</td><td>1971 Alpine Renault 1600s</td><td>7995</td><td>969</td></tr><tr><td>S24_3420</td><td>1937 Horch 930V Limousine</td><td>2902</td><td>884</td></tr><tr><td>S24_3432</td><td>2002 Chevy Corvette</td><td>9446</td><td>894</td></tr><tr><td>S24_3816</td><td>1940 Ford Delivery Sedan</td><td>6621</td><td>923</td></tr><tr><td>S24_3856</td><td>1956 Porsche 356A Coupe</td><td>6600</td><td>1052</td></tr><tr><td>S24_3949</td><td>Corsair F4U ( Bird Cage)</td><td>6812</td><td>1051</td></tr><tr><td>S24_3969</td><td>1936 Mercedes Benz 500k Roadster</td><td>2081</td><td>824</td></tr><tr><td>S24_4048</td><td>1992 Porsche Cayenne Turbo Silver</td><td>6582</td><td>867</td></tr><tr><td>S24_4258</td><td>1936 Chrysler Airflow</td><td>4710</td><td>983</td></tr><tr><td>S24_4278</td><td>1900s Vintage Tri-Plane</td><td>2756</td><td>1009</td></tr><tr><td>S24_4620</td><td>1961 Chevrolet Impala</td><td>7869</td><td>941</td></tr><tr><td>S32_1268</td><td>1980’s GM Manhattan Express</td><td>5099</td><td>911</td></tr><tr><td>S32_1374</td><td>1997 BMW F650 ST</td><td>178</td><td>1014</td></tr><tr><td>S32_2206</td><td>1982 Ducati 996 R</td><td>9241</td><td>906</td></tr><tr><td>S32_2509</td><td>1954 Greyhound Scenicruiser</td><td>2874</td><td>955</td></tr><tr><td>S32_3207</td><td>1950&#39;s Chicago Surface Lines Streetcar</td><td>8601</td><td>934</td></tr><tr><td>S32_3522</td><td>1996 Peterbilt 379 Stake Bed with Outrigger</td><td>814</td><td>988</td></tr><tr><td>S32_4289</td><td>1928 Ford Phaeton Deluxe</td><td>136</td><td>972</td></tr><tr><td>S32_4485</td><td>1974 Ducati 350 Mk3 Desmo</td><td>3341</td><td>898</td></tr><tr><td>S50_1341</td><td>1930 Buick Marquette Phaeton</td><td>7062</td><td>1074</td></tr><tr><td>S50_1392</td><td>Diamond T620 Semi-Skirted Tanker</td><td>1016</td><td>979</td></tr><tr><td>S50_1514</td><td>1962 City of Detroit Streetcar</td><td>1645</td><td>966</td></tr><tr><td>S50_4713</td><td>2002 Yamaha YZR M1</td><td>600</td><td>992</td></tr><tr><td>S700_1138</td><td>The Schooner Bluenose</td><td>1897</td><td>934</td></tr><tr><td>S700_1691</td><td>American Airlines: B767-300</td><td>5841</td><td>894</td></tr><tr><td>S700_1938</td><td>The Mayflower</td><td>737</td><td>898</td></tr><tr><td>S700_2047</td><td>HMS Bounty</td><td>3501</td><td>897</td></tr><tr><td>S700_2466</td><td>America West Airlines B757-200</td><td>9653</td><td>984</td></tr><tr><td>S700_2610</td><td>The USS Constitution Ship</td><td>7083</td><td>1020</td></tr><tr><td>S700_2824</td><td>1982 Camaro Z28</td><td>6934</td><td>997</td></tr><tr><td>S700_2834</td><td>ATA: B757-300</td><td>7106</td><td>973</td></tr><tr><td>S700_3167</td><td>F/A 18 Hornet 1/72</td><td>551</td><td>1047</td></tr><tr><td>S700_3505</td><td>The Titanic</td><td>1956</td><td>952</td></tr><tr><td>S700_3962</td><td>The Queen Mary</td><td>5088</td><td>896</td></tr><tr><td>S700_4002</td><td>American Airlines: MD-11S</td><td>8820</td><td>1085</td></tr><tr><td>S72_1253</td><td>Boeing X-32A JSF</td><td>4857</td><td>960</td></tr><tr><td>S72_3212</td><td>Pont Yacht</td><td>414</td><td>958</td></tr></table>"
                    },
                    "metadata": {}
                }
            ],
            "execution_count": 2
        },
        {
            "cell_type": "markdown",
            "source": [
                "<span style=\"color: #008000;\"><b>Calculate the abundance of items in the inventory</b></span>"
            ],
            "metadata": {
                "azdata_cell_guid": "98717b05-9960-4be5-bfeb-9661004f3a2a"
            },
            "attachments": {}
        },
        {
            "cell_type": "code",
            "source": [
                "--CREATE VIEW abundanceItems AS\n",
                "SELECT \n",
                "    productCode\n",
                "    ,productName\n",
                "    ,quantityInStock\n",
                "    ,totalItemsOrdered \n",
                "    ,(quantityInStock - totalItemsOrdered) AS inventoryAbundance\n",
                "FROM  itemsStored\n",
                "ORDER BY \n",
                "    inventoryAbundance DESC;"
            ],
            "metadata": {
                "azdata_cell_guid": "dc0945a4-f731-4888-b8fe-940255c1a3f7",
                "language": "sql"
            },
            "outputs": [
                {
                    "output_type": "display_data",
                    "data": {
                        "text/html": "(110 row(s) affected)"
                    },
                    "metadata": {}
                },
                {
                    "output_type": "display_data",
                    "data": {
                        "text/html": "Total execution time: 00:00:01.050"
                    },
                    "metadata": {}
                },
                {
                    "output_type": "execute_result",
                    "execution_count": 3,
                    "data": {
                        "application/vnd.dataresource+json": {
                            "schema": {
                                "fields": [
                                    {
                                        "name": "productCode"
                                    },
                                    {
                                        "name": "productName"
                                    },
                                    {
                                        "name": "quantityInStock"
                                    },
                                    {
                                        "name": "totalItemsOrdered"
                                    },
                                    {
                                        "name": "inventoryAbundance"
                                    }
                                ]
                            },
                            "data": [
                                {
                                    "productCode": "S12_2823",
                                    "productName": "2002 Suzuki XREO",
                                    "quantityInStock": "9997",
                                    "totalItemsOrdered": "1028",
                                    "inventoryAbundance": "8969"
                                },
                                {
                                    "productCode": "S18_1984",
                                    "productName": "1995 Honda Civic",
                                    "quantityInStock": "9772",
                                    "totalItemsOrdered": "917",
                                    "inventoryAbundance": "8855"
                                },
                                {
                                    "productCode": "S700_2466",
                                    "productName": "America West Airlines B757-200",
                                    "quantityInStock": "9653",
                                    "totalItemsOrdered": "984",
                                    "inventoryAbundance": "8669"
                                },
                                {
                                    "productCode": "S24_3432",
                                    "productName": "2002 Chevy Corvette",
                                    "quantityInStock": "9446",
                                    "totalItemsOrdered": "894",
                                    "inventoryAbundance": "8552"
                                },
                                {
                                    "productCode": "S18_2325",
                                    "productName": "1932 Model A Ford J-Coupe",
                                    "quantityInStock": "9354",
                                    "totalItemsOrdered": "957",
                                    "inventoryAbundance": "8397"
                                },
                                {
                                    "productCode": "S32_2206",
                                    "productName": "1982 Ducati 996 R",
                                    "quantityInStock": "9241",
                                    "totalItemsOrdered": "906",
                                    "inventoryAbundance": "8335"
                                },
                                {
                                    "productCode": "S18_3482",
                                    "productName": "1976 Ford Gran Torino",
                                    "quantityInStock": "9127",
                                    "totalItemsOrdered": "915",
                                    "inventoryAbundance": "8212"
                                },
                                {
                                    "productCode": "S12_3380",
                                    "productName": "1968 Dodge Charger",
                                    "quantityInStock": "9123",
                                    "totalItemsOrdered": "925",
                                    "inventoryAbundance": "8198"
                                },
                                {
                                    "productCode": "S24_3151",
                                    "productName": "1912 Ford Model T Delivery Wagon",
                                    "quantityInStock": "9173",
                                    "totalItemsOrdered": "991",
                                    "inventoryAbundance": "8182"
                                },
                                {
                                    "productCode": "S18_1589",
                                    "productName": "1965 Aston Martin DB5",
                                    "quantityInStock": "9042",
                                    "totalItemsOrdered": "914",
                                    "inventoryAbundance": "8128"
                                },
                                {
                                    "productCode": "S18_3685",
                                    "productName": "1948 Porsche Type 356 Roadster",
                                    "quantityInStock": "8990",
                                    "totalItemsOrdered": "948",
                                    "inventoryAbundance": "8042"
                                },
                                {
                                    "productCode": "S18_1889",
                                    "productName": "1948 Porsche 356-A Roadster",
                                    "quantityInStock": "8826",
                                    "totalItemsOrdered": "972",
                                    "inventoryAbundance": "7854"
                                },
                                {
                                    "productCode": "S700_4002",
                                    "productName": "American Airlines: MD-11S",
                                    "quantityInStock": "8820",
                                    "totalItemsOrdered": "1085",
                                    "inventoryAbundance": "7735"
                                },
                                {
                                    "productCode": "S18_1367",
                                    "productName": "1936 Mercedes-Benz 500K Special Roadster",
                                    "quantityInStock": "8635",
                                    "totalItemsOrdered": "960",
                                    "inventoryAbundance": "7675"
                                },
                                {
                                    "productCode": "S32_3207",
                                    "productName": "1950's Chicago Surface Lines Streetcar",
                                    "quantityInStock": "8601",
                                    "totalItemsOrdered": "934",
                                    "inventoryAbundance": "7667"
                                },
                                {
                                    "productCode": "S18_1342",
                                    "productName": "1937 Lincoln Berline",
                                    "quantityInStock": "8693",
                                    "totalItemsOrdered": "1111",
                                    "inventoryAbundance": "7582"
                                },
                                {
                                    "productCode": "S18_2870",
                                    "productName": "1999 Indy 500 Monte Carlo SS",
                                    "quantityInStock": "8164",
                                    "totalItemsOrdered": "855",
                                    "inventoryAbundance": "7309"
                                },
                                {
                                    "productCode": "S18_4522",
                                    "productName": "1904 Buick Runabout",
                                    "quantityInStock": "8290",
                                    "totalItemsOrdered": "990",
                                    "inventoryAbundance": "7300"
                                },
                                {
                                    "productCode": "S24_1628",
                                    "productName": "1966 Shelby Cobra 427 S/C",
                                    "quantityInStock": "8197",
                                    "totalItemsOrdered": "915",
                                    "inventoryAbundance": "7282"
                                },
                                {
                                    "productCode": "S18_2319",
                                    "productName": "1964 Mercedes Tour Bus",
                                    "quantityInStock": "8258",
                                    "totalItemsOrdered": "1053",
                                    "inventoryAbundance": "7205"
                                },
                                {
                                    "productCode": "S24_3371",
                                    "productName": "1971 Alpine Renault 1600s",
                                    "quantityInStock": "7995",
                                    "totalItemsOrdered": "969",
                                    "inventoryAbundance": "7026"
                                },
                                {
                                    "productCode": "S24_4620",
                                    "productName": "1961 Chevrolet Impala",
                                    "quantityInStock": "7869",
                                    "totalItemsOrdered": "941",
                                    "inventoryAbundance": "6928"
                                },
                                {
                                    "productCode": "S18_3320",
                                    "productName": "1917 Maxwell Touring Car",
                                    "quantityInStock": "7913",
                                    "totalItemsOrdered": "992",
                                    "inventoryAbundance": "6921"
                                },
                                {
                                    "productCode": "S10_1678",
                                    "productName": "1969 Harley Davidson Ultimate Chopper",
                                    "quantityInStock": "7933",
                                    "totalItemsOrdered": "1057",
                                    "inventoryAbundance": "6876"
                                },
                                {
                                    "productCode": "S24_2972",
                                    "productName": "1982 Lamborghini Diablo",
                                    "quantityInStock": "7723",
                                    "totalItemsOrdered": "912",
                                    "inventoryAbundance": "6811"
                                },
                                {
                                    "productCode": "S18_3782",
                                    "productName": "1957 Vespa GS150",
                                    "quantityInStock": "7689",
                                    "totalItemsOrdered": "959",
                                    "inventoryAbundance": "6730"
                                },
                                {
                                    "productCode": "S18_3232",
                                    "productName": "1992 Ferrari 360 Spider red",
                                    "quantityInStock": "8347",
                                    "totalItemsOrdered": "1808",
                                    "inventoryAbundance": "6539"
                                },
                                {
                                    "productCode": "S24_1937",
                                    "productName": "1939 Chevrolet Deluxe Coupe",
                                    "quantityInStock": "7332",
                                    "totalItemsOrdered": "937",
                                    "inventoryAbundance": "6395"
                                },
                                {
                                    "productCode": "S10_1949",
                                    "productName": "1952 Alpine Renault 1300",
                                    "quantityInStock": "7305",
                                    "totalItemsOrdered": "961",
                                    "inventoryAbundance": "6344"
                                },
                                {
                                    "productCode": "S12_4675",
                                    "productName": "1969 Dodge Charger",
                                    "quantityInStock": "7323",
                                    "totalItemsOrdered": "992",
                                    "inventoryAbundance": "6331"
                                },
                                {
                                    "productCode": "S700_2834",
                                    "productName": "ATA: B757-300",
                                    "quantityInStock": "7106",
                                    "totalItemsOrdered": "973",
                                    "inventoryAbundance": "6133"
                                },
                                {
                                    "productCode": "S700_2610",
                                    "productName": "The USS Constitution Ship",
                                    "quantityInStock": "7083",
                                    "totalItemsOrdered": "1020",
                                    "inventoryAbundance": "6063"
                                },
                                {
                                    "productCode": "S50_1341",
                                    "productName": "1930 Buick Marquette Phaeton",
                                    "quantityInStock": "7062",
                                    "totalItemsOrdered": "1074",
                                    "inventoryAbundance": "5988"
                                },
                                {
                                    "productCode": "S24_1578",
                                    "productName": "1997 BMW R 1100 S",
                                    "quantityInStock": "7003",
                                    "totalItemsOrdered": "1033",
                                    "inventoryAbundance": "5970"
                                },
                                {
                                    "productCode": "S12_3148",
                                    "productName": "1969 Corvair Monza",
                                    "quantityInStock": "6906",
                                    "totalItemsOrdered": "963",
                                    "inventoryAbundance": "5943"
                                },
                                {
                                    "productCode": "S700_2824",
                                    "productName": "1982 Camaro Z28",
                                    "quantityInStock": "6934",
                                    "totalItemsOrdered": "997",
                                    "inventoryAbundance": "5937"
                                },
                                {
                                    "productCode": "S24_2360",
                                    "productName": "1982 Ducati 900 Monster",
                                    "quantityInStock": "6840",
                                    "totalItemsOrdered": "947",
                                    "inventoryAbundance": "5893"
                                },
                                {
                                    "productCode": "S10_4962",
                                    "productName": "1962 LanciaA Delta 16V",
                                    "quantityInStock": "6791",
                                    "totalItemsOrdered": "932",
                                    "inventoryAbundance": "5859"
                                },
                                {
                                    "productCode": "S24_3949",
                                    "productName": "Corsair F4U ( Bird Cage)",
                                    "quantityInStock": "6812",
                                    "totalItemsOrdered": "1051",
                                    "inventoryAbundance": "5761"
                                },
                                {
                                    "productCode": "S24_4048",
                                    "productName": "1992 Porsche Cayenne Turbo Silver",
                                    "quantityInStock": "6582",
                                    "totalItemsOrdered": "867",
                                    "inventoryAbundance": "5715"
                                },
                                {
                                    "productCode": "S24_3816",
                                    "productName": "1940 Ford Delivery Sedan",
                                    "quantityInStock": "6621",
                                    "totalItemsOrdered": "923",
                                    "inventoryAbundance": "5698"
                                },
                                {
                                    "productCode": "S18_4409",
                                    "productName": "1932 Alfa Romeo 8C2300 Spider Sport",
                                    "quantityInStock": "6553",
                                    "totalItemsOrdered": "866",
                                    "inventoryAbundance": "5687"
                                },
                                {
                                    "productCode": "S18_4668",
                                    "productName": "1939 Cadillac Limousine",
                                    "quantityInStock": "6645",
                                    "totalItemsOrdered": "995",
                                    "inventoryAbundance": "5650"
                                },
                                {
                                    "productCode": "S10_2016",
                                    "productName": "1996 Moto Guzzi 1100i",
                                    "quantityInStock": "6625",
                                    "totalItemsOrdered": "999",
                                    "inventoryAbundance": "5626"
                                },
                                {
                                    "productCode": "S24_3856",
                                    "productName": "1956 Porsche 356A Coupe",
                                    "quantityInStock": "6600",
                                    "totalItemsOrdered": "1052",
                                    "inventoryAbundance": "5548"
                                },
                                {
                                    "productCode": "S18_3259",
                                    "productName": "Collectable Wooden Train",
                                    "quantityInStock": "6450",
                                    "totalItemsOrdered": "918",
                                    "inventoryAbundance": "5532"
                                },
                                {
                                    "productCode": "S18_3136",
                                    "productName": "18th Century Vintage Horse Carriage",
                                    "quantityInStock": "5992",
                                    "totalItemsOrdered": "907",
                                    "inventoryAbundance": "5085"
                                },
                                {
                                    "productCode": "S12_4473",
                                    "productName": "1957 Chevy Pickup",
                                    "quantityInStock": "6125",
                                    "totalItemsOrdered": "1056",
                                    "inventoryAbundance": "5069"
                                },
                                {
                                    "productCode": "S24_2841",
                                    "productName": "1900s Vintage Bi-Plane",
                                    "quantityInStock": "5942",
                                    "totalItemsOrdered": "940",
                                    "inventoryAbundance": "5002"
                                },
                                {
                                    "productCode": "S700_1691",
                                    "productName": "American Airlines: B767-300",
                                    "quantityInStock": "5841",
                                    "totalItemsOrdered": "894",
                                    "inventoryAbundance": "4947"
                                },
                                {
                                    "productCode": "S12_3990",
                                    "productName": "1970 Plymouth Hemi Cuda",
                                    "quantityInStock": "5663",
                                    "totalItemsOrdered": "900",
                                    "inventoryAbundance": "4763"
                                },
                                {
                                    "productCode": "S18_2957",
                                    "productName": "1934 Ford V8 Coupe",
                                    "quantityInStock": "5649",
                                    "totalItemsOrdered": "985",
                                    "inventoryAbundance": "4664"
                                },
                                {
                                    "productCode": "S18_4027",
                                    "productName": "1970 Triumph Spitfire",
                                    "quantityInStock": "5545",
                                    "totalItemsOrdered": "945",
                                    "inventoryAbundance": "4600"
                                },
                                {
                                    "productCode": "S10_4698",
                                    "productName": "2003 Harley-Davidson Eagle Drag Bike",
                                    "quantityInStock": "5582",
                                    "totalItemsOrdered": "985",
                                    "inventoryAbundance": "4597"
                                },
                                {
                                    "productCode": "S18_1662",
                                    "productName": "1980s Black Hawk Helicopter",
                                    "quantityInStock": "5330",
                                    "totalItemsOrdered": "1040",
                                    "inventoryAbundance": "4290"
                                },
                                {
                                    "productCode": "S700_3962",
                                    "productName": "The Queen Mary",
                                    "quantityInStock": "5088",
                                    "totalItemsOrdered": "896",
                                    "inventoryAbundance": "4192"
                                },
                                {
                                    "productCode": "S32_1268",
                                    "productName": "1980’s GM Manhattan Express",
                                    "quantityInStock": "5099",
                                    "totalItemsOrdered": "911",
                                    "inventoryAbundance": "4188"
                                },
                                {
                                    "productCode": "S72_1253",
                                    "productName": "Boeing X-32A JSF",
                                    "quantityInStock": "4857",
                                    "totalItemsOrdered": "960",
                                    "inventoryAbundance": "3897"
                                },
                                {
                                    "productCode": "S24_3191",
                                    "productName": "1969 Chevrolet Camaro Z28",
                                    "quantityInStock": "4695",
                                    "totalItemsOrdered": "870",
                                    "inventoryAbundance": "3825"
                                },
                                {
                                    "productCode": "S18_2238",
                                    "productName": "1998 Chrysler Plymouth Prowler",
                                    "quantityInStock": "4724",
                                    "totalItemsOrdered": "986",
                                    "inventoryAbundance": "3738"
                                },
                                {
                                    "productCode": "S24_4258",
                                    "productName": "1936 Chrysler Airflow",
                                    "quantityInStock": "4710",
                                    "totalItemsOrdered": "983",
                                    "inventoryAbundance": "3727"
                                },
                                {
                                    "productCode": "S18_2625",
                                    "productName": "1936 Harley Davidson El Knucklehead",
                                    "quantityInStock": "4357",
                                    "totalItemsOrdered": "945",
                                    "inventoryAbundance": "3412"
                                },
                                {
                                    "productCode": "S18_3029",
                                    "productName": "1999 Yamaha Speed Boat",
                                    "quantityInStock": "4259",
                                    "totalItemsOrdered": "966",
                                    "inventoryAbundance": "3293"
                                },
                                {
                                    "productCode": "S18_2949",
                                    "productName": "1913 Ford Model T Speedster",
                                    "quantityInStock": "4189",
                                    "totalItemsOrdered": "1038",
                                    "inventoryAbundance": "3151"
                                },
                                {
                                    "productCode": "S24_1444",
                                    "productName": "1970 Dodge Coronet",
                                    "quantityInStock": "4074",
                                    "totalItemsOrdered": "976",
                                    "inventoryAbundance": "3098"
                                },
                                {
                                    "productCode": "S18_3140",
                                    "productName": "1903 Ford Model A",
                                    "quantityInStock": "3913",
                                    "totalItemsOrdered": "883",
                                    "inventoryAbundance": "3030"
                                },
                                {
                                    "productCode": "S18_1129",
                                    "productName": "1993 Mazda RX-7",
                                    "quantityInStock": "3975",
                                    "totalItemsOrdered": "947",
                                    "inventoryAbundance": "3028"
                                },
                                {
                                    "productCode": "S24_1785",
                                    "productName": "1928 British Royal Navy Airplane",
                                    "quantityInStock": "3627",
                                    "totalItemsOrdered": "972",
                                    "inventoryAbundance": "2655"
                                },
                                {
                                    "productCode": "S700_2047",
                                    "productName": "HMS Bounty",
                                    "quantityInStock": "3501",
                                    "totalItemsOrdered": "897",
                                    "inventoryAbundance": "2604"
                                },
                                {
                                    "productCode": "S12_1108",
                                    "productName": "2001 Ferrari Enzo",
                                    "quantityInStock": "3619",
                                    "totalItemsOrdered": "1019",
                                    "inventoryAbundance": "2600"
                                },
                                {
                                    "productCode": "S32_4485",
                                    "productName": "1974 Ducati 350 Mk3 Desmo",
                                    "quantityInStock": "3341",
                                    "totalItemsOrdered": "898",
                                    "inventoryAbundance": "2443"
                                },
                                {
                                    "productCode": "S18_4933",
                                    "productName": "1957 Ford Thunderbird",
                                    "quantityInStock": "3209",
                                    "totalItemsOrdered": "767",
                                    "inventoryAbundance": "2442"
                                },
                                {
                                    "productCode": "S10_4757",
                                    "productName": "1972 Alfa Romeo GTA",
                                    "quantityInStock": "3252",
                                    "totalItemsOrdered": "1030",
                                    "inventoryAbundance": "2222"
                                },
                                {
                                    "productCode": "S18_4600",
                                    "productName": "1940s Ford truck",
                                    "quantityInStock": "3128",
                                    "totalItemsOrdered": "1061",
                                    "inventoryAbundance": "2067"
                                },
                                {
                                    "productCode": "S24_3420",
                                    "productName": "1937 Horch 930V Limousine",
                                    "quantityInStock": "2902",
                                    "totalItemsOrdered": "884",
                                    "inventoryAbundance": "2018"
                                },
                                {
                                    "productCode": "S32_2509",
                                    "productName": "1954 Greyhound Scenicruiser",
                                    "quantityInStock": "2874",
                                    "totalItemsOrdered": "955",
                                    "inventoryAbundance": "1919"
                                },
                                {
                                    "productCode": "S24_2022",
                                    "productName": "1938 Cadillac V-16 Presidential Limousine",
                                    "quantityInStock": "2847",
                                    "totalItemsOrdered": "955",
                                    "inventoryAbundance": "1892"
                                },
                                {
                                    "productCode": "S18_1749",
                                    "productName": "1917 Grand Touring Sedan",
                                    "quantityInStock": "2724",
                                    "totalItemsOrdered": "918",
                                    "inventoryAbundance": "1806"
                                },
                                {
                                    "productCode": "S24_4278",
                                    "productName": "1900s Vintage Tri-Plane",
                                    "quantityInStock": "2756",
                                    "totalItemsOrdered": "1009",
                                    "inventoryAbundance": "1747"
                                },
                                {
                                    "productCode": "S18_1097",
                                    "productName": "1940 Ford Pickup Truck",
                                    "quantityInStock": "2613",
                                    "totalItemsOrdered": "999",
                                    "inventoryAbundance": "1614"
                                },
                                {
                                    "productCode": "S24_2840",
                                    "productName": "1958 Chevy Corvette Limited Edition",
                                    "quantityInStock": "2542",
                                    "totalItemsOrdered": "983",
                                    "inventoryAbundance": "1559"
                                },
                                {
                                    "productCode": "S24_2766",
                                    "productName": "1949 Jaguar XK 120",
                                    "quantityInStock": "2350",
                                    "totalItemsOrdered": "949",
                                    "inventoryAbundance": "1401"
                                },
                                {
                                    "productCode": "S18_3856",
                                    "productName": "1941 Chevrolet Special Deluxe Cabriolet",
                                    "quantityInStock": "2378",
                                    "totalItemsOrdered": "1076",
                                    "inventoryAbundance": "1302"
                                },
                                {
                                    "productCode": "S24_2300",
                                    "productName": "1962 Volkswagen Microbus",
                                    "quantityInStock": "2327",
                                    "totalItemsOrdered": "1029",
                                    "inventoryAbundance": "1298"
                                },
                                {
                                    "productCode": "S24_3969",
                                    "productName": "1936 Mercedes Benz 500k Roadster",
                                    "quantityInStock": "2081",
                                    "totalItemsOrdered": "824",
                                    "inventoryAbundance": "1257"
                                },
                                {
                                    "productCode": "S18_2432",
                                    "productName": "1926 Ford Fire Engine",
                                    "quantityInStock": "2018",
                                    "totalItemsOrdered": "998",
                                    "inventoryAbundance": "1020"
                                },
                                {
                                    "productCode": "S700_3505",
                                    "productName": "The Titanic",
                                    "quantityInStock": "1956",
                                    "totalItemsOrdered": "952",
                                    "inventoryAbundance": "1004"
                                },
                                {
                                    "productCode": "S700_1138",
                                    "productName": "The Schooner Bluenose",
                                    "quantityInStock": "1897",
                                    "totalItemsOrdered": "934",
                                    "inventoryAbundance": "963"
                                },
                                {
                                    "productCode": "S18_3278",
                                    "productName": "1969 Dodge Super Bee",
                                    "quantityInStock": "1917",
                                    "totalItemsOrdered": "974",
                                    "inventoryAbundance": "943"
                                },
                                {
                                    "productCode": "S24_2011",
                                    "productName": "18th century schooner",
                                    "quantityInStock": "1898",
                                    "totalItemsOrdered": "1011",
                                    "inventoryAbundance": "887"
                                },
                                {
                                    "productCode": "S50_1514",
                                    "productName": "1962 City of Detroit Streetcar",
                                    "quantityInStock": "1645",
                                    "totalItemsOrdered": "966",
                                    "inventoryAbundance": "679"
                                },
                                {
                                    "productCode": "S12_1666",
                                    "productName": "1958 Setra Bus",
                                    "quantityInStock": "1579",
                                    "totalItemsOrdered": "972",
                                    "inventoryAbundance": "607"
                                },
                                {
                                    "productCode": "S24_2887",
                                    "productName": "1952 Citroen-15CV",
                                    "quantityInStock": "1452",
                                    "totalItemsOrdered": "873",
                                    "inventoryAbundance": "579"
                                },
                                {
                                    "productCode": "S18_4721",
                                    "productName": "1957 Corvette Convertible",
                                    "quantityInStock": "1249",
                                    "totalItemsOrdered": "1013",
                                    "inventoryAbundance": "236"
                                },
                                {
                                    "productCode": "S24_1046",
                                    "productName": "1970 Chevy Chevelle SS 454",
                                    "quantityInStock": "1005",
                                    "totalItemsOrdered": "803",
                                    "inventoryAbundance": "202"
                                },
                                {
                                    "productCode": "S12_3891",
                                    "productName": "1969 Ford Falcon",
                                    "quantityInStock": "1049",
                                    "totalItemsOrdered": "965",
                                    "inventoryAbundance": "84"
                                },
                                {
                                    "productCode": "S18_2581",
                                    "productName": "P-51-D Mustang",
                                    "quantityInStock": "992",
                                    "totalItemsOrdered": "917",
                                    "inventoryAbundance": "75"
                                },
                                {
                                    "productCode": "S50_1392",
                                    "productName": "Diamond T620 Semi-Skirted Tanker",
                                    "quantityInStock": "1016",
                                    "totalItemsOrdered": "979",
                                    "inventoryAbundance": "37"
                                },
                                {
                                    "productCode": "S700_1938",
                                    "productName": "The Mayflower",
                                    "quantityInStock": "737",
                                    "totalItemsOrdered": "898",
                                    "inventoryAbundance": "-161"
                                },
                                {
                                    "productCode": "S32_3522",
                                    "productName": "1996 Peterbilt 379 Stake Bed with Outrigger",
                                    "quantityInStock": "814",
                                    "totalItemsOrdered": "988",
                                    "inventoryAbundance": "-174"
                                },
                                {
                                    "productCode": "S18_2248",
                                    "productName": "1911 Ford Town Car",
                                    "quantityInStock": "540",
                                    "totalItemsOrdered": "832",
                                    "inventoryAbundance": "-292"
                                },
                                {
                                    "productCode": "S18_2795",
                                    "productName": "1928 Mercedes-Benz SSK",
                                    "quantityInStock": "548",
                                    "totalItemsOrdered": "880",
                                    "inventoryAbundance": "-332"
                                },
                                {
                                    "productCode": "S50_4713",
                                    "productName": "2002 Yamaha YZR M1",
                                    "quantityInStock": "600",
                                    "totalItemsOrdered": "992",
                                    "inventoryAbundance": "-392"
                                },
                                {
                                    "productCode": "S700_3167",
                                    "productName": "F/A 18 Hornet 1/72",
                                    "quantityInStock": "551",
                                    "totalItemsOrdered": "1047",
                                    "inventoryAbundance": "-496"
                                },
                                {
                                    "productCode": "S72_3212",
                                    "productName": "Pont Yacht",
                                    "quantityInStock": "414",
                                    "totalItemsOrdered": "958",
                                    "inventoryAbundance": "-544"
                                },
                                {
                                    "productCode": "S32_1374",
                                    "productName": "1997 BMW F650 ST",
                                    "quantityInStock": "178",
                                    "totalItemsOrdered": "1014",
                                    "inventoryAbundance": "-836"
                                },
                                {
                                    "productCode": "S32_4289",
                                    "productName": "1928 Ford Phaeton Deluxe",
                                    "quantityInStock": "136",
                                    "totalItemsOrdered": "972",
                                    "inventoryAbundance": "-836"
                                },
                                {
                                    "productCode": "S12_1099",
                                    "productName": "1968 Ford Mustang",
                                    "quantityInStock": "68",
                                    "totalItemsOrdered": "933",
                                    "inventoryAbundance": "-865"
                                },
                                {
                                    "productCode": "S24_2000",
                                    "productName": "1960 BSA Gold Star DBD34",
                                    "quantityInStock": "15",
                                    "totalItemsOrdered": "1015",
                                    "inventoryAbundance": "-1000"
                                },
                                {
                                    "productCode": "S18_3233",
                                    "productName": "1985 Toyota Supra",
                                    "quantityInStock": "7733",
                                    "totalItemsOrdered": "NULL",
                                    "inventoryAbundance": "NULL"
                                }
                            ]
                        },
                        "text/html": "<table><tr><th>productCode</th><th>productName</th><th>quantityInStock</th><th>totalItemsOrdered</th><th>inventoryAbundance</th></tr><tr><td>S12_2823</td><td>2002 Suzuki XREO</td><td>9997</td><td>1028</td><td>8969</td></tr><tr><td>S18_1984</td><td>1995 Honda Civic</td><td>9772</td><td>917</td><td>8855</td></tr><tr><td>S700_2466</td><td>America West Airlines B757-200</td><td>9653</td><td>984</td><td>8669</td></tr><tr><td>S24_3432</td><td>2002 Chevy Corvette</td><td>9446</td><td>894</td><td>8552</td></tr><tr><td>S18_2325</td><td>1932 Model A Ford J-Coupe</td><td>9354</td><td>957</td><td>8397</td></tr><tr><td>S32_2206</td><td>1982 Ducati 996 R</td><td>9241</td><td>906</td><td>8335</td></tr><tr><td>S18_3482</td><td>1976 Ford Gran Torino</td><td>9127</td><td>915</td><td>8212</td></tr><tr><td>S12_3380</td><td>1968 Dodge Charger</td><td>9123</td><td>925</td><td>8198</td></tr><tr><td>S24_3151</td><td>1912 Ford Model T Delivery Wagon</td><td>9173</td><td>991</td><td>8182</td></tr><tr><td>S18_1589</td><td>1965 Aston Martin DB5</td><td>9042</td><td>914</td><td>8128</td></tr><tr><td>S18_3685</td><td>1948 Porsche Type 356 Roadster</td><td>8990</td><td>948</td><td>8042</td></tr><tr><td>S18_1889</td><td>1948 Porsche 356-A Roadster</td><td>8826</td><td>972</td><td>7854</td></tr><tr><td>S700_4002</td><td>American Airlines: MD-11S</td><td>8820</td><td>1085</td><td>7735</td></tr><tr><td>S18_1367</td><td>1936 Mercedes-Benz 500K Special Roadster</td><td>8635</td><td>960</td><td>7675</td></tr><tr><td>S32_3207</td><td>1950&#39;s Chicago Surface Lines Streetcar</td><td>8601</td><td>934</td><td>7667</td></tr><tr><td>S18_1342</td><td>1937 Lincoln Berline</td><td>8693</td><td>1111</td><td>7582</td></tr><tr><td>S18_2870</td><td>1999 Indy 500 Monte Carlo SS</td><td>8164</td><td>855</td><td>7309</td></tr><tr><td>S18_4522</td><td>1904 Buick Runabout</td><td>8290</td><td>990</td><td>7300</td></tr><tr><td>S24_1628</td><td>1966 Shelby Cobra 427 S/C</td><td>8197</td><td>915</td><td>7282</td></tr><tr><td>S18_2319</td><td>1964 Mercedes Tour Bus</td><td>8258</td><td>1053</td><td>7205</td></tr><tr><td>S24_3371</td><td>1971 Alpine Renault 1600s</td><td>7995</td><td>969</td><td>7026</td></tr><tr><td>S24_4620</td><td>1961 Chevrolet Impala</td><td>7869</td><td>941</td><td>6928</td></tr><tr><td>S18_3320</td><td>1917 Maxwell Touring Car</td><td>7913</td><td>992</td><td>6921</td></tr><tr><td>S10_1678</td><td>1969 Harley Davidson Ultimate Chopper</td><td>7933</td><td>1057</td><td>6876</td></tr><tr><td>S24_2972</td><td>1982 Lamborghini Diablo</td><td>7723</td><td>912</td><td>6811</td></tr><tr><td>S18_3782</td><td>1957 Vespa GS150</td><td>7689</td><td>959</td><td>6730</td></tr><tr><td>S18_3232</td><td>1992 Ferrari 360 Spider red</td><td>8347</td><td>1808</td><td>6539</td></tr><tr><td>S24_1937</td><td>1939 Chevrolet Deluxe Coupe</td><td>7332</td><td>937</td><td>6395</td></tr><tr><td>S10_1949</td><td>1952 Alpine Renault 1300</td><td>7305</td><td>961</td><td>6344</td></tr><tr><td>S12_4675</td><td>1969 Dodge Charger</td><td>7323</td><td>992</td><td>6331</td></tr><tr><td>S700_2834</td><td>ATA: B757-300</td><td>7106</td><td>973</td><td>6133</td></tr><tr><td>S700_2610</td><td>The USS Constitution Ship</td><td>7083</td><td>1020</td><td>6063</td></tr><tr><td>S50_1341</td><td>1930 Buick Marquette Phaeton</td><td>7062</td><td>1074</td><td>5988</td></tr><tr><td>S24_1578</td><td>1997 BMW R 1100 S</td><td>7003</td><td>1033</td><td>5970</td></tr><tr><td>S12_3148</td><td>1969 Corvair Monza</td><td>6906</td><td>963</td><td>5943</td></tr><tr><td>S700_2824</td><td>1982 Camaro Z28</td><td>6934</td><td>997</td><td>5937</td></tr><tr><td>S24_2360</td><td>1982 Ducati 900 Monster</td><td>6840</td><td>947</td><td>5893</td></tr><tr><td>S10_4962</td><td>1962 LanciaA Delta 16V</td><td>6791</td><td>932</td><td>5859</td></tr><tr><td>S24_3949</td><td>Corsair F4U ( Bird Cage)</td><td>6812</td><td>1051</td><td>5761</td></tr><tr><td>S24_4048</td><td>1992 Porsche Cayenne Turbo Silver</td><td>6582</td><td>867</td><td>5715</td></tr><tr><td>S24_3816</td><td>1940 Ford Delivery Sedan</td><td>6621</td><td>923</td><td>5698</td></tr><tr><td>S18_4409</td><td>1932 Alfa Romeo 8C2300 Spider Sport</td><td>6553</td><td>866</td><td>5687</td></tr><tr><td>S18_4668</td><td>1939 Cadillac Limousine</td><td>6645</td><td>995</td><td>5650</td></tr><tr><td>S10_2016</td><td>1996 Moto Guzzi 1100i</td><td>6625</td><td>999</td><td>5626</td></tr><tr><td>S24_3856</td><td>1956 Porsche 356A Coupe</td><td>6600</td><td>1052</td><td>5548</td></tr><tr><td>S18_3259</td><td>Collectable Wooden Train</td><td>6450</td><td>918</td><td>5532</td></tr><tr><td>S18_3136</td><td>18th Century Vintage Horse Carriage</td><td>5992</td><td>907</td><td>5085</td></tr><tr><td>S12_4473</td><td>1957 Chevy Pickup</td><td>6125</td><td>1056</td><td>5069</td></tr><tr><td>S24_2841</td><td>1900s Vintage Bi-Plane</td><td>5942</td><td>940</td><td>5002</td></tr><tr><td>S700_1691</td><td>American Airlines: B767-300</td><td>5841</td><td>894</td><td>4947</td></tr><tr><td>S12_3990</td><td>1970 Plymouth Hemi Cuda</td><td>5663</td><td>900</td><td>4763</td></tr><tr><td>S18_2957</td><td>1934 Ford V8 Coupe</td><td>5649</td><td>985</td><td>4664</td></tr><tr><td>S18_4027</td><td>1970 Triumph Spitfire</td><td>5545</td><td>945</td><td>4600</td></tr><tr><td>S10_4698</td><td>2003 Harley-Davidson Eagle Drag Bike</td><td>5582</td><td>985</td><td>4597</td></tr><tr><td>S18_1662</td><td>1980s Black Hawk Helicopter</td><td>5330</td><td>1040</td><td>4290</td></tr><tr><td>S700_3962</td><td>The Queen Mary</td><td>5088</td><td>896</td><td>4192</td></tr><tr><td>S32_1268</td><td>1980’s GM Manhattan Express</td><td>5099</td><td>911</td><td>4188</td></tr><tr><td>S72_1253</td><td>Boeing X-32A JSF</td><td>4857</td><td>960</td><td>3897</td></tr><tr><td>S24_3191</td><td>1969 Chevrolet Camaro Z28</td><td>4695</td><td>870</td><td>3825</td></tr><tr><td>S18_2238</td><td>1998 Chrysler Plymouth Prowler</td><td>4724</td><td>986</td><td>3738</td></tr><tr><td>S24_4258</td><td>1936 Chrysler Airflow</td><td>4710</td><td>983</td><td>3727</td></tr><tr><td>S18_2625</td><td>1936 Harley Davidson El Knucklehead</td><td>4357</td><td>945</td><td>3412</td></tr><tr><td>S18_3029</td><td>1999 Yamaha Speed Boat</td><td>4259</td><td>966</td><td>3293</td></tr><tr><td>S18_2949</td><td>1913 Ford Model T Speedster</td><td>4189</td><td>1038</td><td>3151</td></tr><tr><td>S24_1444</td><td>1970 Dodge Coronet</td><td>4074</td><td>976</td><td>3098</td></tr><tr><td>S18_3140</td><td>1903 Ford Model A</td><td>3913</td><td>883</td><td>3030</td></tr><tr><td>S18_1129</td><td>1993 Mazda RX-7</td><td>3975</td><td>947</td><td>3028</td></tr><tr><td>S24_1785</td><td>1928 British Royal Navy Airplane</td><td>3627</td><td>972</td><td>2655</td></tr><tr><td>S700_2047</td><td>HMS Bounty</td><td>3501</td><td>897</td><td>2604</td></tr><tr><td>S12_1108</td><td>2001 Ferrari Enzo</td><td>3619</td><td>1019</td><td>2600</td></tr><tr><td>S32_4485</td><td>1974 Ducati 350 Mk3 Desmo</td><td>3341</td><td>898</td><td>2443</td></tr><tr><td>S18_4933</td><td>1957 Ford Thunderbird</td><td>3209</td><td>767</td><td>2442</td></tr><tr><td>S10_4757</td><td>1972 Alfa Romeo GTA</td><td>3252</td><td>1030</td><td>2222</td></tr><tr><td>S18_4600</td><td>1940s Ford truck</td><td>3128</td><td>1061</td><td>2067</td></tr><tr><td>S24_3420</td><td>1937 Horch 930V Limousine</td><td>2902</td><td>884</td><td>2018</td></tr><tr><td>S32_2509</td><td>1954 Greyhound Scenicruiser</td><td>2874</td><td>955</td><td>1919</td></tr><tr><td>S24_2022</td><td>1938 Cadillac V-16 Presidential Limousine</td><td>2847</td><td>955</td><td>1892</td></tr><tr><td>S18_1749</td><td>1917 Grand Touring Sedan</td><td>2724</td><td>918</td><td>1806</td></tr><tr><td>S24_4278</td><td>1900s Vintage Tri-Plane</td><td>2756</td><td>1009</td><td>1747</td></tr><tr><td>S18_1097</td><td>1940 Ford Pickup Truck</td><td>2613</td><td>999</td><td>1614</td></tr><tr><td>S24_2840</td><td>1958 Chevy Corvette Limited Edition</td><td>2542</td><td>983</td><td>1559</td></tr><tr><td>S24_2766</td><td>1949 Jaguar XK 120</td><td>2350</td><td>949</td><td>1401</td></tr><tr><td>S18_3856</td><td>1941 Chevrolet Special Deluxe Cabriolet</td><td>2378</td><td>1076</td><td>1302</td></tr><tr><td>S24_2300</td><td>1962 Volkswagen Microbus</td><td>2327</td><td>1029</td><td>1298</td></tr><tr><td>S24_3969</td><td>1936 Mercedes Benz 500k Roadster</td><td>2081</td><td>824</td><td>1257</td></tr><tr><td>S18_2432</td><td>1926 Ford Fire Engine</td><td>2018</td><td>998</td><td>1020</td></tr><tr><td>S700_3505</td><td>The Titanic</td><td>1956</td><td>952</td><td>1004</td></tr><tr><td>S700_1138</td><td>The Schooner Bluenose</td><td>1897</td><td>934</td><td>963</td></tr><tr><td>S18_3278</td><td>1969 Dodge Super Bee</td><td>1917</td><td>974</td><td>943</td></tr><tr><td>S24_2011</td><td>18th century schooner</td><td>1898</td><td>1011</td><td>887</td></tr><tr><td>S50_1514</td><td>1962 City of Detroit Streetcar</td><td>1645</td><td>966</td><td>679</td></tr><tr><td>S12_1666</td><td>1958 Setra Bus</td><td>1579</td><td>972</td><td>607</td></tr><tr><td>S24_2887</td><td>1952 Citroen-15CV</td><td>1452</td><td>873</td><td>579</td></tr><tr><td>S18_4721</td><td>1957 Corvette Convertible</td><td>1249</td><td>1013</td><td>236</td></tr><tr><td>S24_1046</td><td>1970 Chevy Chevelle SS 454</td><td>1005</td><td>803</td><td>202</td></tr><tr><td>S12_3891</td><td>1969 Ford Falcon</td><td>1049</td><td>965</td><td>84</td></tr><tr><td>S18_2581</td><td>P-51-D Mustang</td><td>992</td><td>917</td><td>75</td></tr><tr><td>S50_1392</td><td>Diamond T620 Semi-Skirted Tanker</td><td>1016</td><td>979</td><td>37</td></tr><tr><td>S700_1938</td><td>The Mayflower</td><td>737</td><td>898</td><td>-161</td></tr><tr><td>S32_3522</td><td>1996 Peterbilt 379 Stake Bed with Outrigger</td><td>814</td><td>988</td><td>-174</td></tr><tr><td>S18_2248</td><td>1911 Ford Town Car</td><td>540</td><td>832</td><td>-292</td></tr><tr><td>S18_2795</td><td>1928 Mercedes-Benz SSK</td><td>548</td><td>880</td><td>-332</td></tr><tr><td>S50_4713</td><td>2002 Yamaha YZR M1</td><td>600</td><td>992</td><td>-392</td></tr><tr><td>S700_3167</td><td>F/A 18 Hornet 1/72</td><td>551</td><td>1047</td><td>-496</td></tr><tr><td>S72_3212</td><td>Pont Yacht</td><td>414</td><td>958</td><td>-544</td></tr><tr><td>S32_1374</td><td>1997 BMW F650 ST</td><td>178</td><td>1014</td><td>-836</td></tr><tr><td>S32_4289</td><td>1928 Ford Phaeton Deluxe</td><td>136</td><td>972</td><td>-836</td></tr><tr><td>S12_1099</td><td>1968 Ford Mustang</td><td>68</td><td>933</td><td>-865</td></tr><tr><td>S24_2000</td><td>1960 BSA Gold Star DBD34</td><td>15</td><td>1015</td><td>-1000</td></tr><tr><td>S18_3233</td><td>1985 Toyota Supra</td><td>7733</td><td>NULL</td><td>NULL</td></tr></table>"
                    },
                    "metadata": {}
                }
            ],
            "execution_count": 3
        },
        {
            "cell_type": "markdown",
            "source": [
                "<span style=\"color: #008000;\"><b>Define the warehouse of surplus items (with a view \"abundanceItems\" a join executed)</b></span>"
            ],
            "metadata": {
                "azdata_cell_guid": "4b2df98f-021d-4494-aacf-52304ef3a818"
            },
            "attachments": {}
        },
        {
            "cell_type": "code",
            "source": [
                "--CREATE VIEW inventoryDetails AS\n",
                "SELECT \n",
                "    w.warehouseName\n",
                "    ,p.productCode\n",
                "    ,p.productName\n",
                "    ,SUM(p.quantityInStock) AS inventoryTotal\n",
                "    ,inventoryAbundance\n",
                "FROM products p \n",
                "    JOIN   warehouses w\n",
                "        ON p.warehouseCode = w.warehouseCode\n",
                "    JOIN abundanceItems on p.productCode = abundanceItems.productCode\n",
                "GROUP BY    w.warehouseName\n",
                "            ,p.productCode\n",
                "            ,p.productName\n",
                "ORDER BY inventoryTotal DESC;"
            ],
            "metadata": {
                "azdata_cell_guid": "3a09d26f-8e3a-4c44-a9b4-abce0d5805a8",
                "language": "sql"
            },
            "outputs": [
                {
                    "output_type": "display_data",
                    "data": {
                        "text/html": "(110 row(s) affected)"
                    },
                    "metadata": {}
                },
                {
                    "output_type": "display_data",
                    "data": {
                        "text/html": "Total execution time: 00:00:01.038"
                    },
                    "metadata": {}
                },
                {
                    "output_type": "execute_result",
                    "execution_count": 4,
                    "data": {
                        "application/vnd.dataresource+json": {
                            "schema": {
                                "fields": [
                                    {
                                        "name": "warehouseName"
                                    },
                                    {
                                        "name": "productCode"
                                    },
                                    {
                                        "name": "productName"
                                    },
                                    {
                                        "name": "inventoryTotal"
                                    },
                                    {
                                        "name": "inventoryAbundance"
                                    }
                                ]
                            },
                            "data": [
                                {
                                    "warehouseName": "North",
                                    "productCode": "S12_2823",
                                    "productName": "2002 Suzuki XREO",
                                    "inventoryTotal": "9997",
                                    "inventoryAbundance": "8969"
                                },
                                {
                                    "warehouseName": "East",
                                    "productCode": "S18_1984",
                                    "productName": "1995 Honda Civic",
                                    "inventoryTotal": "9772",
                                    "inventoryAbundance": "8855"
                                },
                                {
                                    "warehouseName": "North",
                                    "productCode": "S700_2466",
                                    "productName": "America West Airlines B757-200",
                                    "inventoryTotal": "9653",
                                    "inventoryAbundance": "8669"
                                },
                                {
                                    "warehouseName": "East",
                                    "productCode": "S24_3432",
                                    "productName": "2002 Chevy Corvette",
                                    "inventoryTotal": "9446",
                                    "inventoryAbundance": "8552"
                                },
                                {
                                    "warehouseName": "West",
                                    "productCode": "S18_2325",
                                    "productName": "1932 Model A Ford J-Coupe",
                                    "inventoryTotal": "9354",
                                    "inventoryAbundance": "8397"
                                },
                                {
                                    "warehouseName": "North",
                                    "productCode": "S32_2206",
                                    "productName": "1982 Ducati 996 R",
                                    "inventoryTotal": "9241",
                                    "inventoryAbundance": "8335"
                                },
                                {
                                    "warehouseName": "West",
                                    "productCode": "S24_3151",
                                    "productName": "1912 Ford Model T Delivery Wagon",
                                    "inventoryTotal": "9173",
                                    "inventoryAbundance": "8182"
                                },
                                {
                                    "warehouseName": "East",
                                    "productCode": "S18_3482",
                                    "productName": "1976 Ford Gran Torino",
                                    "inventoryTotal": "9127",
                                    "inventoryAbundance": "8212"
                                },
                                {
                                    "warehouseName": "East",
                                    "productCode": "S12_3380",
                                    "productName": "1968 Dodge Charger",
                                    "inventoryTotal": "9123",
                                    "inventoryAbundance": "8198"
                                },
                                {
                                    "warehouseName": "East",
                                    "productCode": "S18_1589",
                                    "productName": "1965 Aston Martin DB5",
                                    "inventoryTotal": "9042",
                                    "inventoryAbundance": "8128"
                                },
                                {
                                    "warehouseName": "East",
                                    "productCode": "S18_3685",
                                    "productName": "1948 Porsche Type 356 Roadster",
                                    "inventoryTotal": "8990",
                                    "inventoryAbundance": "8042"
                                },
                                {
                                    "warehouseName": "East",
                                    "productCode": "S18_1889",
                                    "productName": "1948 Porsche 356-A Roadster",
                                    "inventoryTotal": "8826",
                                    "inventoryAbundance": "7854"
                                },
                                {
                                    "warehouseName": "North",
                                    "productCode": "S700_4002",
                                    "productName": "American Airlines: MD-11S",
                                    "inventoryTotal": "8820",
                                    "inventoryAbundance": "7735"
                                },
                                {
                                    "warehouseName": "West",
                                    "productCode": "S18_1342",
                                    "productName": "1937 Lincoln Berline",
                                    "inventoryTotal": "8693",
                                    "inventoryAbundance": "7582"
                                },
                                {
                                    "warehouseName": "West",
                                    "productCode": "S18_1367",
                                    "productName": "1936 Mercedes-Benz 500K Special Roadster",
                                    "inventoryTotal": "8635",
                                    "inventoryAbundance": "7675"
                                },
                                {
                                    "warehouseName": "South",
                                    "productCode": "S32_3207",
                                    "productName": "1950's Chicago Surface Lines Streetcar",
                                    "inventoryTotal": "8601",
                                    "inventoryAbundance": "7667"
                                },
                                {
                                    "warehouseName": "East",
                                    "productCode": "S18_3232",
                                    "productName": "1992 Ferrari 360 Spider red",
                                    "inventoryTotal": "8347",
                                    "inventoryAbundance": "6539"
                                },
                                {
                                    "warehouseName": "West",
                                    "productCode": "S18_4522",
                                    "productName": "1904 Buick Runabout",
                                    "inventoryTotal": "8290",
                                    "inventoryAbundance": "7300"
                                },
                                {
                                    "warehouseName": "South",
                                    "productCode": "S18_2319",
                                    "productName": "1964 Mercedes Tour Bus",
                                    "inventoryTotal": "8258",
                                    "inventoryAbundance": "7205"
                                },
                                {
                                    "warehouseName": "East",
                                    "productCode": "S24_1628",
                                    "productName": "1966 Shelby Cobra 427 S/C",
                                    "inventoryTotal": "8197",
                                    "inventoryAbundance": "7282"
                                },
                                {
                                    "warehouseName": "East",
                                    "productCode": "S18_2870",
                                    "productName": "1999 Indy 500 Monte Carlo SS",
                                    "inventoryTotal": "8164",
                                    "inventoryAbundance": "7309"
                                },
                                {
                                    "warehouseName": "East",
                                    "productCode": "S24_3371",
                                    "productName": "1971 Alpine Renault 1600s",
                                    "inventoryTotal": "7995",
                                    "inventoryAbundance": "7026"
                                },
                                {
                                    "warehouseName": "North",
                                    "productCode": "S10_1678",
                                    "productName": "1969 Harley Davidson Ultimate Chopper",
                                    "inventoryTotal": "7933",
                                    "inventoryAbundance": "6876"
                                },
                                {
                                    "warehouseName": "West",
                                    "productCode": "S18_3320",
                                    "productName": "1917 Maxwell Touring Car",
                                    "inventoryTotal": "7913",
                                    "inventoryAbundance": "6921"
                                },
                                {
                                    "warehouseName": "East",
                                    "productCode": "S24_4620",
                                    "productName": "1961 Chevrolet Impala",
                                    "inventoryTotal": "7869",
                                    "inventoryAbundance": "6928"
                                },
                                {
                                    "warehouseName": "East",
                                    "productCode": "S18_3233",
                                    "productName": "1985 Toyota Supra",
                                    "inventoryTotal": "7733",
                                    "inventoryAbundance": "NULL"
                                },
                                {
                                    "warehouseName": "East",
                                    "productCode": "S24_2972",
                                    "productName": "1982 Lamborghini Diablo",
                                    "inventoryTotal": "7723",
                                    "inventoryAbundance": "6811"
                                },
                                {
                                    "warehouseName": "North",
                                    "productCode": "S18_3782",
                                    "productName": "1957 Vespa GS150",
                                    "inventoryTotal": "7689",
                                    "inventoryAbundance": "6730"
                                },
                                {
                                    "warehouseName": "West",
                                    "productCode": "S24_1937",
                                    "productName": "1939 Chevrolet Deluxe Coupe",
                                    "inventoryTotal": "7332",
                                    "inventoryAbundance": "6395"
                                },
                                {
                                    "warehouseName": "East",
                                    "productCode": "S12_4675",
                                    "productName": "1969 Dodge Charger",
                                    "inventoryTotal": "7323",
                                    "inventoryAbundance": "6331"
                                },
                                {
                                    "warehouseName": "East",
                                    "productCode": "S10_1949",
                                    "productName": "1952 Alpine Renault 1300",
                                    "inventoryTotal": "7305",
                                    "inventoryAbundance": "6344"
                                },
                                {
                                    "warehouseName": "North",
                                    "productCode": "S700_2834",
                                    "productName": "ATA: B757-300",
                                    "inventoryTotal": "7106",
                                    "inventoryAbundance": "6133"
                                },
                                {
                                    "warehouseName": "South",
                                    "productCode": "S700_2610",
                                    "productName": "The USS Constitution Ship",
                                    "inventoryTotal": "7083",
                                    "inventoryAbundance": "6063"
                                },
                                {
                                    "warehouseName": "West",
                                    "productCode": "S50_1341",
                                    "productName": "1930 Buick Marquette Phaeton",
                                    "inventoryTotal": "7062",
                                    "inventoryAbundance": "5988"
                                },
                                {
                                    "warehouseName": "North",
                                    "productCode": "S24_1578",
                                    "productName": "1997 BMW R 1100 S",
                                    "inventoryTotal": "7003",
                                    "inventoryAbundance": "5970"
                                },
                                {
                                    "warehouseName": "East",
                                    "productCode": "S700_2824",
                                    "productName": "1982 Camaro Z28",
                                    "inventoryTotal": "6934",
                                    "inventoryAbundance": "5937"
                                },
                                {
                                    "warehouseName": "East",
                                    "productCode": "S12_3148",
                                    "productName": "1969 Corvair Monza",
                                    "inventoryTotal": "6906",
                                    "inventoryAbundance": "5943"
                                },
                                {
                                    "warehouseName": "North",
                                    "productCode": "S24_2360",
                                    "productName": "1982 Ducati 900 Monster",
                                    "inventoryTotal": "6840",
                                    "inventoryAbundance": "5893"
                                },
                                {
                                    "warehouseName": "North",
                                    "productCode": "S24_3949",
                                    "productName": "Corsair F4U ( Bird Cage)",
                                    "inventoryTotal": "6812",
                                    "inventoryAbundance": "5761"
                                },
                                {
                                    "warehouseName": "East",
                                    "productCode": "S10_4962",
                                    "productName": "1962 LanciaA Delta 16V",
                                    "inventoryTotal": "6791",
                                    "inventoryAbundance": "5859"
                                },
                                {
                                    "warehouseName": "West",
                                    "productCode": "S18_4668",
                                    "productName": "1939 Cadillac Limousine",
                                    "inventoryTotal": "6645",
                                    "inventoryAbundance": "5650"
                                },
                                {
                                    "warehouseName": "North",
                                    "productCode": "S10_2016",
                                    "productName": "1996 Moto Guzzi 1100i",
                                    "inventoryTotal": "6625",
                                    "inventoryAbundance": "5626"
                                },
                                {
                                    "warehouseName": "West",
                                    "productCode": "S24_3816",
                                    "productName": "1940 Ford Delivery Sedan",
                                    "inventoryTotal": "6621",
                                    "inventoryAbundance": "5698"
                                },
                                {
                                    "warehouseName": "East",
                                    "productCode": "S24_3856",
                                    "productName": "1956 Porsche 356A Coupe",
                                    "inventoryTotal": "6600",
                                    "inventoryAbundance": "5548"
                                },
                                {
                                    "warehouseName": "East",
                                    "productCode": "S24_4048",
                                    "productName": "1992 Porsche Cayenne Turbo Silver",
                                    "inventoryTotal": "6582",
                                    "inventoryAbundance": "5715"
                                },
                                {
                                    "warehouseName": "West",
                                    "productCode": "S18_4409",
                                    "productName": "1932 Alfa Romeo 8C2300 Spider Sport",
                                    "inventoryTotal": "6553",
                                    "inventoryAbundance": "5687"
                                },
                                {
                                    "warehouseName": "South",
                                    "productCode": "S18_3259",
                                    "productName": "Collectable Wooden Train",
                                    "inventoryTotal": "6450",
                                    "inventoryAbundance": "5532"
                                },
                                {
                                    "warehouseName": "South",
                                    "productCode": "S12_4473",
                                    "productName": "1957 Chevy Pickup",
                                    "inventoryTotal": "6125",
                                    "inventoryAbundance": "5069"
                                },
                                {
                                    "warehouseName": "West",
                                    "productCode": "S18_3136",
                                    "productName": "18th Century Vintage Horse Carriage",
                                    "inventoryTotal": "5992",
                                    "inventoryAbundance": "5085"
                                },
                                {
                                    "warehouseName": "North",
                                    "productCode": "S24_2841",
                                    "productName": "1900s Vintage Bi-Plane",
                                    "inventoryTotal": "5942",
                                    "inventoryAbundance": "5002"
                                },
                                {
                                    "warehouseName": "North",
                                    "productCode": "S700_1691",
                                    "productName": "American Airlines: B767-300",
                                    "inventoryTotal": "5841",
                                    "inventoryAbundance": "4947"
                                },
                                {
                                    "warehouseName": "East",
                                    "productCode": "S12_3990",
                                    "productName": "1970 Plymouth Hemi Cuda",
                                    "inventoryTotal": "5663",
                                    "inventoryAbundance": "4763"
                                },
                                {
                                    "warehouseName": "West",
                                    "productCode": "S18_2957",
                                    "productName": "1934 Ford V8 Coupe",
                                    "inventoryTotal": "5649",
                                    "inventoryAbundance": "4664"
                                },
                                {
                                    "warehouseName": "North",
                                    "productCode": "S10_4698",
                                    "productName": "2003 Harley-Davidson Eagle Drag Bike",
                                    "inventoryTotal": "5582",
                                    "inventoryAbundance": "4597"
                                },
                                {
                                    "warehouseName": "East",
                                    "productCode": "S18_4027",
                                    "productName": "1970 Triumph Spitfire",
                                    "inventoryTotal": "5545",
                                    "inventoryAbundance": "4600"
                                },
                                {
                                    "warehouseName": "North",
                                    "productCode": "S18_1662",
                                    "productName": "1980s Black Hawk Helicopter",
                                    "inventoryTotal": "5330",
                                    "inventoryAbundance": "4290"
                                },
                                {
                                    "warehouseName": "South",
                                    "productCode": "S32_1268",
                                    "productName": "1980’s GM Manhattan Express",
                                    "inventoryTotal": "5099",
                                    "inventoryAbundance": "4188"
                                },
                                {
                                    "warehouseName": "South",
                                    "productCode": "S700_3962",
                                    "productName": "The Queen Mary",
                                    "inventoryTotal": "5088",
                                    "inventoryAbundance": "4192"
                                },
                                {
                                    "warehouseName": "North",
                                    "productCode": "S72_1253",
                                    "productName": "Boeing X-32A JSF",
                                    "inventoryTotal": "4857",
                                    "inventoryAbundance": "3897"
                                },
                                {
                                    "warehouseName": "East",
                                    "productCode": "S18_2238",
                                    "productName": "1998 Chrysler Plymouth Prowler",
                                    "inventoryTotal": "4724",
                                    "inventoryAbundance": "3738"
                                },
                                {
                                    "warehouseName": "West",
                                    "productCode": "S24_4258",
                                    "productName": "1936 Chrysler Airflow",
                                    "inventoryTotal": "4710",
                                    "inventoryAbundance": "3727"
                                },
                                {
                                    "warehouseName": "East",
                                    "productCode": "S24_3191",
                                    "productName": "1969 Chevrolet Camaro Z28",
                                    "inventoryTotal": "4695",
                                    "inventoryAbundance": "3825"
                                },
                                {
                                    "warehouseName": "North",
                                    "productCode": "S18_2625",
                                    "productName": "1936 Harley Davidson El Knucklehead",
                                    "inventoryTotal": "4357",
                                    "inventoryAbundance": "3412"
                                },
                                {
                                    "warehouseName": "South",
                                    "productCode": "S18_3029",
                                    "productName": "1999 Yamaha Speed Boat",
                                    "inventoryTotal": "4259",
                                    "inventoryAbundance": "3293"
                                },
                                {
                                    "warehouseName": "West",
                                    "productCode": "S18_2949",
                                    "productName": "1913 Ford Model T Speedster",
                                    "inventoryTotal": "4189",
                                    "inventoryAbundance": "3151"
                                },
                                {
                                    "warehouseName": "East",
                                    "productCode": "S24_1444",
                                    "productName": "1970 Dodge Coronet",
                                    "inventoryTotal": "4074",
                                    "inventoryAbundance": "3098"
                                },
                                {
                                    "warehouseName": "East",
                                    "productCode": "S18_1129",
                                    "productName": "1993 Mazda RX-7",
                                    "inventoryTotal": "3975",
                                    "inventoryAbundance": "3028"
                                },
                                {
                                    "warehouseName": "West",
                                    "productCode": "S18_3140",
                                    "productName": "1903 Ford Model A",
                                    "inventoryTotal": "3913",
                                    "inventoryAbundance": "3030"
                                },
                                {
                                    "warehouseName": "North",
                                    "productCode": "S24_1785",
                                    "productName": "1928 British Royal Navy Airplane",
                                    "inventoryTotal": "3627",
                                    "inventoryAbundance": "2655"
                                },
                                {
                                    "warehouseName": "East",
                                    "productCode": "S12_1108",
                                    "productName": "2001 Ferrari Enzo",
                                    "inventoryTotal": "3619",
                                    "inventoryAbundance": "2600"
                                },
                                {
                                    "warehouseName": "South",
                                    "productCode": "S700_2047",
                                    "productName": "HMS Bounty",
                                    "inventoryTotal": "3501",
                                    "inventoryAbundance": "2604"
                                },
                                {
                                    "warehouseName": "North",
                                    "productCode": "S32_4485",
                                    "productName": "1974 Ducati 350 Mk3 Desmo",
                                    "inventoryTotal": "3341",
                                    "inventoryAbundance": "2443"
                                },
                                {
                                    "warehouseName": "East",
                                    "productCode": "S10_4757",
                                    "productName": "1972 Alfa Romeo GTA",
                                    "inventoryTotal": "3252",
                                    "inventoryAbundance": "2222"
                                },
                                {
                                    "warehouseName": "East",
                                    "productCode": "S18_4933",
                                    "productName": "1957 Ford Thunderbird",
                                    "inventoryTotal": "3209",
                                    "inventoryAbundance": "2442"
                                },
                                {
                                    "warehouseName": "South",
                                    "productCode": "S18_4600",
                                    "productName": "1940s Ford truck",
                                    "inventoryTotal": "3128",
                                    "inventoryAbundance": "2067"
                                },
                                {
                                    "warehouseName": "West",
                                    "productCode": "S24_3420",
                                    "productName": "1937 Horch 930V Limousine",
                                    "inventoryTotal": "2902",
                                    "inventoryAbundance": "2018"
                                },
                                {
                                    "warehouseName": "South",
                                    "productCode": "S32_2509",
                                    "productName": "1954 Greyhound Scenicruiser",
                                    "inventoryTotal": "2874",
                                    "inventoryAbundance": "1919"
                                },
                                {
                                    "warehouseName": "West",
                                    "productCode": "S24_2022",
                                    "productName": "1938 Cadillac V-16 Presidential Limousine",
                                    "inventoryTotal": "2847",
                                    "inventoryAbundance": "1892"
                                },
                                {
                                    "warehouseName": "North",
                                    "productCode": "S24_4278",
                                    "productName": "1900s Vintage Tri-Plane",
                                    "inventoryTotal": "2756",
                                    "inventoryAbundance": "1747"
                                },
                                {
                                    "warehouseName": "West",
                                    "productCode": "S18_1749",
                                    "productName": "1917 Grand Touring Sedan",
                                    "inventoryTotal": "2724",
                                    "inventoryAbundance": "1806"
                                },
                                {
                                    "warehouseName": "South",
                                    "productCode": "S18_1097",
                                    "productName": "1940 Ford Pickup Truck",
                                    "inventoryTotal": "2613",
                                    "inventoryAbundance": "1614"
                                },
                                {
                                    "warehouseName": "East",
                                    "productCode": "S24_2840",
                                    "productName": "1958 Chevy Corvette Limited Edition",
                                    "inventoryTotal": "2542",
                                    "inventoryAbundance": "1559"
                                },
                                {
                                    "warehouseName": "West",
                                    "productCode": "S18_3856",
                                    "productName": "1941 Chevrolet Special Deluxe Cabriolet",
                                    "inventoryTotal": "2378",
                                    "inventoryAbundance": "1302"
                                },
                                {
                                    "warehouseName": "East",
                                    "productCode": "S24_2766",
                                    "productName": "1949 Jaguar XK 120",
                                    "inventoryTotal": "2350",
                                    "inventoryAbundance": "1401"
                                },
                                {
                                    "warehouseName": "South",
                                    "productCode": "S24_2300",
                                    "productName": "1962 Volkswagen Microbus",
                                    "inventoryTotal": "2327",
                                    "inventoryAbundance": "1298"
                                },
                                {
                                    "warehouseName": "West",
                                    "productCode": "S24_3969",
                                    "productName": "1936 Mercedes Benz 500k Roadster",
                                    "inventoryTotal": "2081",
                                    "inventoryAbundance": "1257"
                                },
                                {
                                    "warehouseName": "South",
                                    "productCode": "S18_2432",
                                    "productName": "1926 Ford Fire Engine",
                                    "inventoryTotal": "2018",
                                    "inventoryAbundance": "1020"
                                },
                                {
                                    "warehouseName": "South",
                                    "productCode": "S700_3505",
                                    "productName": "The Titanic",
                                    "inventoryTotal": "1956",
                                    "inventoryAbundance": "1004"
                                },
                                {
                                    "warehouseName": "East",
                                    "productCode": "S18_3278",
                                    "productName": "1969 Dodge Super Bee",
                                    "inventoryTotal": "1917",
                                    "inventoryAbundance": "943"
                                },
                                {
                                    "warehouseName": "South",
                                    "productCode": "S24_2011",
                                    "productName": "18th century schooner",
                                    "inventoryTotal": "1898",
                                    "inventoryAbundance": "887"
                                },
                                {
                                    "warehouseName": "South",
                                    "productCode": "S700_1138",
                                    "productName": "The Schooner Bluenose",
                                    "inventoryTotal": "1897",
                                    "inventoryAbundance": "963"
                                },
                                {
                                    "warehouseName": "South",
                                    "productCode": "S50_1514",
                                    "productName": "1962 City of Detroit Streetcar",
                                    "inventoryTotal": "1645",
                                    "inventoryAbundance": "679"
                                },
                                {
                                    "warehouseName": "South",
                                    "productCode": "S12_1666",
                                    "productName": "1958 Setra Bus",
                                    "inventoryTotal": "1579",
                                    "inventoryAbundance": "607"
                                },
                                {
                                    "warehouseName": "East",
                                    "productCode": "S24_2887",
                                    "productName": "1952 Citroen-15CV",
                                    "inventoryTotal": "1452",
                                    "inventoryAbundance": "579"
                                },
                                {
                                    "warehouseName": "East",
                                    "productCode": "S18_4721",
                                    "productName": "1957 Corvette Convertible",
                                    "inventoryTotal": "1249",
                                    "inventoryAbundance": "236"
                                },
                                {
                                    "warehouseName": "East",
                                    "productCode": "S12_3891",
                                    "productName": "1969 Ford Falcon",
                                    "inventoryTotal": "1049",
                                    "inventoryAbundance": "84"
                                },
                                {
                                    "warehouseName": "South",
                                    "productCode": "S50_1392",
                                    "productName": "Diamond T620 Semi-Skirted Tanker",
                                    "inventoryTotal": "1016",
                                    "inventoryAbundance": "37"
                                },
                                {
                                    "warehouseName": "East",
                                    "productCode": "S24_1046",
                                    "productName": "1970 Chevy Chevelle SS 454",
                                    "inventoryTotal": "1005",
                                    "inventoryAbundance": "202"
                                },
                                {
                                    "warehouseName": "North",
                                    "productCode": "S18_2581",
                                    "productName": "P-51-D Mustang",
                                    "inventoryTotal": "992",
                                    "inventoryAbundance": "75"
                                },
                                {
                                    "warehouseName": "South",
                                    "productCode": "S32_3522",
                                    "productName": "1996 Peterbilt 379 Stake Bed with Outrigger",
                                    "inventoryTotal": "814",
                                    "inventoryAbundance": "-174"
                                },
                                {
                                    "warehouseName": "South",
                                    "productCode": "S700_1938",
                                    "productName": "The Mayflower",
                                    "inventoryTotal": "737",
                                    "inventoryAbundance": "-161"
                                },
                                {
                                    "warehouseName": "North",
                                    "productCode": "S50_4713",
                                    "productName": "2002 Yamaha YZR M1",
                                    "inventoryTotal": "600",
                                    "inventoryAbundance": "-392"
                                },
                                {
                                    "warehouseName": "North",
                                    "productCode": "S700_3167",
                                    "productName": "F/A 18 Hornet 1/72",
                                    "inventoryTotal": "551",
                                    "inventoryAbundance": "-496"
                                },
                                {
                                    "warehouseName": "West",
                                    "productCode": "S18_2795",
                                    "productName": "1928 Mercedes-Benz SSK",
                                    "inventoryTotal": "548",
                                    "inventoryAbundance": "-332"
                                },
                                {
                                    "warehouseName": "West",
                                    "productCode": "S18_2248",
                                    "productName": "1911 Ford Town Car",
                                    "inventoryTotal": "540",
                                    "inventoryAbundance": "-292"
                                },
                                {
                                    "warehouseName": "South",
                                    "productCode": "S72_3212",
                                    "productName": "Pont Yacht",
                                    "inventoryTotal": "414",
                                    "inventoryAbundance": "-544"
                                },
                                {
                                    "warehouseName": "North",
                                    "productCode": "S32_1374",
                                    "productName": "1997 BMW F650 ST",
                                    "inventoryTotal": "178",
                                    "inventoryAbundance": "-836"
                                },
                                {
                                    "warehouseName": "West",
                                    "productCode": "S32_4289",
                                    "productName": "1928 Ford Phaeton Deluxe",
                                    "inventoryTotal": "136",
                                    "inventoryAbundance": "-836"
                                },
                                {
                                    "warehouseName": "East",
                                    "productCode": "S12_1099",
                                    "productName": "1968 Ford Mustang",
                                    "inventoryTotal": "68",
                                    "inventoryAbundance": "-865"
                                },
                                {
                                    "warehouseName": "North",
                                    "productCode": "S24_2000",
                                    "productName": "1960 BSA Gold Star DBD34",
                                    "inventoryTotal": "15",
                                    "inventoryAbundance": "-1000"
                                }
                            ]
                        },
                        "text/html": "<table><tr><th>warehouseName</th><th>productCode</th><th>productName</th><th>inventoryTotal</th><th>inventoryAbundance</th></tr><tr><td>North</td><td>S12_2823</td><td>2002 Suzuki XREO</td><td>9997</td><td>8969</td></tr><tr><td>East</td><td>S18_1984</td><td>1995 Honda Civic</td><td>9772</td><td>8855</td></tr><tr><td>North</td><td>S700_2466</td><td>America West Airlines B757-200</td><td>9653</td><td>8669</td></tr><tr><td>East</td><td>S24_3432</td><td>2002 Chevy Corvette</td><td>9446</td><td>8552</td></tr><tr><td>West</td><td>S18_2325</td><td>1932 Model A Ford J-Coupe</td><td>9354</td><td>8397</td></tr><tr><td>North</td><td>S32_2206</td><td>1982 Ducati 996 R</td><td>9241</td><td>8335</td></tr><tr><td>West</td><td>S24_3151</td><td>1912 Ford Model T Delivery Wagon</td><td>9173</td><td>8182</td></tr><tr><td>East</td><td>S18_3482</td><td>1976 Ford Gran Torino</td><td>9127</td><td>8212</td></tr><tr><td>East</td><td>S12_3380</td><td>1968 Dodge Charger</td><td>9123</td><td>8198</td></tr><tr><td>East</td><td>S18_1589</td><td>1965 Aston Martin DB5</td><td>9042</td><td>8128</td></tr><tr><td>East</td><td>S18_3685</td><td>1948 Porsche Type 356 Roadster</td><td>8990</td><td>8042</td></tr><tr><td>East</td><td>S18_1889</td><td>1948 Porsche 356-A Roadster</td><td>8826</td><td>7854</td></tr><tr><td>North</td><td>S700_4002</td><td>American Airlines: MD-11S</td><td>8820</td><td>7735</td></tr><tr><td>West</td><td>S18_1342</td><td>1937 Lincoln Berline</td><td>8693</td><td>7582</td></tr><tr><td>West</td><td>S18_1367</td><td>1936 Mercedes-Benz 500K Special Roadster</td><td>8635</td><td>7675</td></tr><tr><td>South</td><td>S32_3207</td><td>1950&#39;s Chicago Surface Lines Streetcar</td><td>8601</td><td>7667</td></tr><tr><td>East</td><td>S18_3232</td><td>1992 Ferrari 360 Spider red</td><td>8347</td><td>6539</td></tr><tr><td>West</td><td>S18_4522</td><td>1904 Buick Runabout</td><td>8290</td><td>7300</td></tr><tr><td>South</td><td>S18_2319</td><td>1964 Mercedes Tour Bus</td><td>8258</td><td>7205</td></tr><tr><td>East</td><td>S24_1628</td><td>1966 Shelby Cobra 427 S/C</td><td>8197</td><td>7282</td></tr><tr><td>East</td><td>S18_2870</td><td>1999 Indy 500 Monte Carlo SS</td><td>8164</td><td>7309</td></tr><tr><td>East</td><td>S24_3371</td><td>1971 Alpine Renault 1600s</td><td>7995</td><td>7026</td></tr><tr><td>North</td><td>S10_1678</td><td>1969 Harley Davidson Ultimate Chopper</td><td>7933</td><td>6876</td></tr><tr><td>West</td><td>S18_3320</td><td>1917 Maxwell Touring Car</td><td>7913</td><td>6921</td></tr><tr><td>East</td><td>S24_4620</td><td>1961 Chevrolet Impala</td><td>7869</td><td>6928</td></tr><tr><td>East</td><td>S18_3233</td><td>1985 Toyota Supra</td><td>7733</td><td>NULL</td></tr><tr><td>East</td><td>S24_2972</td><td>1982 Lamborghini Diablo</td><td>7723</td><td>6811</td></tr><tr><td>North</td><td>S18_3782</td><td>1957 Vespa GS150</td><td>7689</td><td>6730</td></tr><tr><td>West</td><td>S24_1937</td><td>1939 Chevrolet Deluxe Coupe</td><td>7332</td><td>6395</td></tr><tr><td>East</td><td>S12_4675</td><td>1969 Dodge Charger</td><td>7323</td><td>6331</td></tr><tr><td>East</td><td>S10_1949</td><td>1952 Alpine Renault 1300</td><td>7305</td><td>6344</td></tr><tr><td>North</td><td>S700_2834</td><td>ATA: B757-300</td><td>7106</td><td>6133</td></tr><tr><td>South</td><td>S700_2610</td><td>The USS Constitution Ship</td><td>7083</td><td>6063</td></tr><tr><td>West</td><td>S50_1341</td><td>1930 Buick Marquette Phaeton</td><td>7062</td><td>5988</td></tr><tr><td>North</td><td>S24_1578</td><td>1997 BMW R 1100 S</td><td>7003</td><td>5970</td></tr><tr><td>East</td><td>S700_2824</td><td>1982 Camaro Z28</td><td>6934</td><td>5937</td></tr><tr><td>East</td><td>S12_3148</td><td>1969 Corvair Monza</td><td>6906</td><td>5943</td></tr><tr><td>North</td><td>S24_2360</td><td>1982 Ducati 900 Monster</td><td>6840</td><td>5893</td></tr><tr><td>North</td><td>S24_3949</td><td>Corsair F4U ( Bird Cage)</td><td>6812</td><td>5761</td></tr><tr><td>East</td><td>S10_4962</td><td>1962 LanciaA Delta 16V</td><td>6791</td><td>5859</td></tr><tr><td>West</td><td>S18_4668</td><td>1939 Cadillac Limousine</td><td>6645</td><td>5650</td></tr><tr><td>North</td><td>S10_2016</td><td>1996 Moto Guzzi 1100i</td><td>6625</td><td>5626</td></tr><tr><td>West</td><td>S24_3816</td><td>1940 Ford Delivery Sedan</td><td>6621</td><td>5698</td></tr><tr><td>East</td><td>S24_3856</td><td>1956 Porsche 356A Coupe</td><td>6600</td><td>5548</td></tr><tr><td>East</td><td>S24_4048</td><td>1992 Porsche Cayenne Turbo Silver</td><td>6582</td><td>5715</td></tr><tr><td>West</td><td>S18_4409</td><td>1932 Alfa Romeo 8C2300 Spider Sport</td><td>6553</td><td>5687</td></tr><tr><td>South</td><td>S18_3259</td><td>Collectable Wooden Train</td><td>6450</td><td>5532</td></tr><tr><td>South</td><td>S12_4473</td><td>1957 Chevy Pickup</td><td>6125</td><td>5069</td></tr><tr><td>West</td><td>S18_3136</td><td>18th Century Vintage Horse Carriage</td><td>5992</td><td>5085</td></tr><tr><td>North</td><td>S24_2841</td><td>1900s Vintage Bi-Plane</td><td>5942</td><td>5002</td></tr><tr><td>North</td><td>S700_1691</td><td>American Airlines: B767-300</td><td>5841</td><td>4947</td></tr><tr><td>East</td><td>S12_3990</td><td>1970 Plymouth Hemi Cuda</td><td>5663</td><td>4763</td></tr><tr><td>West</td><td>S18_2957</td><td>1934 Ford V8 Coupe</td><td>5649</td><td>4664</td></tr><tr><td>North</td><td>S10_4698</td><td>2003 Harley-Davidson Eagle Drag Bike</td><td>5582</td><td>4597</td></tr><tr><td>East</td><td>S18_4027</td><td>1970 Triumph Spitfire</td><td>5545</td><td>4600</td></tr><tr><td>North</td><td>S18_1662</td><td>1980s Black Hawk Helicopter</td><td>5330</td><td>4290</td></tr><tr><td>South</td><td>S32_1268</td><td>1980’s GM Manhattan Express</td><td>5099</td><td>4188</td></tr><tr><td>South</td><td>S700_3962</td><td>The Queen Mary</td><td>5088</td><td>4192</td></tr><tr><td>North</td><td>S72_1253</td><td>Boeing X-32A JSF</td><td>4857</td><td>3897</td></tr><tr><td>East</td><td>S18_2238</td><td>1998 Chrysler Plymouth Prowler</td><td>4724</td><td>3738</td></tr><tr><td>West</td><td>S24_4258</td><td>1936 Chrysler Airflow</td><td>4710</td><td>3727</td></tr><tr><td>East</td><td>S24_3191</td><td>1969 Chevrolet Camaro Z28</td><td>4695</td><td>3825</td></tr><tr><td>North</td><td>S18_2625</td><td>1936 Harley Davidson El Knucklehead</td><td>4357</td><td>3412</td></tr><tr><td>South</td><td>S18_3029</td><td>1999 Yamaha Speed Boat</td><td>4259</td><td>3293</td></tr><tr><td>West</td><td>S18_2949</td><td>1913 Ford Model T Speedster</td><td>4189</td><td>3151</td></tr><tr><td>East</td><td>S24_1444</td><td>1970 Dodge Coronet</td><td>4074</td><td>3098</td></tr><tr><td>East</td><td>S18_1129</td><td>1993 Mazda RX-7</td><td>3975</td><td>3028</td></tr><tr><td>West</td><td>S18_3140</td><td>1903 Ford Model A</td><td>3913</td><td>3030</td></tr><tr><td>North</td><td>S24_1785</td><td>1928 British Royal Navy Airplane</td><td>3627</td><td>2655</td></tr><tr><td>East</td><td>S12_1108</td><td>2001 Ferrari Enzo</td><td>3619</td><td>2600</td></tr><tr><td>South</td><td>S700_2047</td><td>HMS Bounty</td><td>3501</td><td>2604</td></tr><tr><td>North</td><td>S32_4485</td><td>1974 Ducati 350 Mk3 Desmo</td><td>3341</td><td>2443</td></tr><tr><td>East</td><td>S10_4757</td><td>1972 Alfa Romeo GTA</td><td>3252</td><td>2222</td></tr><tr><td>East</td><td>S18_4933</td><td>1957 Ford Thunderbird</td><td>3209</td><td>2442</td></tr><tr><td>South</td><td>S18_4600</td><td>1940s Ford truck</td><td>3128</td><td>2067</td></tr><tr><td>West</td><td>S24_3420</td><td>1937 Horch 930V Limousine</td><td>2902</td><td>2018</td></tr><tr><td>South</td><td>S32_2509</td><td>1954 Greyhound Scenicruiser</td><td>2874</td><td>1919</td></tr><tr><td>West</td><td>S24_2022</td><td>1938 Cadillac V-16 Presidential Limousine</td><td>2847</td><td>1892</td></tr><tr><td>North</td><td>S24_4278</td><td>1900s Vintage Tri-Plane</td><td>2756</td><td>1747</td></tr><tr><td>West</td><td>S18_1749</td><td>1917 Grand Touring Sedan</td><td>2724</td><td>1806</td></tr><tr><td>South</td><td>S18_1097</td><td>1940 Ford Pickup Truck</td><td>2613</td><td>1614</td></tr><tr><td>East</td><td>S24_2840</td><td>1958 Chevy Corvette Limited Edition</td><td>2542</td><td>1559</td></tr><tr><td>West</td><td>S18_3856</td><td>1941 Chevrolet Special Deluxe Cabriolet</td><td>2378</td><td>1302</td></tr><tr><td>East</td><td>S24_2766</td><td>1949 Jaguar XK 120</td><td>2350</td><td>1401</td></tr><tr><td>South</td><td>S24_2300</td><td>1962 Volkswagen Microbus</td><td>2327</td><td>1298</td></tr><tr><td>West</td><td>S24_3969</td><td>1936 Mercedes Benz 500k Roadster</td><td>2081</td><td>1257</td></tr><tr><td>South</td><td>S18_2432</td><td>1926 Ford Fire Engine</td><td>2018</td><td>1020</td></tr><tr><td>South</td><td>S700_3505</td><td>The Titanic</td><td>1956</td><td>1004</td></tr><tr><td>East</td><td>S18_3278</td><td>1969 Dodge Super Bee</td><td>1917</td><td>943</td></tr><tr><td>South</td><td>S24_2011</td><td>18th century schooner</td><td>1898</td><td>887</td></tr><tr><td>South</td><td>S700_1138</td><td>The Schooner Bluenose</td><td>1897</td><td>963</td></tr><tr><td>South</td><td>S50_1514</td><td>1962 City of Detroit Streetcar</td><td>1645</td><td>679</td></tr><tr><td>South</td><td>S12_1666</td><td>1958 Setra Bus</td><td>1579</td><td>607</td></tr><tr><td>East</td><td>S24_2887</td><td>1952 Citroen-15CV</td><td>1452</td><td>579</td></tr><tr><td>East</td><td>S18_4721</td><td>1957 Corvette Convertible</td><td>1249</td><td>236</td></tr><tr><td>East</td><td>S12_3891</td><td>1969 Ford Falcon</td><td>1049</td><td>84</td></tr><tr><td>South</td><td>S50_1392</td><td>Diamond T620 Semi-Skirted Tanker</td><td>1016</td><td>37</td></tr><tr><td>East</td><td>S24_1046</td><td>1970 Chevy Chevelle SS 454</td><td>1005</td><td>202</td></tr><tr><td>North</td><td>S18_2581</td><td>P-51-D Mustang</td><td>992</td><td>75</td></tr><tr><td>South</td><td>S32_3522</td><td>1996 Peterbilt 379 Stake Bed with Outrigger</td><td>814</td><td>-174</td></tr><tr><td>South</td><td>S700_1938</td><td>The Mayflower</td><td>737</td><td>-161</td></tr><tr><td>North</td><td>S50_4713</td><td>2002 Yamaha YZR M1</td><td>600</td><td>-392</td></tr><tr><td>North</td><td>S700_3167</td><td>F/A 18 Hornet 1/72</td><td>551</td><td>-496</td></tr><tr><td>West</td><td>S18_2795</td><td>1928 Mercedes-Benz SSK</td><td>548</td><td>-332</td></tr><tr><td>West</td><td>S18_2248</td><td>1911 Ford Town Car</td><td>540</td><td>-292</td></tr><tr><td>South</td><td>S72_3212</td><td>Pont Yacht</td><td>414</td><td>-544</td></tr><tr><td>North</td><td>S32_1374</td><td>1997 BMW F650 ST</td><td>178</td><td>-836</td></tr><tr><td>West</td><td>S32_4289</td><td>1928 Ford Phaeton Deluxe</td><td>136</td><td>-836</td></tr><tr><td>East</td><td>S12_1099</td><td>1968 Ford Mustang</td><td>68</td><td>-865</td></tr><tr><td>North</td><td>S24_2000</td><td>1960 BSA Gold Star DBD34</td><td>15</td><td>-1000</td></tr></table>"
                    },
                    "metadata": {}
                }
            ],
            "execution_count": 4
        },
        {
            "cell_type": "markdown",
            "source": [
                "<span style=\"color: #008000;\"><b>Create total inventory in warehouses</b></span>"
            ],
            "metadata": {
                "azdata_cell_guid": "7ee3602e-3e22-48ce-8ada-ecfde0e2a3fb"
            },
            "attachments": {}
        },
        {
            "cell_type": "code",
            "source": [
                "--CREATE VIEW warehouseInventoryDetails AS\n",
                "SELECT  w.warehouseCode\n",
                "        ,w.warehouseName\n",
                "        ,SUM(p.quantityInStock) AS totalInventoryWarehouse\n",
                "        ,w.warehousePctCap\n",
                "FROM warehouses  w\n",
                "        LEFT JOIN products p \n",
                "            ON w.warehouseCode = p.warehouseCode\n",
                "GROUP BY \n",
                "    w.warehouseCode, \n",
                "    w.warehouseName\n",
                "order by \n",
                "\ttotalInventoryWarehouse desc"
            ],
            "metadata": {
                "azdata_cell_guid": "82c1d691-0cfd-469d-ba86-0c71358e8fdf",
                "language": "sql"
            },
            "outputs": [
                {
                    "output_type": "display_data",
                    "data": {
                        "text/html": "(4 row(s) affected)"
                    },
                    "metadata": {}
                },
                {
                    "output_type": "display_data",
                    "data": {
                        "text/html": "Total execution time: 00:00:01.056"
                    },
                    "metadata": {}
                },
                {
                    "output_type": "execute_result",
                    "metadata": {},
                    "execution_count": 18,
                    "data": {
                        "application/vnd.dataresource+json": {
                            "schema": {
                                "fields": [
                                    {
                                        "name": "warehouseCode"
                                    },
                                    {
                                        "name": "warehouseName"
                                    },
                                    {
                                        "name": "totalInventoryWarehouse"
                                    },
                                    {
                                        "name": "warehousePctCap"
                                    }
                                ]
                            },
                            "data": [
                                {
                                    "warehouseCode": "b",
                                    "warehouseName": "East",
                                    "totalInventoryWarehouse": "219183",
                                    "warehousePctCap": "67"
                                },
                                {
                                    "warehouseCode": "a",
                                    "warehouseName": "North",
                                    "totalInventoryWarehouse": "131688",
                                    "warehousePctCap": "72"
                                },
                                {
                                    "warehouseCode": "c",
                                    "warehouseName": "West",
                                    "totalInventoryWarehouse": "124880",
                                    "warehousePctCap": "50"
                                },
                                {
                                    "warehouseCode": "d",
                                    "warehouseName": "South",
                                    "totalInventoryWarehouse": "79380",
                                    "warehousePctCap": "75"
                                }
                            ]
                        },
                        "text/html": [
                            "<table>",
                            "<tr><th>warehouseCode</th><th>warehouseName</th><th>totalInventoryWarehouse</th><th>warehousePctCap</th></tr>",
                            "<tr><td>b</td><td>East</td><td>219183</td><td>67</td></tr>",
                            "<tr><td>a</td><td>North</td><td>131688</td><td>72</td></tr>",
                            "<tr><td>c</td><td>West</td><td>124880</td><td>50</td></tr>",
                            "<tr><td>d</td><td>South</td><td>79380</td><td>75</td></tr>",
                            "</table>"
                        ]
                    }
                }
            ],
            "execution_count": 18
        },
        {
            "cell_type": "markdown",
            "source": [
                "**Shed light on relation between place of orders and warehouses**"
            ],
            "metadata": {
                "azdata_cell_guid": "c8bb4db2-d74b-4e0d-ae8a-567b5bba4a4d"
            },
            "attachments": {}
        },
        {
            "cell_type": "code",
            "source": [
                "-- Create a state-region table\n",
                "CREATE TABLE stateRegions (\n",
                "    regionCode CHAR(1) PRIMARY KEY\n",
                "    ,regionName VARCHAR(10) NOT NULL\n",
                ");\n",
                "-- Load values\n",
                "INSERT INTO stateRegions (regionCode, regionName)\n",
                "VALUES\n",
                "    ('a', 'north'),\n",
                "    ('b', 'west'),\n",
                "    ('c', 'east'),\n",
                "    ('d', 'south'\n",
                ");\n",
                "-- Create a states table for US\n",
                "CREATE TABLE states (\n",
                "    stateName VARCHAR(50)\n",
                "    ,regionCode CHAR(1)\n",
                "    ,FOREIGN KEY (regionCode) REFERENCES stateRegions(regionCode)\n",
                ");\n",
                "--Load values\n",
                "INSERT INTO states (stateName, regionCode) \n",
                "VALUES\n",
                "    ('AL', 'd'),  -- South\n",
                "    ('AK', 'b'),   -- West\n",
                "    ('AZ', 'b'),   -- West\n",
                "    ('AR', 'd'),   -- South\n",
                "    ('CA', 'b'),   -- West\n",
                "    ('CO', 'b'),   -- West\n",
                "    ('CT', 'c'),   -- East\n",
                "    ('DE', 'c'),   -- East\n",
                "    ('FL', 'd'),   -- South\n",
                "    ('GA', 'd'),   -- South\n",
                "    ('HI', 'b'),   -- West\n",
                "    ('ID', 'b'),   -- West\n",
                "    ('IL', 'c'),   -- East\n",
                "    ('IN', 'c'),   -- East\n",
                "    ('IA', 'c'),   -- East\n",
                "    ('KS', 'b'),   -- West\n",
                "    ('KY', 'd'),   -- South\n",
                "    ('LA', 'd'),   -- South\n",
                "    ('ME', 'c'),   -- East\n",
                "    ('MD', 'c'),   -- East\n",
                "    ('MA', 'c'),   -- East\n",
                "    ('MI', 'c'),   -- East\n",
                "    ('MN', 'c'),   -- East\n",
                "    ('MS', 'd'),   -- South\n",
                "    ('MO', 'b'),   -- West\n",
                "    ('MT', 'b'),   -- West\n",
                "    ('NE', 'c'),   -- East\n",
                "    ('NV', 'b'),   -- West\n",
                "    ('NH', 'c'),   -- East\n",
                "    ('NJ', 'c'),   -- East\n",
                "    ('NM', 'b'),   -- West\n",
                "    ('NY', 'c'),   -- East\n",
                "    ('NC', 'd'),   -- South\n",
                "    ('ND', 'c'),   -- East\n",
                "    ('OH', 'c'),   -- East\n",
                "    ('OK', 'd'),   -- South\n",
                "    ('OR', 'b'),   -- West\n",
                "    ('PA', 'c'),   -- East\n",
                "    ('RI', 'c'),   -- East\n",
                "    ('SC', 'd'),   -- South\n",
                "    ('SD', 'c'),   -- East\n",
                "    ('TN', 'd'),   -- South\n",
                "    ('TX', 'd'),   -- South\n",
                "    ('UT', 'b'),   -- West\n",
                "    ('VT', 'c'),   -- East\n",
                "    ('VA', 'd'),   -- South\n",
                "    ('WA', 'b'),   -- West\n",
                "    ('WV', 'c'),   -- East\n",
                "    ('WI', 'c'),   -- East\n",
                "    ('WY', 'b');   -- West\n",
                ""
            ],
            "metadata": {
                "azdata_cell_guid": "4a53b746-2d0d-433d-8f1c-8a640186e0ec",
                "language": "sql",
                "tags": []
            },
            "outputs": [],
            "execution_count": null
        },
        {
            "cell_type": "markdown",
            "source": [
                "<span style=\"color: #008000;\"><b>Total quantity ordered based on region for USA</b></span>"
            ],
            "metadata": {
                "azdata_cell_guid": "05b91d96-fb0e-4d78-9562-39fee125628b"
            },
            "attachments": {}
        },
        {
            "cell_type": "code",
            "source": [
                "--Total quantity ordered based on region for USA\n",
                "SELECT  sr.regionName\n",
                "        ,SUM(od.quantityOrdered)     \n",
                "FROM orderdetails od \n",
                "    JOIN orders o\n",
                "        ON o.orderNumber = od.orderNumber \n",
                "    JOIN customers c\n",
                "        ON c.customerNumber = o.customerNumber\n",
                "    JOIN states s\n",
                "        ON c.state = s.stateName\n",
                "    INNER JOIN stateRegions sr \n",
                "        ON s.regionCode = sr.regionCode\n",
                "WHERE c.country = 'USA'\n",
                "GROUP BY    sr.regionName"
            ],
            "metadata": {
                "azdata_cell_guid": "c78fc8df-e756-47f5-8235-d3b54bfc9556",
                "language": "sql"
            },
            "outputs": [
                {
                    "output_type": "display_data",
                    "data": {
                        "text/html": "(2 row(s) affected)"
                    },
                    "metadata": {}
                },
                {
                    "output_type": "display_data",
                    "data": {
                        "text/html": "Total execution time: 00:00:01.039"
                    },
                    "metadata": {}
                },
                {
                    "output_type": "execute_result",
                    "metadata": {},
                    "execution_count": 28,
                    "data": {
                        "application/vnd.dataresource+json": {
                            "schema": {
                                "fields": [
                                    {
                                        "name": "regionName"
                                    },
                                    {
                                        "name": "SUM(od.quantityOrdered)"
                                    }
                                ]
                            },
                            "data": [
                                {
                                    "regionName": "west",
                                    "SUM(od.quantityOrdered)": "15910"
                                },
                                {
                                    "regionName": "east",
                                    "SUM(od.quantityOrdered)": "19934"
                                }
                            ]
                        },
                        "text/html": [
                            "<table>",
                            "<tr><th>regionName</th><th>SUM(od.quantityOrdered)</th></tr>",
                            "<tr><td>west</td><td>15910</td></tr>",
                            "<tr><td>east</td><td>19934</td></tr>",
                            "</table>"
                        ]
                    }
                }
            ],
            "execution_count": 28
        },
        {
            "cell_type": "markdown",
            "source": [
                "<span style=\"color: #008000;\"><b>Products by total sales compared with quantity in stock</b></span>"
            ],
            "metadata": {
                "azdata_cell_guid": "2f76af82-0bb6-44d8-92ac-675e80734c3c"
            },
            "attachments": {}
        },
        {
            "cell_type": "code",
            "source": [
                "--CREATE VIEW productsByTotalSales AS\n",
                "SELECT  p.productCode\n",
                "        ,p.productName\n",
                "        ,p.buyPrice AS unitPrice\n",
                "        ,SUM(od.quantityOrdered) AS totalItemsOrdered\n",
                "        ,(p.buyPrice * SUM(od.quantityOrdered)) AS totalSale\n",
                "        ,quantityInStock\n",
                "FROM project.products p  \n",
                "    LEFT JOIN project.orderdetails od\n",
                "        ON p.productCode = od.productCode\n",
                "GROUP BY    p.productCode\n",
                "            ,p.productName      \n",
                "ORDER BY totalSale DESC;"
            ],
            "metadata": {
                "azdata_cell_guid": "786745ac-7596-4bd7-b17b-2811232efeee",
                "language": "sql"
            },
            "outputs": [
                {
                    "output_type": "display_data",
                    "data": {
                        "text/html": "(110 row(s) affected)"
                    },
                    "metadata": {}
                },
                {
                    "output_type": "display_data",
                    "data": {
                        "text/html": "Total execution time: 00:00:01.044"
                    },
                    "metadata": {}
                },
                {
                    "output_type": "execute_result",
                    "execution_count": 7,
                    "data": {
                        "application/vnd.dataresource+json": {
                            "schema": {
                                "fields": [
                                    {
                                        "name": "productCode"
                                    },
                                    {
                                        "name": "productName"
                                    },
                                    {
                                        "name": "unitPrice"
                                    },
                                    {
                                        "name": "totalItemsOrdered"
                                    },
                                    {
                                        "name": "totalSale"
                                    },
                                    {
                                        "name": "quantityInStock"
                                    }
                                ]
                            },
                            "data": [
                                {
                                    "productCode": "S18_3232",
                                    "productName": "1992 Ferrari 360 Spider red",
                                    "unitPrice": "77.90",
                                    "totalItemsOrdered": "1808",
                                    "totalSale": "140843.20",
                                    "quantityInStock": "8347"
                                },
                                {
                                    "productCode": "S24_3856",
                                    "productName": "1956 Porsche 356A Coupe",
                                    "unitPrice": "98.30",
                                    "totalItemsOrdered": "1052",
                                    "totalSale": "103411.60",
                                    "quantityInStock": "6600"
                                },
                                {
                                    "productCode": "S18_2238",
                                    "productName": "1998 Chrysler Plymouth Prowler",
                                    "unitPrice": "101.51",
                                    "totalItemsOrdered": "986",
                                    "totalSale": "100088.86",
                                    "quantityInStock": "4724"
                                },
                                {
                                    "productCode": "S12_1108",
                                    "productName": "2001 Ferrari Enzo",
                                    "unitPrice": "95.59",
                                    "totalItemsOrdered": "1019",
                                    "totalSale": "97406.21",
                                    "quantityInStock": "3619"
                                },
                                {
                                    "productCode": "S10_4962",
                                    "productName": "1962 LanciaA Delta 16V",
                                    "unitPrice": "103.42",
                                    "totalItemsOrdered": "932",
                                    "totalSale": "96387.44",
                                    "quantityInStock": "6791"
                                },
                                {
                                    "productCode": "S10_1949",
                                    "productName": "1952 Alpine Renault 1300",
                                    "unitPrice": "98.58",
                                    "totalItemsOrdered": "961",
                                    "totalSale": "94735.38",
                                    "quantityInStock": "7305"
                                },
                                {
                                    "productCode": "S18_4600",
                                    "productName": "1940s Ford truck",
                                    "unitPrice": "84.76",
                                    "totalItemsOrdered": "1061",
                                    "totalSale": "89930.36",
                                    "quantityInStock": "3128"
                                },
                                {
                                    "productCode": "S10_4698",
                                    "productName": "2003 Harley-Davidson Eagle Drag Bike",
                                    "unitPrice": "91.02",
                                    "totalItemsOrdered": "985",
                                    "totalSale": "89654.70",
                                    "quantityInStock": "5582"
                                },
                                {
                                    "productCode": "S12_1099",
                                    "productName": "1968 Ford Mustang",
                                    "unitPrice": "95.34",
                                    "totalItemsOrdered": "933",
                                    "totalSale": "88952.22",
                                    "quantityInStock": "68"
                                },
                                {
                                    "productCode": "S10_4757",
                                    "productName": "1972 Alfa Romeo GTA",
                                    "unitPrice": "85.68",
                                    "totalItemsOrdered": "1030",
                                    "totalSale": "88250.40",
                                    "quantityInStock": "3252"
                                },
                                {
                                    "productCode": "S18_4027",
                                    "productName": "1970 Triumph Spitfire",
                                    "unitPrice": "91.92",
                                    "totalItemsOrdered": "945",
                                    "totalSale": "86864.40",
                                    "quantityInStock": "5545"
                                },
                                {
                                    "productCode": "S18_1984",
                                    "productName": "1995 Honda Civic",
                                    "unitPrice": "93.89",
                                    "totalItemsOrdered": "917",
                                    "totalSale": "86097.13",
                                    "quantityInStock": "9772"
                                },
                                {
                                    "productCode": "S12_3148",
                                    "productName": "1969 Corvair Monza",
                                    "unitPrice": "89.14",
                                    "totalItemsOrdered": "963",
                                    "totalSale": "85841.82",
                                    "quantityInStock": "6906"
                                },
                                {
                                    "productCode": "S24_2011",
                                    "productName": "18th century schooner",
                                    "unitPrice": "82.34",
                                    "totalItemsOrdered": "1011",
                                    "totalSale": "83245.74",
                                    "quantityInStock": "1898"
                                },
                                {
                                    "productCode": "S18_1662",
                                    "productName": "1980s Black Hawk Helicopter",
                                    "unitPrice": "77.27",
                                    "totalItemsOrdered": "1040",
                                    "totalSale": "80360.80",
                                    "quantityInStock": "5330"
                                },
                                {
                                    "productCode": "S12_3891",
                                    "productName": "1969 Ford Falcon",
                                    "unitPrice": "83.05",
                                    "totalItemsOrdered": "965",
                                    "totalSale": "80143.25",
                                    "quantityInStock": "1049"
                                },
                                {
                                    "productCode": "S18_1749",
                                    "productName": "1917 Grand Touring Sedan",
                                    "unitPrice": "86.70",
                                    "totalItemsOrdered": "918",
                                    "totalSale": "79590.60",
                                    "quantityInStock": "2724"
                                },
                                {
                                    "productCode": "S18_1129",
                                    "productName": "1993 Mazda RX-7",
                                    "unitPrice": "83.51",
                                    "totalItemsOrdered": "947",
                                    "totalSale": "79083.97",
                                    "quantityInStock": "3975"
                                },
                                {
                                    "productCode": "S18_2319",
                                    "productName": "1964 Mercedes Tour Bus",
                                    "unitPrice": "74.86",
                                    "totalItemsOrdered": "1053",
                                    "totalSale": "78827.58",
                                    "quantityInStock": "8258"
                                },
                                {
                                    "productCode": "S12_1666",
                                    "productName": "1958 Setra Bus",
                                    "unitPrice": "77.90",
                                    "totalItemsOrdered": "972",
                                    "totalSale": "75718.80",
                                    "quantityInStock": "1579"
                                },
                                {
                                    "productCode": "S18_4721",
                                    "productName": "1957 Corvette Convertible",
                                    "unitPrice": "69.93",
                                    "totalItemsOrdered": "1013",
                                    "totalSale": "70839.09",
                                    "quantityInStock": "1249"
                                },
                                {
                                    "productCode": "S12_3380",
                                    "productName": "1968 Dodge Charger",
                                    "unitPrice": "75.16",
                                    "totalItemsOrdered": "925",
                                    "totalSale": "69523.00",
                                    "quantityInStock": "9123"
                                },
                                {
                                    "productCode": "S18_3856",
                                    "productName": "1941 Chevrolet Special Deluxe Cabriolet",
                                    "unitPrice": "64.58",
                                    "totalItemsOrdered": "1076",
                                    "totalSale": "69488.08",
                                    "quantityInStock": "2378"
                                },
                                {
                                    "productCode": "S10_2016",
                                    "productName": "1996 Moto Guzzi 1100i",
                                    "unitPrice": "68.99",
                                    "totalItemsOrdered": "999",
                                    "totalSale": "68921.01",
                                    "quantityInStock": "6625"
                                },
                                {
                                    "productCode": "S12_2823",
                                    "productName": "2002 Suzuki XREO",
                                    "unitPrice": "66.27",
                                    "totalItemsOrdered": "1028",
                                    "totalSale": "68125.56",
                                    "quantityInStock": "9997"
                                },
                                {
                                    "productCode": "S32_1374",
                                    "productName": "1997 BMW F650 ST",
                                    "unitPrice": "66.92",
                                    "totalItemsOrdered": "1014",
                                    "totalSale": "67856.88",
                                    "quantityInStock": "178"
                                },
                                {
                                    "productCode": "S700_2466",
                                    "productName": "America West Airlines B757-200",
                                    "unitPrice": "68.80",
                                    "totalItemsOrdered": "984",
                                    "totalSale": "67699.20",
                                    "quantityInStock": "9653"
                                },
                                {
                                    "productCode": "S18_1342",
                                    "productName": "1937 Lincoln Berline",
                                    "unitPrice": "60.62",
                                    "totalItemsOrdered": "1111",
                                    "totalSale": "67348.82",
                                    "quantityInStock": "8693"
                                },
                                {
                                    "productCode": "S18_3482",
                                    "productName": "1976 Ford Gran Torino",
                                    "unitPrice": "73.49",
                                    "totalItemsOrdered": "915",
                                    "totalSale": "67243.35",
                                    "quantityInStock": "9127"
                                },
                                {
                                    "productCode": "S50_1392",
                                    "productName": "Diamond T620 Semi-Skirted Tanker",
                                    "unitPrice": "68.29",
                                    "totalItemsOrdered": "979",
                                    "totalSale": "66855.91",
                                    "quantityInStock": "1016"
                                },
                                {
                                    "productCode": "S24_1785",
                                    "productName": "1928 British Royal Navy Airplane",
                                    "unitPrice": "66.74",
                                    "totalItemsOrdered": "972",
                                    "totalSale": "64871.28",
                                    "quantityInStock": "3627"
                                },
                                {
                                    "productCode": "S18_2795",
                                    "productName": "1928 Mercedes-Benz SSK",
                                    "unitPrice": "72.56",
                                    "totalItemsOrdered": "880",
                                    "totalSale": "63852.80",
                                    "quantityInStock": "548"
                                },
                                {
                                    "productCode": "S24_2887",
                                    "productName": "1952 Citroen-15CV",
                                    "unitPrice": "72.82",
                                    "totalItemsOrdered": "873",
                                    "totalSale": "63571.86",
                                    "quantityInStock": "1452"
                                },
                                {
                                    "productCode": "S24_2300",
                                    "productName": "1962 Volkswagen Microbus",
                                    "unitPrice": "61.34",
                                    "totalItemsOrdered": "1029",
                                    "totalSale": "63118.86",
                                    "quantityInStock": "2327"
                                },
                                {
                                    "productCode": "S18_2949",
                                    "productName": "1913 Ford Model T Speedster",
                                    "unitPrice": "60.78",
                                    "totalItemsOrdered": "1038",
                                    "totalSale": "63089.64",
                                    "quantityInStock": "4189"
                                },
                                {
                                    "productCode": "S24_1578",
                                    "productName": "1997 BMW R 1100 S",
                                    "unitPrice": "60.86",
                                    "totalItemsOrdered": "1033",
                                    "totalSale": "62868.38",
                                    "quantityInStock": "7003"
                                },
                                {
                                    "productCode": "S18_3259",
                                    "productName": "Collectable Wooden Train",
                                    "unitPrice": "67.56",
                                    "totalItemsOrdered": "918",
                                    "totalSale": "62020.08",
                                    "quantityInStock": "6450"
                                },
                                {
                                    "productCode": "S24_4048",
                                    "productName": "1992 Porsche Cayenne Turbo Silver",
                                    "unitPrice": "69.78",
                                    "totalItemsOrdered": "867",
                                    "totalSale": "60499.26",
                                    "quantityInStock": "6582"
                                },
                                {
                                    "productCode": "S18_3140",
                                    "productName": "1903 Ford Model A",
                                    "unitPrice": "68.30",
                                    "totalItemsOrdered": "883",
                                    "totalSale": "60308.90",
                                    "quantityInStock": "3913"
                                },
                                {
                                    "productCode": "S18_1589",
                                    "productName": "1965 Aston Martin DB5",
                                    "unitPrice": "65.96",
                                    "totalItemsOrdered": "914",
                                    "totalSale": "60287.44",
                                    "quantityInStock": "9042"
                                },
                                {
                                    "productCode": "S18_3685",
                                    "productName": "1948 Porsche Type 356 Roadster",
                                    "unitPrice": "62.16",
                                    "totalItemsOrdered": "948",
                                    "totalSale": "58927.68",
                                    "quantityInStock": "8990"
                                },
                                {
                                    "productCode": "S12_4473",
                                    "productName": "1957 Chevy Pickup",
                                    "unitPrice": "55.70",
                                    "totalItemsOrdered": "1056",
                                    "totalSale": "58819.20",
                                    "quantityInStock": "6125"
                                },
                                {
                                    "productCode": "S18_1097",
                                    "productName": "1940 Ford Pickup Truck",
                                    "unitPrice": "58.33",
                                    "totalItemsOrdered": "999",
                                    "totalSale": "58271.67",
                                    "quantityInStock": "2613"
                                },
                                {
                                    "productCode": "S12_4675",
                                    "productName": "1969 Dodge Charger",
                                    "unitPrice": "58.73",
                                    "totalItemsOrdered": "992",
                                    "totalSale": "58260.16",
                                    "quantityInStock": "7323"
                                },
                                {
                                    "productCode": "S700_2834",
                                    "productName": "ATA: B757-300",
                                    "unitPrice": "59.33",
                                    "totalItemsOrdered": "973",
                                    "totalSale": "57728.09",
                                    "quantityInStock": "7106"
                                },
                                {
                                    "productCode": "S18_3320",
                                    "productName": "1917 Maxwell Touring Car",
                                    "unitPrice": "57.54",
                                    "totalItemsOrdered": "992",
                                    "totalSale": "57079.68",
                                    "quantityInStock": "7913"
                                },
                                {
                                    "productCode": "S700_3167",
                                    "productName": "F/A 18 Hornet 1/72",
                                    "unitPrice": "54.40",
                                    "totalItemsOrdered": "1047",
                                    "totalSale": "56956.80",
                                    "quantityInStock": "551"
                                },
                                {
                                    "productCode": "S24_4258",
                                    "productName": "1936 Chrysler Airflow",
                                    "unitPrice": "57.46",
                                    "totalItemsOrdered": "983",
                                    "totalSale": "56483.18",
                                    "quantityInStock": "4710"
                                },
                                {
                                    "productCode": "S18_2325",
                                    "productName": "1932 Model A Ford J-Coupe",
                                    "unitPrice": "58.48",
                                    "totalItemsOrdered": "957",
                                    "totalSale": "55965.36",
                                    "quantityInStock": "9354"
                                },
                                {
                                    "productCode": "S24_3432",
                                    "productName": "2002 Chevy Corvette",
                                    "unitPrice": "62.11",
                                    "totalItemsOrdered": "894",
                                    "totalSale": "55526.34",
                                    "quantityInStock": "9446"
                                },
                                {
                                    "productCode": "S18_3136",
                                    "productName": "18th Century Vintage Horse Carriage",
                                    "unitPrice": "60.74",
                                    "totalItemsOrdered": "907",
                                    "totalSale": "55091.18",
                                    "quantityInStock": "5992"
                                },
                                {
                                    "productCode": "S18_1889",
                                    "productName": "1948 Porsche 356-A Roadster",
                                    "unitPrice": "53.90",
                                    "totalItemsOrdered": "972",
                                    "totalSale": "52390.80",
                                    "quantityInStock": "8826"
                                },
                                {
                                    "productCode": "S18_4522",
                                    "productName": "1904 Buick Runabout",
                                    "unitPrice": "52.66",
                                    "totalItemsOrdered": "990",
                                    "totalSale": "52133.40",
                                    "quantityInStock": "8290"
                                },
                                {
                                    "productCode": "S10_1678",
                                    "productName": "1969 Harley Davidson Ultimate Chopper",
                                    "unitPrice": "48.81",
                                    "totalItemsOrdered": "1057",
                                    "totalSale": "51592.17",
                                    "quantityInStock": "7933"
                                },
                                {
                                    "productCode": "S32_4485",
                                    "productName": "1974 Ducati 350 Mk3 Desmo",
                                    "unitPrice": "56.13",
                                    "totalItemsOrdered": "898",
                                    "totalSale": "50404.74",
                                    "quantityInStock": "3341"
                                },
                                {
                                    "productCode": "S18_3029",
                                    "productName": "1999 Yamaha Speed Boat",
                                    "unitPrice": "51.61",
                                    "totalItemsOrdered": "966",
                                    "totalSale": "49855.26",
                                    "quantityInStock": "4259"
                                },
                                {
                                    "productCode": "S32_1268",
                                    "productName": "1980’s GM Manhattan Express",
                                    "unitPrice": "53.93",
                                    "totalItemsOrdered": "911",
                                    "totalSale": "49130.23",
                                    "quantityInStock": "5099"
                                },
                                {
                                    "productCode": "S700_3505",
                                    "productName": "The Titanic",
                                    "unitPrice": "51.09",
                                    "totalItemsOrdered": "952",
                                    "totalSale": "48637.68",
                                    "quantityInStock": "1956"
                                },
                                {
                                    "productCode": "S18_2870",
                                    "productName": "1999 Indy 500 Monte Carlo SS",
                                    "unitPrice": "56.76",
                                    "totalItemsOrdered": "855",
                                    "totalSale": "48529.80",
                                    "quantityInStock": "8164"
                                },
                                {
                                    "productCode": "S700_3962",
                                    "productName": "The Queen Mary",
                                    "unitPrice": "53.63",
                                    "totalItemsOrdered": "896",
                                    "totalSale": "48052.48",
                                    "quantityInStock": "5088"
                                },
                                {
                                    "productCode": "S18_3278",
                                    "productName": "1969 Dodge Super Bee",
                                    "unitPrice": "49.05",
                                    "totalItemsOrdered": "974",
                                    "totalSale": "47774.70",
                                    "quantityInStock": "1917"
                                },
                                {
                                    "productCode": "S24_3151",
                                    "productName": "1912 Ford Model T Delivery Wagon",
                                    "unitPrice": "46.91",
                                    "totalItemsOrdered": "991",
                                    "totalSale": "46487.81",
                                    "quantityInStock": "9173"
                                },
                                {
                                    "productCode": "S700_2824",
                                    "productName": "1982 Camaro Z28",
                                    "unitPrice": "46.53",
                                    "totalItemsOrdered": "997",
                                    "totalSale": "46390.41",
                                    "quantityInStock": "6934"
                                },
                                {
                                    "productCode": "S700_1691",
                                    "productName": "American Airlines: B767-300",
                                    "unitPrice": "51.15",
                                    "totalItemsOrdered": "894",
                                    "totalSale": "45728.10",
                                    "quantityInStock": "5841"
                                },
                                {
                                    "productCode": "S18_2581",
                                    "productName": "P-51-D Mustang",
                                    "unitPrice": "49.00",
                                    "totalItemsOrdered": "917",
                                    "totalSale": "44933.00",
                                    "quantityInStock": "992"
                                },
                                {
                                    "productCode": "S24_3816",
                                    "productName": "1940 Ford Delivery Sedan",
                                    "unitPrice": "48.64",
                                    "totalItemsOrdered": "923",
                                    "totalSale": "44894.72",
                                    "quantityInStock": "6621"
                                },
                                {
                                    "productCode": "S24_2766",
                                    "productName": "1949 Jaguar XK 120",
                                    "unitPrice": "47.25",
                                    "totalItemsOrdered": "949",
                                    "totalSale": "44840.25",
                                    "quantityInStock": "2350"
                                },
                                {
                                    "productCode": "S24_2360",
                                    "productName": "1982 Ducati 900 Monster",
                                    "unitPrice": "47.10",
                                    "totalItemsOrdered": "947",
                                    "totalSale": "44603.70",
                                    "quantityInStock": "6840"
                                },
                                {
                                    "productCode": "S24_3191",
                                    "productName": "1969 Chevrolet Camaro Z28",
                                    "unitPrice": "50.51",
                                    "totalItemsOrdered": "870",
                                    "totalSale": "43943.70",
                                    "quantityInStock": "4695"
                                },
                                {
                                    "productCode": "S24_1046",
                                    "productName": "1970 Chevy Chevelle SS 454",
                                    "unitPrice": "49.24",
                                    "totalItemsOrdered": "803",
                                    "totalSale": "39539.72",
                                    "quantityInStock": "1005"
                                },
                                {
                                    "productCode": "S700_4002",
                                    "productName": "American Airlines: MD-11S",
                                    "unitPrice": "36.27",
                                    "totalItemsOrdered": "1085",
                                    "totalSale": "39352.95",
                                    "quantityInStock": "8820"
                                },
                                {
                                    "productCode": "S700_1938",
                                    "productName": "The Mayflower",
                                    "unitPrice": "43.30",
                                    "totalItemsOrdered": "898",
                                    "totalSale": "38883.40",
                                    "quantityInStock": "737"
                                },
                                {
                                    "productCode": "S24_2000",
                                    "productName": "1960 BSA Gold Star DBD34",
                                    "unitPrice": "37.32",
                                    "totalItemsOrdered": "1015",
                                    "totalSale": "37879.80",
                                    "quantityInStock": "15"
                                },
                                {
                                    "productCode": "S18_4409",
                                    "productName": "1932 Alfa Romeo 8C2300 Spider Sport",
                                    "unitPrice": "43.26",
                                    "totalItemsOrdered": "866",
                                    "totalSale": "37463.16",
                                    "quantityInStock": "6553"
                                },
                                {
                                    "productCode": "S24_3371",
                                    "productName": "1971 Alpine Renault 1600s",
                                    "unitPrice": "38.58",
                                    "totalItemsOrdered": "969",
                                    "totalSale": "37384.02",
                                    "quantityInStock": "7995"
                                },
                                {
                                    "productCode": "S24_4278",
                                    "productName": "1900s Vintage Tri-Plane",
                                    "unitPrice": "36.23",
                                    "totalItemsOrdered": "1009",
                                    "totalSale": "36556.07",
                                    "quantityInStock": "2756"
                                },
                                {
                                    "productCode": "S50_1514",
                                    "productName": "1962 City of Detroit Streetcar",
                                    "unitPrice": "37.49",
                                    "totalItemsOrdered": "966",
                                    "totalSale": "36215.34",
                                    "quantityInStock": "1645"
                                },
                                {
                                    "productCode": "S700_2047",
                                    "productName": "HMS Bounty",
                                    "unitPrice": "39.83",
                                    "totalItemsOrdered": "897",
                                    "totalSale": "35727.51",
                                    "quantityInStock": "3501"
                                },
                                {
                                    "productCode": "S700_2610",
                                    "productName": "The USS Constitution Ship",
                                    "unitPrice": "33.97",
                                    "totalItemsOrdered": "1020",
                                    "totalSale": "34649.40",
                                    "quantityInStock": "7083"
                                },
                                {
                                    "productCode": "S50_4713",
                                    "productName": "2002 Yamaha YZR M1",
                                    "unitPrice": "34.17",
                                    "totalItemsOrdered": "992",
                                    "totalSale": "33896.64",
                                    "quantityInStock": "600"
                                },
                                {
                                    "productCode": "S18_2957",
                                    "productName": "1934 Ford V8 Coupe",
                                    "unitPrice": "34.35",
                                    "totalItemsOrdered": "985",
                                    "totalSale": "33834.75",
                                    "quantityInStock": "5649"
                                },
                                {
                                    "productCode": "S32_3522",
                                    "productName": "1996 Peterbilt 379 Stake Bed with Outrigger",
                                    "unitPrice": "33.61",
                                    "totalItemsOrdered": "988",
                                    "totalSale": "33206.68",
                                    "quantityInStock": "814"
                                },
                                {
                                    "productCode": "S24_2841",
                                    "productName": "1900s Vintage Bi-Plane",
                                    "unitPrice": "34.25",
                                    "totalItemsOrdered": "940",
                                    "totalSale": "32195.00",
                                    "quantityInStock": "5942"
                                },
                                {
                                    "productCode": "S32_4289",
                                    "productName": "1928 Ford Phaeton Deluxe",
                                    "unitPrice": "33.02",
                                    "totalItemsOrdered": "972",
                                    "totalSale": "32095.44",
                                    "quantityInStock": "136"
                                },
                                {
                                    "productCode": "S72_3212",
                                    "productName": "Pont Yacht",
                                    "unitPrice": "33.30",
                                    "totalItemsOrdered": "958",
                                    "totalSale": "31901.40",
                                    "quantityInStock": "414"
                                },
                                {
                                    "productCode": "S700_1138",
                                    "productName": "The Schooner Bluenose",
                                    "unitPrice": "34.00",
                                    "totalItemsOrdered": "934",
                                    "totalSale": "31756.00",
                                    "quantityInStock": "1897"
                                },
                                {
                                    "productCode": "S18_3782",
                                    "productName": "1957 Vespa GS150",
                                    "unitPrice": "32.95",
                                    "totalItemsOrdered": "959",
                                    "totalSale": "31599.05",
                                    "quantityInStock": "7689"
                                },
                                {
                                    "productCode": "S24_1444",
                                    "productName": "1970 Dodge Coronet",
                                    "unitPrice": "32.37",
                                    "totalItemsOrdered": "976",
                                    "totalSale": "31593.12",
                                    "quantityInStock": "4074"
                                },
                                {
                                    "productCode": "S72_1253",
                                    "productName": "Boeing X-32A JSF",
                                    "unitPrice": "32.77",
                                    "totalItemsOrdered": "960",
                                    "totalSale": "31459.20",
                                    "quantityInStock": "4857"
                                },
                                {
                                    "productCode": "S24_3949",
                                    "productName": "Corsair F4U ( Bird Cage)",
                                    "unitPrice": "29.34",
                                    "totalItemsOrdered": "1051",
                                    "totalSale": "30836.34",
                                    "quantityInStock": "6812"
                                },
                                {
                                    "productCode": "S24_4620",
                                    "productName": "1961 Chevrolet Impala",
                                    "unitPrice": "32.33",
                                    "totalItemsOrdered": "941",
                                    "totalSale": "30422.53",
                                    "quantityInStock": "7869"
                                },
                                {
                                    "productCode": "S50_1341",
                                    "productName": "1930 Buick Marquette Phaeton",
                                    "unitPrice": "27.06",
                                    "totalItemsOrdered": "1074",
                                    "totalSale": "29062.44",
                                    "quantityInStock": "7062"
                                },
                                {
                                    "productCode": "S12_3990",
                                    "productName": "1970 Plymouth Hemi Cuda",
                                    "unitPrice": "31.92",
                                    "totalItemsOrdered": "900",
                                    "totalSale": "28728.00",
                                    "quantityInStock": "5663"
                                },
                                {
                                    "productCode": "S18_2248",
                                    "productName": "1911 Ford Town Car",
                                    "unitPrice": "33.30",
                                    "totalItemsOrdered": "832",
                                    "totalSale": "27705.60",
                                    "quantityInStock": "540"
                                },
                                {
                                    "productCode": "S24_1628",
                                    "productName": "1966 Shelby Cobra 427 S/C",
                                    "unitPrice": "29.18",
                                    "totalItemsOrdered": "915",
                                    "totalSale": "26699.70",
                                    "quantityInStock": "8197"
                                },
                                {
                                    "productCode": "S18_4933",
                                    "productName": "1957 Ford Thunderbird",
                                    "unitPrice": "34.21",
                                    "totalItemsOrdered": "767",
                                    "totalSale": "26239.07",
                                    "quantityInStock": "3209"
                                },
                                {
                                    "productCode": "S32_3207",
                                    "productName": "1950's Chicago Surface Lines Streetcar",
                                    "unitPrice": "26.72",
                                    "totalItemsOrdered": "934",
                                    "totalSale": "24956.48",
                                    "quantityInStock": "8601"
                                },
                                {
                                    "productCode": "S18_2432",
                                    "productName": "1926 Ford Fire Engine",
                                    "unitPrice": "24.92",
                                    "totalItemsOrdered": "998",
                                    "totalSale": "24870.16",
                                    "quantityInStock": "2018"
                                },
                                {
                                    "productCode": "S32_2509",
                                    "productName": "1954 Greyhound Scenicruiser",
                                    "unitPrice": "25.98",
                                    "totalItemsOrdered": "955",
                                    "totalSale": "24810.90",
                                    "quantityInStock": "2874"
                                },
                                {
                                    "productCode": "S18_1367",
                                    "productName": "1936 Mercedes-Benz 500K Special Roadster",
                                    "unitPrice": "24.26",
                                    "totalItemsOrdered": "960",
                                    "totalSale": "23289.60",
                                    "quantityInStock": "8635"
                                },
                                {
                                    "productCode": "S24_3420",
                                    "productName": "1937 Horch 930V Limousine",
                                    "unitPrice": "26.30",
                                    "totalItemsOrdered": "884",
                                    "totalSale": "23249.20",
                                    "quantityInStock": "2902"
                                },
                                {
                                    "productCode": "S18_4668",
                                    "productName": "1939 Cadillac Limousine",
                                    "unitPrice": "23.14",
                                    "totalItemsOrdered": "995",
                                    "totalSale": "23024.30",
                                    "quantityInStock": "6645"
                                },
                                {
                                    "productCode": "S18_2625",
                                    "productName": "1936 Harley Davidson El Knucklehead",
                                    "unitPrice": "24.23",
                                    "totalItemsOrdered": "945",
                                    "totalSale": "22897.35",
                                    "quantityInStock": "4357"
                                },
                                {
                                    "productCode": "S32_2206",
                                    "productName": "1982 Ducati 996 R",
                                    "unitPrice": "24.14",
                                    "totalItemsOrdered": "906",
                                    "totalSale": "21870.84",
                                    "quantityInStock": "9241"
                                },
                                {
                                    "productCode": "S24_1937",
                                    "productName": "1939 Chevrolet Deluxe Coupe",
                                    "unitPrice": "22.57",
                                    "totalItemsOrdered": "937",
                                    "totalSale": "21148.09",
                                    "quantityInStock": "7332"
                                },
                                {
                                    "productCode": "S24_2022",
                                    "productName": "1938 Cadillac V-16 Presidential Limousine",
                                    "unitPrice": "20.61",
                                    "totalItemsOrdered": "955",
                                    "totalSale": "19682.55",
                                    "quantityInStock": "2847"
                                },
                                {
                                    "productCode": "S24_3969",
                                    "productName": "1936 Mercedes Benz 500k Roadster",
                                    "unitPrice": "21.75",
                                    "totalItemsOrdered": "824",
                                    "totalSale": "17922.00",
                                    "quantityInStock": "2081"
                                },
                                {
                                    "productCode": "S24_2840",
                                    "productName": "1958 Chevy Corvette Limited Edition",
                                    "unitPrice": "15.91",
                                    "totalItemsOrdered": "983",
                                    "totalSale": "15639.53",
                                    "quantityInStock": "2542"
                                },
                                {
                                    "productCode": "S24_2972",
                                    "productName": "1982 Lamborghini Diablo",
                                    "unitPrice": "16.24",
                                    "totalItemsOrdered": "912",
                                    "totalSale": "14810.88",
                                    "quantityInStock": "7723"
                                },
                                {
                                    "productCode": "S18_3233",
                                    "productName": "1985 Toyota Supra",
                                    "unitPrice": "57.01",
                                    "totalItemsOrdered": "NULL",
                                    "totalSale": "NULL",
                                    "quantityInStock": "7733"
                                }
                            ]
                        },
                        "text/html": "<table><tr><th>productCode</th><th>productName</th><th>unitPrice</th><th>totalItemsOrdered</th><th>totalSale</th><th>quantityInStock</th></tr><tr><td>S18_3232</td><td>1992 Ferrari 360 Spider red</td><td>77.90</td><td>1808</td><td>140843.20</td><td>8347</td></tr><tr><td>S24_3856</td><td>1956 Porsche 356A Coupe</td><td>98.30</td><td>1052</td><td>103411.60</td><td>6600</td></tr><tr><td>S18_2238</td><td>1998 Chrysler Plymouth Prowler</td><td>101.51</td><td>986</td><td>100088.86</td><td>4724</td></tr><tr><td>S12_1108</td><td>2001 Ferrari Enzo</td><td>95.59</td><td>1019</td><td>97406.21</td><td>3619</td></tr><tr><td>S10_4962</td><td>1962 LanciaA Delta 16V</td><td>103.42</td><td>932</td><td>96387.44</td><td>6791</td></tr><tr><td>S10_1949</td><td>1952 Alpine Renault 1300</td><td>98.58</td><td>961</td><td>94735.38</td><td>7305</td></tr><tr><td>S18_4600</td><td>1940s Ford truck</td><td>84.76</td><td>1061</td><td>89930.36</td><td>3128</td></tr><tr><td>S10_4698</td><td>2003 Harley-Davidson Eagle Drag Bike</td><td>91.02</td><td>985</td><td>89654.70</td><td>5582</td></tr><tr><td>S12_1099</td><td>1968 Ford Mustang</td><td>95.34</td><td>933</td><td>88952.22</td><td>68</td></tr><tr><td>S10_4757</td><td>1972 Alfa Romeo GTA</td><td>85.68</td><td>1030</td><td>88250.40</td><td>3252</td></tr><tr><td>S18_4027</td><td>1970 Triumph Spitfire</td><td>91.92</td><td>945</td><td>86864.40</td><td>5545</td></tr><tr><td>S18_1984</td><td>1995 Honda Civic</td><td>93.89</td><td>917</td><td>86097.13</td><td>9772</td></tr><tr><td>S12_3148</td><td>1969 Corvair Monza</td><td>89.14</td><td>963</td><td>85841.82</td><td>6906</td></tr><tr><td>S24_2011</td><td>18th century schooner</td><td>82.34</td><td>1011</td><td>83245.74</td><td>1898</td></tr><tr><td>S18_1662</td><td>1980s Black Hawk Helicopter</td><td>77.27</td><td>1040</td><td>80360.80</td><td>5330</td></tr><tr><td>S12_3891</td><td>1969 Ford Falcon</td><td>83.05</td><td>965</td><td>80143.25</td><td>1049</td></tr><tr><td>S18_1749</td><td>1917 Grand Touring Sedan</td><td>86.70</td><td>918</td><td>79590.60</td><td>2724</td></tr><tr><td>S18_1129</td><td>1993 Mazda RX-7</td><td>83.51</td><td>947</td><td>79083.97</td><td>3975</td></tr><tr><td>S18_2319</td><td>1964 Mercedes Tour Bus</td><td>74.86</td><td>1053</td><td>78827.58</td><td>8258</td></tr><tr><td>S12_1666</td><td>1958 Setra Bus</td><td>77.90</td><td>972</td><td>75718.80</td><td>1579</td></tr><tr><td>S18_4721</td><td>1957 Corvette Convertible</td><td>69.93</td><td>1013</td><td>70839.09</td><td>1249</td></tr><tr><td>S12_3380</td><td>1968 Dodge Charger</td><td>75.16</td><td>925</td><td>69523.00</td><td>9123</td></tr><tr><td>S18_3856</td><td>1941 Chevrolet Special Deluxe Cabriolet</td><td>64.58</td><td>1076</td><td>69488.08</td><td>2378</td></tr><tr><td>S10_2016</td><td>1996 Moto Guzzi 1100i</td><td>68.99</td><td>999</td><td>68921.01</td><td>6625</td></tr><tr><td>S12_2823</td><td>2002 Suzuki XREO</td><td>66.27</td><td>1028</td><td>68125.56</td><td>9997</td></tr><tr><td>S32_1374</td><td>1997 BMW F650 ST</td><td>66.92</td><td>1014</td><td>67856.88</td><td>178</td></tr><tr><td>S700_2466</td><td>America West Airlines B757-200</td><td>68.80</td><td>984</td><td>67699.20</td><td>9653</td></tr><tr><td>S18_1342</td><td>1937 Lincoln Berline</td><td>60.62</td><td>1111</td><td>67348.82</td><td>8693</td></tr><tr><td>S18_3482</td><td>1976 Ford Gran Torino</td><td>73.49</td><td>915</td><td>67243.35</td><td>9127</td></tr><tr><td>S50_1392</td><td>Diamond T620 Semi-Skirted Tanker</td><td>68.29</td><td>979</td><td>66855.91</td><td>1016</td></tr><tr><td>S24_1785</td><td>1928 British Royal Navy Airplane</td><td>66.74</td><td>972</td><td>64871.28</td><td>3627</td></tr><tr><td>S18_2795</td><td>1928 Mercedes-Benz SSK</td><td>72.56</td><td>880</td><td>63852.80</td><td>548</td></tr><tr><td>S24_2887</td><td>1952 Citroen-15CV</td><td>72.82</td><td>873</td><td>63571.86</td><td>1452</td></tr><tr><td>S24_2300</td><td>1962 Volkswagen Microbus</td><td>61.34</td><td>1029</td><td>63118.86</td><td>2327</td></tr><tr><td>S18_2949</td><td>1913 Ford Model T Speedster</td><td>60.78</td><td>1038</td><td>63089.64</td><td>4189</td></tr><tr><td>S24_1578</td><td>1997 BMW R 1100 S</td><td>60.86</td><td>1033</td><td>62868.38</td><td>7003</td></tr><tr><td>S18_3259</td><td>Collectable Wooden Train</td><td>67.56</td><td>918</td><td>62020.08</td><td>6450</td></tr><tr><td>S24_4048</td><td>1992 Porsche Cayenne Turbo Silver</td><td>69.78</td><td>867</td><td>60499.26</td><td>6582</td></tr><tr><td>S18_3140</td><td>1903 Ford Model A</td><td>68.30</td><td>883</td><td>60308.90</td><td>3913</td></tr><tr><td>S18_1589</td><td>1965 Aston Martin DB5</td><td>65.96</td><td>914</td><td>60287.44</td><td>9042</td></tr><tr><td>S18_3685</td><td>1948 Porsche Type 356 Roadster</td><td>62.16</td><td>948</td><td>58927.68</td><td>8990</td></tr><tr><td>S12_4473</td><td>1957 Chevy Pickup</td><td>55.70</td><td>1056</td><td>58819.20</td><td>6125</td></tr><tr><td>S18_1097</td><td>1940 Ford Pickup Truck</td><td>58.33</td><td>999</td><td>58271.67</td><td>2613</td></tr><tr><td>S12_4675</td><td>1969 Dodge Charger</td><td>58.73</td><td>992</td><td>58260.16</td><td>7323</td></tr><tr><td>S700_2834</td><td>ATA: B757-300</td><td>59.33</td><td>973</td><td>57728.09</td><td>7106</td></tr><tr><td>S18_3320</td><td>1917 Maxwell Touring Car</td><td>57.54</td><td>992</td><td>57079.68</td><td>7913</td></tr><tr><td>S700_3167</td><td>F/A 18 Hornet 1/72</td><td>54.40</td><td>1047</td><td>56956.80</td><td>551</td></tr><tr><td>S24_4258</td><td>1936 Chrysler Airflow</td><td>57.46</td><td>983</td><td>56483.18</td><td>4710</td></tr><tr><td>S18_2325</td><td>1932 Model A Ford J-Coupe</td><td>58.48</td><td>957</td><td>55965.36</td><td>9354</td></tr><tr><td>S24_3432</td><td>2002 Chevy Corvette</td><td>62.11</td><td>894</td><td>55526.34</td><td>9446</td></tr><tr><td>S18_3136</td><td>18th Century Vintage Horse Carriage</td><td>60.74</td><td>907</td><td>55091.18</td><td>5992</td></tr><tr><td>S18_1889</td><td>1948 Porsche 356-A Roadster</td><td>53.90</td><td>972</td><td>52390.80</td><td>8826</td></tr><tr><td>S18_4522</td><td>1904 Buick Runabout</td><td>52.66</td><td>990</td><td>52133.40</td><td>8290</td></tr><tr><td>S10_1678</td><td>1969 Harley Davidson Ultimate Chopper</td><td>48.81</td><td>1057</td><td>51592.17</td><td>7933</td></tr><tr><td>S32_4485</td><td>1974 Ducati 350 Mk3 Desmo</td><td>56.13</td><td>898</td><td>50404.74</td><td>3341</td></tr><tr><td>S18_3029</td><td>1999 Yamaha Speed Boat</td><td>51.61</td><td>966</td><td>49855.26</td><td>4259</td></tr><tr><td>S32_1268</td><td>1980’s GM Manhattan Express</td><td>53.93</td><td>911</td><td>49130.23</td><td>5099</td></tr><tr><td>S700_3505</td><td>The Titanic</td><td>51.09</td><td>952</td><td>48637.68</td><td>1956</td></tr><tr><td>S18_2870</td><td>1999 Indy 500 Monte Carlo SS</td><td>56.76</td><td>855</td><td>48529.80</td><td>8164</td></tr><tr><td>S700_3962</td><td>The Queen Mary</td><td>53.63</td><td>896</td><td>48052.48</td><td>5088</td></tr><tr><td>S18_3278</td><td>1969 Dodge Super Bee</td><td>49.05</td><td>974</td><td>47774.70</td><td>1917</td></tr><tr><td>S24_3151</td><td>1912 Ford Model T Delivery Wagon</td><td>46.91</td><td>991</td><td>46487.81</td><td>9173</td></tr><tr><td>S700_2824</td><td>1982 Camaro Z28</td><td>46.53</td><td>997</td><td>46390.41</td><td>6934</td></tr><tr><td>S700_1691</td><td>American Airlines: B767-300</td><td>51.15</td><td>894</td><td>45728.10</td><td>5841</td></tr><tr><td>S18_2581</td><td>P-51-D Mustang</td><td>49.00</td><td>917</td><td>44933.00</td><td>992</td></tr><tr><td>S24_3816</td><td>1940 Ford Delivery Sedan</td><td>48.64</td><td>923</td><td>44894.72</td><td>6621</td></tr><tr><td>S24_2766</td><td>1949 Jaguar XK 120</td><td>47.25</td><td>949</td><td>44840.25</td><td>2350</td></tr><tr><td>S24_2360</td><td>1982 Ducati 900 Monster</td><td>47.10</td><td>947</td><td>44603.70</td><td>6840</td></tr><tr><td>S24_3191</td><td>1969 Chevrolet Camaro Z28</td><td>50.51</td><td>870</td><td>43943.70</td><td>4695</td></tr><tr><td>S24_1046</td><td>1970 Chevy Chevelle SS 454</td><td>49.24</td><td>803</td><td>39539.72</td><td>1005</td></tr><tr><td>S700_4002</td><td>American Airlines: MD-11S</td><td>36.27</td><td>1085</td><td>39352.95</td><td>8820</td></tr><tr><td>S700_1938</td><td>The Mayflower</td><td>43.30</td><td>898</td><td>38883.40</td><td>737</td></tr><tr><td>S24_2000</td><td>1960 BSA Gold Star DBD34</td><td>37.32</td><td>1015</td><td>37879.80</td><td>15</td></tr><tr><td>S18_4409</td><td>1932 Alfa Romeo 8C2300 Spider Sport</td><td>43.26</td><td>866</td><td>37463.16</td><td>6553</td></tr><tr><td>S24_3371</td><td>1971 Alpine Renault 1600s</td><td>38.58</td><td>969</td><td>37384.02</td><td>7995</td></tr><tr><td>S24_4278</td><td>1900s Vintage Tri-Plane</td><td>36.23</td><td>1009</td><td>36556.07</td><td>2756</td></tr><tr><td>S50_1514</td><td>1962 City of Detroit Streetcar</td><td>37.49</td><td>966</td><td>36215.34</td><td>1645</td></tr><tr><td>S700_2047</td><td>HMS Bounty</td><td>39.83</td><td>897</td><td>35727.51</td><td>3501</td></tr><tr><td>S700_2610</td><td>The USS Constitution Ship</td><td>33.97</td><td>1020</td><td>34649.40</td><td>7083</td></tr><tr><td>S50_4713</td><td>2002 Yamaha YZR M1</td><td>34.17</td><td>992</td><td>33896.64</td><td>600</td></tr><tr><td>S18_2957</td><td>1934 Ford V8 Coupe</td><td>34.35</td><td>985</td><td>33834.75</td><td>5649</td></tr><tr><td>S32_3522</td><td>1996 Peterbilt 379 Stake Bed with Outrigger</td><td>33.61</td><td>988</td><td>33206.68</td><td>814</td></tr><tr><td>S24_2841</td><td>1900s Vintage Bi-Plane</td><td>34.25</td><td>940</td><td>32195.00</td><td>5942</td></tr><tr><td>S32_4289</td><td>1928 Ford Phaeton Deluxe</td><td>33.02</td><td>972</td><td>32095.44</td><td>136</td></tr><tr><td>S72_3212</td><td>Pont Yacht</td><td>33.30</td><td>958</td><td>31901.40</td><td>414</td></tr><tr><td>S700_1138</td><td>The Schooner Bluenose</td><td>34.00</td><td>934</td><td>31756.00</td><td>1897</td></tr><tr><td>S18_3782</td><td>1957 Vespa GS150</td><td>32.95</td><td>959</td><td>31599.05</td><td>7689</td></tr><tr><td>S24_1444</td><td>1970 Dodge Coronet</td><td>32.37</td><td>976</td><td>31593.12</td><td>4074</td></tr><tr><td>S72_1253</td><td>Boeing X-32A JSF</td><td>32.77</td><td>960</td><td>31459.20</td><td>4857</td></tr><tr><td>S24_3949</td><td>Corsair F4U ( Bird Cage)</td><td>29.34</td><td>1051</td><td>30836.34</td><td>6812</td></tr><tr><td>S24_4620</td><td>1961 Chevrolet Impala</td><td>32.33</td><td>941</td><td>30422.53</td><td>7869</td></tr><tr><td>S50_1341</td><td>1930 Buick Marquette Phaeton</td><td>27.06</td><td>1074</td><td>29062.44</td><td>7062</td></tr><tr><td>S12_3990</td><td>1970 Plymouth Hemi Cuda</td><td>31.92</td><td>900</td><td>28728.00</td><td>5663</td></tr><tr><td>S18_2248</td><td>1911 Ford Town Car</td><td>33.30</td><td>832</td><td>27705.60</td><td>540</td></tr><tr><td>S24_1628</td><td>1966 Shelby Cobra 427 S/C</td><td>29.18</td><td>915</td><td>26699.70</td><td>8197</td></tr><tr><td>S18_4933</td><td>1957 Ford Thunderbird</td><td>34.21</td><td>767</td><td>26239.07</td><td>3209</td></tr><tr><td>S32_3207</td><td>1950&#39;s Chicago Surface Lines Streetcar</td><td>26.72</td><td>934</td><td>24956.48</td><td>8601</td></tr><tr><td>S18_2432</td><td>1926 Ford Fire Engine</td><td>24.92</td><td>998</td><td>24870.16</td><td>2018</td></tr><tr><td>S32_2509</td><td>1954 Greyhound Scenicruiser</td><td>25.98</td><td>955</td><td>24810.90</td><td>2874</td></tr><tr><td>S18_1367</td><td>1936 Mercedes-Benz 500K Special Roadster</td><td>24.26</td><td>960</td><td>23289.60</td><td>8635</td></tr><tr><td>S24_3420</td><td>1937 Horch 930V Limousine</td><td>26.30</td><td>884</td><td>23249.20</td><td>2902</td></tr><tr><td>S18_4668</td><td>1939 Cadillac Limousine</td><td>23.14</td><td>995</td><td>23024.30</td><td>6645</td></tr><tr><td>S18_2625</td><td>1936 Harley Davidson El Knucklehead</td><td>24.23</td><td>945</td><td>22897.35</td><td>4357</td></tr><tr><td>S32_2206</td><td>1982 Ducati 996 R</td><td>24.14</td><td>906</td><td>21870.84</td><td>9241</td></tr><tr><td>S24_1937</td><td>1939 Chevrolet Deluxe Coupe</td><td>22.57</td><td>937</td><td>21148.09</td><td>7332</td></tr><tr><td>S24_2022</td><td>1938 Cadillac V-16 Presidential Limousine</td><td>20.61</td><td>955</td><td>19682.55</td><td>2847</td></tr><tr><td>S24_3969</td><td>1936 Mercedes Benz 500k Roadster</td><td>21.75</td><td>824</td><td>17922.00</td><td>2081</td></tr><tr><td>S24_2840</td><td>1958 Chevy Corvette Limited Edition</td><td>15.91</td><td>983</td><td>15639.53</td><td>2542</td></tr><tr><td>S24_2972</td><td>1982 Lamborghini Diablo</td><td>16.24</td><td>912</td><td>14810.88</td><td>7723</td></tr><tr><td>S18_3233</td><td>1985 Toyota Supra</td><td>57.01</td><td>NULL</td><td>NULL</td><td>7733</td></tr></table>"
                    },
                    "metadata": {}
                }
            ],
            "execution_count": 7
        },
        {
            "cell_type": "markdown",
            "source": [
                "<span style=\"color: #008000;\"><b>Find out the shortage of products in inventory</b></span>"
            ],
            "metadata": {
                "azdata_cell_guid": "617eaa6a-7e15-408c-934b-dc00e54f3e92"
            },
            "attachments": {}
        },
        {
            "cell_type": "code",
            "source": [
                "--CREATE VIEW shortageInStock AS\n",
                "SELECT  productCode\n",
                "        ,productName\n",
                "        ,unitPrice\n",
                "        ,totalItemsOrdered\n",
                "        ,totalSale\n",
                "        ,quantityInStock\n",
                "        ,(quantityInStock - totalItemsOrdered) AS quantityShortage\n",
                "FROM productsByTotalSales\n",
                "GROUP BY    productCode\n",
                "            ,productName \n",
                "HAVING quantityShortage <= 0\n",
                "ORDER BY totalSale DESC;"
            ],
            "metadata": {
                "azdata_cell_guid": "cb4d12ab-91a3-471e-b30c-953b6c9db2c4",
                "language": "sql"
            },
            "outputs": [
                {
                    "output_type": "display_data",
                    "data": {
                        "text/html": "(11 row(s) affected)"
                    },
                    "metadata": {}
                },
                {
                    "output_type": "display_data",
                    "data": {
                        "text/html": "Total execution time: 00:00:01.044"
                    },
                    "metadata": {}
                },
                {
                    "output_type": "execute_result",
                    "execution_count": 8,
                    "data": {
                        "application/vnd.dataresource+json": {
                            "schema": {
                                "fields": [
                                    {
                                        "name": "productCode"
                                    },
                                    {
                                        "name": "productName"
                                    },
                                    {
                                        "name": "unitPrice"
                                    },
                                    {
                                        "name": "totalItemsOrdered"
                                    },
                                    {
                                        "name": "totalSale"
                                    },
                                    {
                                        "name": "quantityInStock"
                                    },
                                    {
                                        "name": "quantityShortage"
                                    }
                                ]
                            },
                            "data": [
                                {
                                    "productCode": "S12_1099",
                                    "productName": "1968 Ford Mustang",
                                    "unitPrice": "95.34",
                                    "totalItemsOrdered": "933",
                                    "totalSale": "88952.22",
                                    "quantityInStock": "68",
                                    "quantityShortage": "-865"
                                },
                                {
                                    "productCode": "S32_1374",
                                    "productName": "1997 BMW F650 ST",
                                    "unitPrice": "66.92",
                                    "totalItemsOrdered": "1014",
                                    "totalSale": "67856.88",
                                    "quantityInStock": "178",
                                    "quantityShortage": "-836"
                                },
                                {
                                    "productCode": "S18_2795",
                                    "productName": "1928 Mercedes-Benz SSK",
                                    "unitPrice": "72.56",
                                    "totalItemsOrdered": "880",
                                    "totalSale": "63852.80",
                                    "quantityInStock": "548",
                                    "quantityShortage": "-332"
                                },
                                {
                                    "productCode": "S700_3167",
                                    "productName": "F/A 18 Hornet 1/72",
                                    "unitPrice": "54.40",
                                    "totalItemsOrdered": "1047",
                                    "totalSale": "56956.80",
                                    "quantityInStock": "551",
                                    "quantityShortage": "-496"
                                },
                                {
                                    "productCode": "S700_1938",
                                    "productName": "The Mayflower",
                                    "unitPrice": "43.30",
                                    "totalItemsOrdered": "898",
                                    "totalSale": "38883.40",
                                    "quantityInStock": "737",
                                    "quantityShortage": "-161"
                                },
                                {
                                    "productCode": "S24_2000",
                                    "productName": "1960 BSA Gold Star DBD34",
                                    "unitPrice": "37.32",
                                    "totalItemsOrdered": "1015",
                                    "totalSale": "37879.80",
                                    "quantityInStock": "15",
                                    "quantityShortage": "-1000"
                                },
                                {
                                    "productCode": "S50_4713",
                                    "productName": "2002 Yamaha YZR M1",
                                    "unitPrice": "34.17",
                                    "totalItemsOrdered": "992",
                                    "totalSale": "33896.64",
                                    "quantityInStock": "600",
                                    "quantityShortage": "-392"
                                },
                                {
                                    "productCode": "S32_3522",
                                    "productName": "1996 Peterbilt 379 Stake Bed with Outrigger",
                                    "unitPrice": "33.61",
                                    "totalItemsOrdered": "988",
                                    "totalSale": "33206.68",
                                    "quantityInStock": "814",
                                    "quantityShortage": "-174"
                                },
                                {
                                    "productCode": "S32_4289",
                                    "productName": "1928 Ford Phaeton Deluxe",
                                    "unitPrice": "33.02",
                                    "totalItemsOrdered": "972",
                                    "totalSale": "32095.44",
                                    "quantityInStock": "136",
                                    "quantityShortage": "-836"
                                },
                                {
                                    "productCode": "S72_3212",
                                    "productName": "Pont Yacht",
                                    "unitPrice": "33.30",
                                    "totalItemsOrdered": "958",
                                    "totalSale": "31901.40",
                                    "quantityInStock": "414",
                                    "quantityShortage": "-544"
                                },
                                {
                                    "productCode": "S18_2248",
                                    "productName": "1911 Ford Town Car",
                                    "unitPrice": "33.30",
                                    "totalItemsOrdered": "832",
                                    "totalSale": "27705.60",
                                    "quantityInStock": "540",
                                    "quantityShortage": "-292"
                                }
                            ]
                        },
                        "text/html": "<table><tr><th>productCode</th><th>productName</th><th>unitPrice</th><th>totalItemsOrdered</th><th>totalSale</th><th>quantityInStock</th><th>quantityShortage</th></tr><tr><td>S12_1099</td><td>1968 Ford Mustang</td><td>95.34</td><td>933</td><td>88952.22</td><td>68</td><td>-865</td></tr><tr><td>S32_1374</td><td>1997 BMW F650 ST</td><td>66.92</td><td>1014</td><td>67856.88</td><td>178</td><td>-836</td></tr><tr><td>S18_2795</td><td>1928 Mercedes-Benz SSK</td><td>72.56</td><td>880</td><td>63852.80</td><td>548</td><td>-332</td></tr><tr><td>S700_3167</td><td>F/A 18 Hornet 1/72</td><td>54.40</td><td>1047</td><td>56956.80</td><td>551</td><td>-496</td></tr><tr><td>S700_1938</td><td>The Mayflower</td><td>43.30</td><td>898</td><td>38883.40</td><td>737</td><td>-161</td></tr><tr><td>S24_2000</td><td>1960 BSA Gold Star DBD34</td><td>37.32</td><td>1015</td><td>37879.80</td><td>15</td><td>-1000</td></tr><tr><td>S50_4713</td><td>2002 Yamaha YZR M1</td><td>34.17</td><td>992</td><td>33896.64</td><td>600</td><td>-392</td></tr><tr><td>S32_3522</td><td>1996 Peterbilt 379 Stake Bed with Outrigger</td><td>33.61</td><td>988</td><td>33206.68</td><td>814</td><td>-174</td></tr><tr><td>S32_4289</td><td>1928 Ford Phaeton Deluxe</td><td>33.02</td><td>972</td><td>32095.44</td><td>136</td><td>-836</td></tr><tr><td>S72_3212</td><td>Pont Yacht</td><td>33.30</td><td>958</td><td>31901.40</td><td>414</td><td>-544</td></tr><tr><td>S18_2248</td><td>1911 Ford Town Car</td><td>33.30</td><td>832</td><td>27705.60</td><td>540</td><td>-292</td></tr></table>"
                    },
                    "metadata": {}
                }
            ],
            "execution_count": 8
        },
        {
            "cell_type": "markdown",
            "source": [
                "<span style=\"color: #008000;\">--Drop from the product line or reduce the number of</span>"
            ],
            "metadata": {
                "azdata_cell_guid": "e55f5d5d-c956-4337-a87f-abbaf5ddb300"
            },
            "attachments": {}
        },
        {
            "cell_type": "code",
            "source": [
                "--CREATE VIEW lossMakingProducts AS\n",
                "SELECT *\n",
                "FROM productsByTotalSales\n",
                "ORDER BY totalSale ASC\n",
                "LIMIT 10;"
            ],
            "metadata": {
                "azdata_cell_guid": "9e93e70c-7a01-4b5d-b250-c71bdef68617",
                "language": "sql"
            },
            "outputs": [
                {
                    "output_type": "display_data",
                    "data": {
                        "text/html": "(10 row(s) affected)"
                    },
                    "metadata": {}
                },
                {
                    "output_type": "display_data",
                    "data": {
                        "text/html": "Total execution time: 00:00:01.039"
                    },
                    "metadata": {}
                },
                {
                    "output_type": "execute_result",
                    "metadata": {},
                    "execution_count": 7,
                    "data": {
                        "application/vnd.dataresource+json": {
                            "schema": {
                                "fields": [
                                    {
                                        "name": "productCode"
                                    },
                                    {
                                        "name": "productName"
                                    },
                                    {
                                        "name": "unitPrice"
                                    },
                                    {
                                        "name": "totalItemsOrdered"
                                    },
                                    {
                                        "name": "totalSale"
                                    },
                                    {
                                        "name": "quantityInStock"
                                    }
                                ]
                            },
                            "data": [
                                {
                                    "productCode": "S18_3233",
                                    "productName": "1985 Toyota Supra",
                                    "unitPrice": "57.01",
                                    "totalItemsOrdered": "NULL",
                                    "totalSale": "NULL",
                                    "quantityInStock": "7733"
                                },
                                {
                                    "productCode": "S24_2972",
                                    "productName": "1982 Lamborghini Diablo",
                                    "unitPrice": "16.24",
                                    "totalItemsOrdered": "912",
                                    "totalSale": "14810.88",
                                    "quantityInStock": "7723"
                                },
                                {
                                    "productCode": "S24_2840",
                                    "productName": "1958 Chevy Corvette Limited Edition",
                                    "unitPrice": "15.91",
                                    "totalItemsOrdered": "983",
                                    "totalSale": "15639.53",
                                    "quantityInStock": "2542"
                                },
                                {
                                    "productCode": "S24_3969",
                                    "productName": "1936 Mercedes Benz 500k Roadster",
                                    "unitPrice": "21.75",
                                    "totalItemsOrdered": "824",
                                    "totalSale": "17922.00",
                                    "quantityInStock": "2081"
                                },
                                {
                                    "productCode": "S24_2022",
                                    "productName": "1938 Cadillac V-16 Presidential Limousine",
                                    "unitPrice": "20.61",
                                    "totalItemsOrdered": "955",
                                    "totalSale": "19682.55",
                                    "quantityInStock": "2847"
                                },
                                {
                                    "productCode": "S24_1937",
                                    "productName": "1939 Chevrolet Deluxe Coupe",
                                    "unitPrice": "22.57",
                                    "totalItemsOrdered": "937",
                                    "totalSale": "21148.09",
                                    "quantityInStock": "7332"
                                },
                                {
                                    "productCode": "S32_2206",
                                    "productName": "1982 Ducati 996 R",
                                    "unitPrice": "24.14",
                                    "totalItemsOrdered": "906",
                                    "totalSale": "21870.84",
                                    "quantityInStock": "9241"
                                },
                                {
                                    "productCode": "S18_2625",
                                    "productName": "1936 Harley Davidson El Knucklehead",
                                    "unitPrice": "24.23",
                                    "totalItemsOrdered": "945",
                                    "totalSale": "22897.35",
                                    "quantityInStock": "4357"
                                },
                                {
                                    "productCode": "S18_4668",
                                    "productName": "1939 Cadillac Limousine",
                                    "unitPrice": "23.14",
                                    "totalItemsOrdered": "995",
                                    "totalSale": "23024.30",
                                    "quantityInStock": "6645"
                                },
                                {
                                    "productCode": "S24_3420",
                                    "productName": "1937 Horch 930V Limousine",
                                    "unitPrice": "26.30",
                                    "totalItemsOrdered": "884",
                                    "totalSale": "23249.20",
                                    "quantityInStock": "2902"
                                }
                            ]
                        },
                        "text/html": [
                            "<table>",
                            "<tr><th>productCode</th><th>productName</th><th>unitPrice</th><th>totalItemsOrdered</th><th>totalSale</th><th>quantityInStock</th></tr>",
                            "<tr><td>S18_3233</td><td>1985 Toyota Supra</td><td>57.01</td><td>NULL</td><td>NULL</td><td>7733</td></tr>",
                            "<tr><td>S24_2972</td><td>1982 Lamborghini Diablo</td><td>16.24</td><td>912</td><td>14810.88</td><td>7723</td></tr>",
                            "<tr><td>S24_2840</td><td>1958 Chevy Corvette Limited Edition</td><td>15.91</td><td>983</td><td>15639.53</td><td>2542</td></tr>",
                            "<tr><td>S24_3969</td><td>1936 Mercedes Benz 500k Roadster</td><td>21.75</td><td>824</td><td>17922.00</td><td>2081</td></tr>",
                            "<tr><td>S24_2022</td><td>1938 Cadillac V-16 Presidential Limousine</td><td>20.61</td><td>955</td><td>19682.55</td><td>2847</td></tr>",
                            "<tr><td>S24_1937</td><td>1939 Chevrolet Deluxe Coupe</td><td>22.57</td><td>937</td><td>21148.09</td><td>7332</td></tr>",
                            "<tr><td>S32_2206</td><td>1982 Ducati 996 R</td><td>24.14</td><td>906</td><td>21870.84</td><td>9241</td></tr>",
                            "<tr><td>S18_2625</td><td>1936 Harley Davidson El Knucklehead</td><td>24.23</td><td>945</td><td>22897.35</td><td>4357</td></tr>",
                            "<tr><td>S18_4668</td><td>1939 Cadillac Limousine</td><td>23.14</td><td>995</td><td>23024.30</td><td>6645</td></tr>",
                            "<tr><td>S24_3420</td><td>1937 Horch 930V Limousine</td><td>26.30</td><td>884</td><td>23249.20</td><td>2902</td></tr>",
                            "</table>"
                        ]
                    }
                }
            ],
            "execution_count": 7
        },
        {
            "cell_type": "markdown",
            "source": [
                "**Where is the most loss making 10 products stored**"
            ],
            "metadata": {
                "azdata_cell_guid": "11970d88-560d-4346-833a-7b8108d42a03"
            },
            "attachments": {}
        },
        {
            "cell_type": "code",
            "source": [
                "SELECT i.warehouseName, i.productCode, l.quantityInStock, i.inventoryAbundance\n",
                "FROM inventoryDetails i INNER JOIN lossMakingProducts l\n",
                "        ON i.productCode=l.productCode\n",
                "\n",
                ""
            ],
            "metadata": {
                "azdata_cell_guid": "9f8df56d-607c-45ce-bf00-3e6e8654480c",
                "language": "sql",
                "tags": []
            },
            "outputs": [
                {
                    "output_type": "display_data",
                    "data": {
                        "text/html": "(10 row(s) affected)"
                    },
                    "metadata": {}
                },
                {
                    "output_type": "display_data",
                    "data": {
                        "text/html": "Total execution time: 00:00:01.095"
                    },
                    "metadata": {}
                },
                {
                    "output_type": "execute_result",
                    "metadata": {},
                    "execution_count": 10,
                    "data": {
                        "application/vnd.dataresource+json": {
                            "schema": {
                                "fields": [
                                    {
                                        "name": "warehouseName"
                                    },
                                    {
                                        "name": "productCode"
                                    },
                                    {
                                        "name": "quantityInStock"
                                    },
                                    {
                                        "name": "inventoryAbundance"
                                    }
                                ]
                            },
                            "data": [
                                {
                                    "warehouseName": "East",
                                    "productCode": "S18_3233",
                                    "quantityInStock": "7733",
                                    "inventoryAbundance": "NULL"
                                },
                                {
                                    "warehouseName": "East",
                                    "productCode": "S24_2972",
                                    "quantityInStock": "7723",
                                    "inventoryAbundance": "6811"
                                },
                                {
                                    "warehouseName": "East",
                                    "productCode": "S24_2840",
                                    "quantityInStock": "2542",
                                    "inventoryAbundance": "1559"
                                },
                                {
                                    "warehouseName": "West",
                                    "productCode": "S24_3969",
                                    "quantityInStock": "2081",
                                    "inventoryAbundance": "1257"
                                },
                                {
                                    "warehouseName": "West",
                                    "productCode": "S24_2022",
                                    "quantityInStock": "2847",
                                    "inventoryAbundance": "1892"
                                },
                                {
                                    "warehouseName": "West",
                                    "productCode": "S24_1937",
                                    "quantityInStock": "7332",
                                    "inventoryAbundance": "6395"
                                },
                                {
                                    "warehouseName": "North",
                                    "productCode": "S32_2206",
                                    "quantityInStock": "9241",
                                    "inventoryAbundance": "8335"
                                },
                                {
                                    "warehouseName": "North",
                                    "productCode": "S18_2625",
                                    "quantityInStock": "4357",
                                    "inventoryAbundance": "3412"
                                },
                                {
                                    "warehouseName": "West",
                                    "productCode": "S18_4668",
                                    "quantityInStock": "6645",
                                    "inventoryAbundance": "5650"
                                },
                                {
                                    "warehouseName": "West",
                                    "productCode": "S24_3420",
                                    "quantityInStock": "2902",
                                    "inventoryAbundance": "2018"
                                }
                            ]
                        },
                        "text/html": [
                            "<table>",
                            "<tr><th>warehouseName</th><th>productCode</th><th>quantityInStock</th><th>inventoryAbundance</th></tr>",
                            "<tr><td>East</td><td>S18_3233</td><td>7733</td><td>NULL</td></tr>",
                            "<tr><td>East</td><td>S24_2972</td><td>7723</td><td>6811</td></tr>",
                            "<tr><td>East</td><td>S24_2840</td><td>2542</td><td>1559</td></tr>",
                            "<tr><td>West</td><td>S24_3969</td><td>2081</td><td>1257</td></tr>",
                            "<tr><td>West</td><td>S24_2022</td><td>2847</td><td>1892</td></tr>",
                            "<tr><td>West</td><td>S24_1937</td><td>7332</td><td>6395</td></tr>",
                            "<tr><td>North</td><td>S32_2206</td><td>9241</td><td>8335</td></tr>",
                            "<tr><td>North</td><td>S18_2625</td><td>4357</td><td>3412</td></tr>",
                            "<tr><td>West</td><td>S18_4668</td><td>6645</td><td>5650</td></tr>",
                            "<tr><td>West</td><td>S24_3420</td><td>2902</td><td>2018</td></tr>",
                            "</table>"
                        ]
                    }
                }
            ],
            "execution_count": 10
        },
        {
            "cell_type": "code",
            "source": [
                "Select *\n",
                "FROM inventoryDetails\n",
                "WHERE warehouseName = 'West'"
            ],
            "metadata": {
                "azdata_cell_guid": "9bce7200-babc-4c51-8e68-c289a8e24bc0",
                "language": "sql",
                "tags": []
            },
            "outputs": [
                {
                    "output_type": "display_data",
                    "data": {
                        "text/html": "(24 row(s) affected)"
                    },
                    "metadata": {}
                },
                {
                    "output_type": "display_data",
                    "data": {
                        "text/html": "Total execution time: 00:00:01.051"
                    },
                    "metadata": {}
                },
                {
                    "output_type": "execute_result",
                    "metadata": {},
                    "execution_count": 17,
                    "data": {
                        "application/vnd.dataresource+json": {
                            "schema": {
                                "fields": [
                                    {
                                        "name": "warehouseName"
                                    },
                                    {
                                        "name": "productCode"
                                    },
                                    {
                                        "name": "productName"
                                    },
                                    {
                                        "name": "inventoryTotal"
                                    },
                                    {
                                        "name": "inventoryAbundance"
                                    }
                                ]
                            },
                            "data": [
                                {
                                    "warehouseName": "West",
                                    "productCode": "S18_2325",
                                    "productName": "1932 Model A Ford J-Coupe",
                                    "inventoryTotal": "9354",
                                    "inventoryAbundance": "8397"
                                },
                                {
                                    "warehouseName": "West",
                                    "productCode": "S24_3151",
                                    "productName": "1912 Ford Model T Delivery Wagon",
                                    "inventoryTotal": "9173",
                                    "inventoryAbundance": "8182"
                                },
                                {
                                    "warehouseName": "West",
                                    "productCode": "S18_1342",
                                    "productName": "1937 Lincoln Berline",
                                    "inventoryTotal": "8693",
                                    "inventoryAbundance": "7582"
                                },
                                {
                                    "warehouseName": "West",
                                    "productCode": "S18_1367",
                                    "productName": "1936 Mercedes-Benz 500K Special Roadster",
                                    "inventoryTotal": "8635",
                                    "inventoryAbundance": "7675"
                                },
                                {
                                    "warehouseName": "West",
                                    "productCode": "S18_4522",
                                    "productName": "1904 Buick Runabout",
                                    "inventoryTotal": "8290",
                                    "inventoryAbundance": "7300"
                                },
                                {
                                    "warehouseName": "West",
                                    "productCode": "S18_3320",
                                    "productName": "1917 Maxwell Touring Car",
                                    "inventoryTotal": "7913",
                                    "inventoryAbundance": "6921"
                                },
                                {
                                    "warehouseName": "West",
                                    "productCode": "S24_1937",
                                    "productName": "1939 Chevrolet Deluxe Coupe",
                                    "inventoryTotal": "7332",
                                    "inventoryAbundance": "6395"
                                },
                                {
                                    "warehouseName": "West",
                                    "productCode": "S50_1341",
                                    "productName": "1930 Buick Marquette Phaeton",
                                    "inventoryTotal": "7062",
                                    "inventoryAbundance": "5988"
                                },
                                {
                                    "warehouseName": "West",
                                    "productCode": "S18_4668",
                                    "productName": "1939 Cadillac Limousine",
                                    "inventoryTotal": "6645",
                                    "inventoryAbundance": "5650"
                                },
                                {
                                    "warehouseName": "West",
                                    "productCode": "S24_3816",
                                    "productName": "1940 Ford Delivery Sedan",
                                    "inventoryTotal": "6621",
                                    "inventoryAbundance": "5698"
                                },
                                {
                                    "warehouseName": "West",
                                    "productCode": "S18_4409",
                                    "productName": "1932 Alfa Romeo 8C2300 Spider Sport",
                                    "inventoryTotal": "6553",
                                    "inventoryAbundance": "5687"
                                },
                                {
                                    "warehouseName": "West",
                                    "productCode": "S18_3136",
                                    "productName": "18th Century Vintage Horse Carriage",
                                    "inventoryTotal": "5992",
                                    "inventoryAbundance": "5085"
                                },
                                {
                                    "warehouseName": "West",
                                    "productCode": "S18_2957",
                                    "productName": "1934 Ford V8 Coupe",
                                    "inventoryTotal": "5649",
                                    "inventoryAbundance": "4664"
                                },
                                {
                                    "warehouseName": "West",
                                    "productCode": "S24_4258",
                                    "productName": "1936 Chrysler Airflow",
                                    "inventoryTotal": "4710",
                                    "inventoryAbundance": "3727"
                                },
                                {
                                    "warehouseName": "West",
                                    "productCode": "S18_2949",
                                    "productName": "1913 Ford Model T Speedster",
                                    "inventoryTotal": "4189",
                                    "inventoryAbundance": "3151"
                                },
                                {
                                    "warehouseName": "West",
                                    "productCode": "S18_3140",
                                    "productName": "1903 Ford Model A",
                                    "inventoryTotal": "3913",
                                    "inventoryAbundance": "3030"
                                },
                                {
                                    "warehouseName": "West",
                                    "productCode": "S24_3420",
                                    "productName": "1937 Horch 930V Limousine",
                                    "inventoryTotal": "2902",
                                    "inventoryAbundance": "2018"
                                },
                                {
                                    "warehouseName": "West",
                                    "productCode": "S24_2022",
                                    "productName": "1938 Cadillac V-16 Presidential Limousine",
                                    "inventoryTotal": "2847",
                                    "inventoryAbundance": "1892"
                                },
                                {
                                    "warehouseName": "West",
                                    "productCode": "S18_1749",
                                    "productName": "1917 Grand Touring Sedan",
                                    "inventoryTotal": "2724",
                                    "inventoryAbundance": "1806"
                                },
                                {
                                    "warehouseName": "West",
                                    "productCode": "S18_3856",
                                    "productName": "1941 Chevrolet Special Deluxe Cabriolet",
                                    "inventoryTotal": "2378",
                                    "inventoryAbundance": "1302"
                                },
                                {
                                    "warehouseName": "West",
                                    "productCode": "S24_3969",
                                    "productName": "1936 Mercedes Benz 500k Roadster",
                                    "inventoryTotal": "2081",
                                    "inventoryAbundance": "1257"
                                },
                                {
                                    "warehouseName": "West",
                                    "productCode": "S18_2795",
                                    "productName": "1928 Mercedes-Benz SSK",
                                    "inventoryTotal": "548",
                                    "inventoryAbundance": "-332"
                                },
                                {
                                    "warehouseName": "West",
                                    "productCode": "S18_2248",
                                    "productName": "1911 Ford Town Car",
                                    "inventoryTotal": "540",
                                    "inventoryAbundance": "-292"
                                },
                                {
                                    "warehouseName": "West",
                                    "productCode": "S32_4289",
                                    "productName": "1928 Ford Phaeton Deluxe",
                                    "inventoryTotal": "136",
                                    "inventoryAbundance": "-836"
                                }
                            ]
                        },
                        "text/html": [
                            "<table>",
                            "<tr><th>warehouseName</th><th>productCode</th><th>productName</th><th>inventoryTotal</th><th>inventoryAbundance</th></tr>",
                            "<tr><td>West</td><td>S18_2325</td><td>1932 Model A Ford J-Coupe</td><td>9354</td><td>8397</td></tr>",
                            "<tr><td>West</td><td>S24_3151</td><td>1912 Ford Model T Delivery Wagon</td><td>9173</td><td>8182</td></tr>",
                            "<tr><td>West</td><td>S18_1342</td><td>1937 Lincoln Berline</td><td>8693</td><td>7582</td></tr>",
                            "<tr><td>West</td><td>S18_1367</td><td>1936 Mercedes-Benz 500K Special Roadster</td><td>8635</td><td>7675</td></tr>",
                            "<tr><td>West</td><td>S18_4522</td><td>1904 Buick Runabout</td><td>8290</td><td>7300</td></tr>",
                            "<tr><td>West</td><td>S18_3320</td><td>1917 Maxwell Touring Car</td><td>7913</td><td>6921</td></tr>",
                            "<tr><td>West</td><td>S24_1937</td><td>1939 Chevrolet Deluxe Coupe</td><td>7332</td><td>6395</td></tr>",
                            "<tr><td>West</td><td>S50_1341</td><td>1930 Buick Marquette Phaeton</td><td>7062</td><td>5988</td></tr>",
                            "<tr><td>West</td><td>S18_4668</td><td>1939 Cadillac Limousine</td><td>6645</td><td>5650</td></tr>",
                            "<tr><td>West</td><td>S24_3816</td><td>1940 Ford Delivery Sedan</td><td>6621</td><td>5698</td></tr>",
                            "<tr><td>West</td><td>S18_4409</td><td>1932 Alfa Romeo 8C2300 Spider Sport</td><td>6553</td><td>5687</td></tr>",
                            "<tr><td>West</td><td>S18_3136</td><td>18th Century Vintage Horse Carriage</td><td>5992</td><td>5085</td></tr>",
                            "<tr><td>West</td><td>S18_2957</td><td>1934 Ford V8 Coupe</td><td>5649</td><td>4664</td></tr>",
                            "<tr><td>West</td><td>S24_4258</td><td>1936 Chrysler Airflow</td><td>4710</td><td>3727</td></tr>",
                            "<tr><td>West</td><td>S18_2949</td><td>1913 Ford Model T Speedster</td><td>4189</td><td>3151</td></tr>",
                            "<tr><td>West</td><td>S18_3140</td><td>1903 Ford Model A</td><td>3913</td><td>3030</td></tr>",
                            "<tr><td>West</td><td>S24_3420</td><td>1937 Horch 930V Limousine</td><td>2902</td><td>2018</td></tr>",
                            "<tr><td>West</td><td>S24_2022</td><td>1938 Cadillac V-16 Presidential Limousine</td><td>2847</td><td>1892</td></tr>",
                            "<tr><td>West</td><td>S18_1749</td><td>1917 Grand Touring Sedan</td><td>2724</td><td>1806</td></tr>",
                            "<tr><td>West</td><td>S18_3856</td><td>1941 Chevrolet Special Deluxe Cabriolet</td><td>2378</td><td>1302</td></tr>",
                            "<tr><td>West</td><td>S24_3969</td><td>1936 Mercedes Benz 500k Roadster</td><td>2081</td><td>1257</td></tr>",
                            "<tr><td>West</td><td>S18_2795</td><td>1928 Mercedes-Benz SSK</td><td>548</td><td>-332</td></tr>",
                            "<tr><td>West</td><td>S18_2248</td><td>1911 Ford Town Car</td><td>540</td><td>-292</td></tr>",
                            "<tr><td>West</td><td>S32_4289</td><td>1928 Ford Phaeton Deluxe</td><td>136</td><td>-836</td></tr>",
                            "</table>"
                        ]
                    }
                }
            ],
            "execution_count": 17
        },
        {
            "cell_type": "markdown",
            "source": [
                ""
            ],
            "metadata": {
                "azdata_cell_guid": "6b1f7545-5c3c-4525-b8ba-23db28cd33d8"
            }
        }
    ]
}